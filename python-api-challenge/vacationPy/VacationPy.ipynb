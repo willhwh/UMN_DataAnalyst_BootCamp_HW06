{
 "cells": [
  {
   "cell_type": "markdown",
   "metadata": {},
   "source": [
    "# VacationPy\n",
    "----\n",
    "\n",
    "#### Note\n",
    "* Instructions have been included for each segment. You do not have to follow them exactly, but they are included to help you think through the steps."
   ]
  },
  {
   "cell_type": "code",
   "execution_count": 33,
   "metadata": {},
   "outputs": [],
   "source": [
    "# Dependencies and Setup\n",
    "import matplotlib.pyplot as plt\n",
    "import pandas as pd\n",
    "import numpy as np\n",
    "import requests\n",
    "import gmaps\n",
    "import os\n",
    "import json\n",
    "\n",
    "# Import API key\n",
    "from api_keys import g_key"
   ]
  },
  {
   "cell_type": "markdown",
   "metadata": {},
   "source": [
    "### Store Part I results into DataFrame\n",
    "* Load the csv exported in Part I to a DataFrame"
   ]
  },
  {
   "cell_type": "code",
   "execution_count": 34,
   "metadata": {
    "scrolled": true
   },
   "outputs": [
    {
     "data": {
      "text/html": [
       "<div>\n",
       "<style scoped>\n",
       "    .dataframe tbody tr th:only-of-type {\n",
       "        vertical-align: middle;\n",
       "    }\n",
       "\n",
       "    .dataframe tbody tr th {\n",
       "        vertical-align: top;\n",
       "    }\n",
       "\n",
       "    .dataframe thead th {\n",
       "        text-align: right;\n",
       "    }\n",
       "</style>\n",
       "<table border=\"1\" class=\"dataframe\">\n",
       "  <thead>\n",
       "    <tr style=\"text-align: right;\">\n",
       "      <th></th>\n",
       "      <th>City</th>\n",
       "      <th>Lat</th>\n",
       "      <th>Lng</th>\n",
       "      <th>Max Temp</th>\n",
       "      <th>Humidity</th>\n",
       "      <th>Cloudiness</th>\n",
       "      <th>Wind Speed</th>\n",
       "      <th>Country</th>\n",
       "      <th>Date</th>\n",
       "    </tr>\n",
       "  </thead>\n",
       "  <tbody>\n",
       "    <tr>\n",
       "      <th>0</th>\n",
       "      <td>kisangani</td>\n",
       "      <td>0.52</td>\n",
       "      <td>25.20</td>\n",
       "      <td>71.10</td>\n",
       "      <td>91.0</td>\n",
       "      <td>99.0</td>\n",
       "      <td>0.98</td>\n",
       "      <td>CD</td>\n",
       "      <td>1.595375e+09</td>\n",
       "    </tr>\n",
       "    <tr>\n",
       "      <th>1</th>\n",
       "      <td>bonavista</td>\n",
       "      <td>48.65</td>\n",
       "      <td>-53.11</td>\n",
       "      <td>64.44</td>\n",
       "      <td>76.0</td>\n",
       "      <td>68.0</td>\n",
       "      <td>8.25</td>\n",
       "      <td>CA</td>\n",
       "      <td>1.595375e+09</td>\n",
       "    </tr>\n",
       "    <tr>\n",
       "      <th>2</th>\n",
       "      <td>taoudenni</td>\n",
       "      <td>22.68</td>\n",
       "      <td>-3.98</td>\n",
       "      <td>102.11</td>\n",
       "      <td>11.0</td>\n",
       "      <td>0.0</td>\n",
       "      <td>14.03</td>\n",
       "      <td>ML</td>\n",
       "      <td>1.595375e+09</td>\n",
       "    </tr>\n",
       "    <tr>\n",
       "      <th>3</th>\n",
       "      <td>bethel</td>\n",
       "      <td>41.37</td>\n",
       "      <td>-73.41</td>\n",
       "      <td>84.20</td>\n",
       "      <td>48.0</td>\n",
       "      <td>1.0</td>\n",
       "      <td>5.82</td>\n",
       "      <td>US</td>\n",
       "      <td>1.595375e+09</td>\n",
       "    </tr>\n",
       "    <tr>\n",
       "      <th>4</th>\n",
       "      <td>punta arenas</td>\n",
       "      <td>-53.15</td>\n",
       "      <td>-70.92</td>\n",
       "      <td>23.00</td>\n",
       "      <td>92.0</td>\n",
       "      <td>9.0</td>\n",
       "      <td>2.24</td>\n",
       "      <td>CL</td>\n",
       "      <td>1.595375e+09</td>\n",
       "    </tr>\n",
       "  </tbody>\n",
       "</table>\n",
       "</div>"
      ],
      "text/plain": [
       "           City    Lat    Lng  Max Temp  Humidity  Cloudiness  Wind Speed  \\\n",
       "0     kisangani   0.52  25.20     71.10      91.0        99.0        0.98   \n",
       "1     bonavista  48.65 -53.11     64.44      76.0        68.0        8.25   \n",
       "2     taoudenni  22.68  -3.98    102.11      11.0         0.0       14.03   \n",
       "3        bethel  41.37 -73.41     84.20      48.0         1.0        5.82   \n",
       "4  punta arenas -53.15 -70.92     23.00      92.0         9.0        2.24   \n",
       "\n",
       "  Country          Date  \n",
       "0      CD  1.595375e+09  \n",
       "1      CA  1.595375e+09  \n",
       "2      ML  1.595375e+09  \n",
       "3      US  1.595375e+09  \n",
       "4      CL  1.595375e+09  "
      ]
     },
     "execution_count": 34,
     "metadata": {},
     "output_type": "execute_result"
    }
   ],
   "source": [
    "data=pd.read_csv(\"../weatherPy/weather_data.csv\")\n",
    "data.drop('Unnamed: 0',axis=1,inplace=True)\n",
    "data.head()"
   ]
  },
  {
   "cell_type": "markdown",
   "metadata": {},
   "source": [
    "### Humidity Heatmap\n",
    "* Configure gmaps.\n",
    "* Use the Lat and Lng as locations and Humidity as the weight.\n",
    "* Add Heatmap layer to map."
   ]
  },
  {
   "cell_type": "code",
   "execution_count": 35,
   "metadata": {},
   "outputs": [
    {
     "data": {
      "application/vnd.jupyter.widget-view+json": {
       "model_id": "52d71412aa1741fe973b42c40f02675d",
       "version_major": 2,
       "version_minor": 0
      },
      "text/plain": [
       "Figure(layout=FigureLayout(border='1px solid black', height='300px', margin='0 auto 0 auto', padding='1px', wi…"
      ]
     },
     "metadata": {},
     "output_type": "display_data"
    }
   ],
   "source": [
    "gmaps.configure(api_key=g_key)\n",
    "#configure gamps\n",
    "figure_layout = {\n",
    "    'width': '400px',\n",
    "    'height': '300px',\n",
    "    'border': '1px solid black',\n",
    "    'padding': '1px',\n",
    "    'margin': '0 auto 0 auto'\n",
    "}\n",
    "center=(40.416775,-3.703790) #spain as the center\n",
    "zoom_level=5\n",
    "fig = gmaps.figure(layout=figure_layout,zoom_level=zoom_level,center=center)\n",
    "fig"
   ]
  },
  {
   "cell_type": "code",
   "execution_count": 36,
   "metadata": {},
   "outputs": [],
   "source": [
    "locations=[(lat,lng) for lat,lng in zip(data['Lat'],data['Lng'])]\n",
    "humidity=data['Humidity']"
   ]
  },
  {
   "cell_type": "code",
   "execution_count": 37,
   "metadata": {},
   "outputs": [
    {
     "data": {
      "application/vnd.jupyter.widget-view+json": {
       "model_id": "52d71412aa1741fe973b42c40f02675d",
       "version_major": 2,
       "version_minor": 0
      },
      "text/plain": [
       "Figure(layout=FigureLayout(border='1px solid black', height='300px', margin='0 auto 0 auto', padding='1px', wi…"
      ]
     },
     "metadata": {},
     "output_type": "display_data"
    }
   ],
   "source": [
    "heat_layer = gmaps.heatmap_layer(locations=locations, weights=humidity, \n",
    "                                 dissipating=False, max_intensity=100,\n",
    "                                 point_radius = 1)\n",
    "\n",
    "fig.add_layer(heat_layer)\n",
    "\n",
    "fig"
   ]
  },
  {
   "cell_type": "markdown",
   "metadata": {},
   "source": [
    "### Create new DataFrame fitting weather criteria\n",
    "* Narrow down the cities to fit weather conditions.\n",
    "* Drop any rows will null values."
   ]
  },
  {
   "cell_type": "markdown",
   "metadata": {},
   "source": [
    "Narrow down the DataFrame to find your own ideal weather conditions. For example:\n",
    "Maximum temperature lower than 80 degrees but higher than 70.\n",
    "Wind speed less than 10 mph.\n",
    "Zero cloudiness.\n",
    "Note: Feel free to adjust to your specifications but be sure to limit the number of rows returned by your API requests to a reasonable number like 10.\n",
    "\n",
    "\n",
    "\n",
    "\n"
   ]
  },
  {
   "cell_type": "code",
   "execution_count": 38,
   "metadata": {},
   "outputs": [
    {
     "name": "stdout",
     "output_type": "stream",
     "text": [
      " 39 ideal options\n"
     ]
    },
    {
     "data": {
      "text/html": [
       "<div>\n",
       "<style scoped>\n",
       "    .dataframe tbody tr th:only-of-type {\n",
       "        vertical-align: middle;\n",
       "    }\n",
       "\n",
       "    .dataframe tbody tr th {\n",
       "        vertical-align: top;\n",
       "    }\n",
       "\n",
       "    .dataframe thead th {\n",
       "        text-align: right;\n",
       "    }\n",
       "</style>\n",
       "<table border=\"1\" class=\"dataframe\">\n",
       "  <thead>\n",
       "    <tr style=\"text-align: right;\">\n",
       "      <th></th>\n",
       "      <th>City</th>\n",
       "      <th>Lat</th>\n",
       "      <th>Lng</th>\n",
       "      <th>Max Temp</th>\n",
       "      <th>Humidity</th>\n",
       "      <th>Cloudiness</th>\n",
       "      <th>Wind Speed</th>\n",
       "      <th>Country</th>\n",
       "      <th>Date</th>\n",
       "    </tr>\n",
       "  </thead>\n",
       "  <tbody>\n",
       "    <tr>\n",
       "      <th>17</th>\n",
       "      <td>lata</td>\n",
       "      <td>40.16</td>\n",
       "      <td>-8.33</td>\n",
       "      <td>66.99</td>\n",
       "      <td>90.0</td>\n",
       "      <td>23.0</td>\n",
       "      <td>3.76</td>\n",
       "      <td>PT</td>\n",
       "      <td>1.595375e+09</td>\n",
       "    </tr>\n",
       "    <tr>\n",
       "      <th>64</th>\n",
       "      <td>ribeira grande</td>\n",
       "      <td>38.52</td>\n",
       "      <td>-28.70</td>\n",
       "      <td>69.39</td>\n",
       "      <td>75.0</td>\n",
       "      <td>22.0</td>\n",
       "      <td>3.69</td>\n",
       "      <td>PT</td>\n",
       "      <td>1.595375e+09</td>\n",
       "    </tr>\n",
       "    <tr>\n",
       "      <th>102</th>\n",
       "      <td>east london</td>\n",
       "      <td>-33.02</td>\n",
       "      <td>27.91</td>\n",
       "      <td>65.57</td>\n",
       "      <td>26.0</td>\n",
       "      <td>0.0</td>\n",
       "      <td>5.35</td>\n",
       "      <td>ZA</td>\n",
       "      <td>1.595375e+09</td>\n",
       "    </tr>\n",
       "    <tr>\n",
       "      <th>124</th>\n",
       "      <td>yinchuan</td>\n",
       "      <td>38.47</td>\n",
       "      <td>106.27</td>\n",
       "      <td>73.38</td>\n",
       "      <td>59.0</td>\n",
       "      <td>50.0</td>\n",
       "      <td>7.31</td>\n",
       "      <td>CN</td>\n",
       "      <td>1.595375e+09</td>\n",
       "    </tr>\n",
       "    <tr>\n",
       "      <th>148</th>\n",
       "      <td>xinqing</td>\n",
       "      <td>48.23</td>\n",
       "      <td>129.50</td>\n",
       "      <td>74.14</td>\n",
       "      <td>46.0</td>\n",
       "      <td>51.0</td>\n",
       "      <td>4.54</td>\n",
       "      <td>CN</td>\n",
       "      <td>1.595375e+09</td>\n",
       "    </tr>\n",
       "  </tbody>\n",
       "</table>\n",
       "</div>"
      ],
      "text/plain": [
       "               City    Lat     Lng  Max Temp  Humidity  Cloudiness  \\\n",
       "17             lata  40.16   -8.33     66.99      90.0        23.0   \n",
       "64   ribeira grande  38.52  -28.70     69.39      75.0        22.0   \n",
       "102     east london -33.02   27.91     65.57      26.0         0.0   \n",
       "124        yinchuan  38.47  106.27     73.38      59.0        50.0   \n",
       "148         xinqing  48.23  129.50     74.14      46.0        51.0   \n",
       "\n",
       "     Wind Speed Country          Date  \n",
       "17         3.76      PT  1.595375e+09  \n",
       "64         3.69      PT  1.595375e+09  \n",
       "102        5.35      ZA  1.595375e+09  \n",
       "124        7.31      CN  1.595375e+09  \n",
       "148        4.54      CN  1.595375e+09  "
      ]
     },
     "execution_count": 38,
     "metadata": {},
     "output_type": "execute_result"
    }
   ],
   "source": [
    "conditions=(data['Max Temp']<75)&(data['Max Temp']>65)&(data['Wind Speed']<8)&(data['Cloudiness']<60)\n",
    "hh_data=data[conditions]\n",
    "print(f\" {len(hh_data)} ideal options\")\n",
    "hh_data.head()"
   ]
  },
  {
   "cell_type": "code",
   "execution_count": 46,
   "metadata": {},
   "outputs": [
    {
     "data": {
      "application/vnd.jupyter.widget-view+json": {
       "model_id": "23a7d2ce690b492a9d6c95a1f4911790",
       "version_major": 2,
       "version_minor": 0
      },
      "text/plain": [
       "Figure(layout=FigureLayout(border='1px solid black', height='300px', margin='0 auto 0 auto', padding='1px', wi…"
      ]
     },
     "metadata": {},
     "output_type": "display_data"
    }
   ],
   "source": [
    "#configure gamps\n",
    "figure_layout = {\n",
    "    'width': '400px',\n",
    "    'height': '300px',\n",
    "    'border': '1px solid black',\n",
    "    'padding': '1px',\n",
    "    'margin': '0 auto 0 auto'\n",
    "}\n",
    "fig = gmaps.figure(layout=figure_layout,center=center,zoom_level=zoom_level)\n",
    "fig\n",
    "\n",
    "locations=[(lat,lng) for lat,lng in zip(hh_data['Lat'],hh_data['Lng'])]\n",
    "humidity=hh_data['Humidity']\n",
    "heat_layer = gmaps.heatmap_layer(locations=locations, weights=humidity, \n",
    "                                 dissipating=False, max_intensity=100,\n",
    "                                 point_radius = 1)\n",
    "\n",
    "fig.add_layer(heat_layer)\n",
    "\n",
    "fig"
   ]
  },
  {
   "cell_type": "markdown",
   "metadata": {},
   "source": [
    "### Hotel Map\n",
    "* Store into variable named `hotel_df`.\n",
    "* Add a \"Hotel Name\" column to the DataFrame.\n",
    "* Set parameters to search for hotels with 5000 meters.\n",
    "* Hit the Google Places API for each city's coordinates.\n",
    "* Store the first Hotel result into the DataFrame.\n",
    "* Plot markers on top of the heatmap."
   ]
  },
  {
   "cell_type": "code",
   "execution_count": 47,
   "metadata": {},
   "outputs": [],
   "source": [
    "base_url = \"https://maps.googleapis.com/maps/api/place/nearbysearch/json\"\n",
    "hotel_data={}\n",
    "\n",
    "\n",
    "for location,city,country in zip(locations,hh_data['City'],hh_data['Country']):\n",
    "    params = {\n",
    "    \"location\": f'{location[0]}, {location[1]}',\n",
    "    \"rankby\": \"distance\",\n",
    "    \"type\": \"hotel\",\n",
    "    \"key\": g_key}\n",
    "    response = requests.get(base_url, params=params)\n",
    "    data=response.json()\n",
    "    for i in range(len(data['results'])):            \n",
    "        name=data['results'][i]['name']\n",
    "        lat=data['results'][i][\"geometry\"]['location']['lat']\n",
    "        lng=data['results'][i][\"geometry\"]['location']['lng']\n",
    "        hotel_data.update({name:[name,country,city,lat,lng]})\n",
    "\n",
    "    "
   ]
  },
  {
   "cell_type": "code",
   "execution_count": 48,
   "metadata": {},
   "outputs": [
    {
     "name": "stdout",
     "output_type": "stream",
     "text": [
      "We have 645 hotel options\n"
     ]
    }
   ],
   "source": [
    "print(f'We have {len(hotel_data)} hotel options')"
   ]
  },
  {
   "cell_type": "code",
   "execution_count": 49,
   "metadata": {},
   "outputs": [
    {
     "data": {
      "text/html": [
       "<div>\n",
       "<style scoped>\n",
       "    .dataframe tbody tr th:only-of-type {\n",
       "        vertical-align: middle;\n",
       "    }\n",
       "\n",
       "    .dataframe tbody tr th {\n",
       "        vertical-align: top;\n",
       "    }\n",
       "\n",
       "    .dataframe thead th {\n",
       "        text-align: right;\n",
       "    }\n",
       "</style>\n",
       "<table border=\"1\" class=\"dataframe\">\n",
       "  <thead>\n",
       "    <tr style=\"text-align: right;\">\n",
       "      <th></th>\n",
       "      <th>Hotel Name</th>\n",
       "      <th>Country</th>\n",
       "      <th>City</th>\n",
       "      <th>Lat</th>\n",
       "      <th>Lng</th>\n",
       "    </tr>\n",
       "  </thead>\n",
       "  <tbody>\n",
       "    <tr>\n",
       "      <th>Ra Auto MOTORSPORT</th>\n",
       "      <td>Ra Auto MOTORSPORT</td>\n",
       "      <td>PT</td>\n",
       "      <td>lata</td>\n",
       "      <td>40.160743</td>\n",
       "      <td>-8.333757</td>\n",
       "    </tr>\n",
       "    <tr>\n",
       "      <th>Marché de Semide</th>\n",
       "      <td>Marché de Semide</td>\n",
       "      <td>PT</td>\n",
       "      <td>lata</td>\n",
       "      <td>40.158119</td>\n",
       "      <td>-8.333762</td>\n",
       "    </tr>\n",
       "    <tr>\n",
       "      <th>Cemitério de Semide</th>\n",
       "      <td>Cemitério de Semide</td>\n",
       "      <td>PT</td>\n",
       "      <td>lata</td>\n",
       "      <td>40.157511</td>\n",
       "      <td>-8.333314</td>\n",
       "    </tr>\n",
       "    <tr>\n",
       "      <th>Manoscortes, Comercio De Vestuario, Artigos Para O Lar E Papelaria, Lda.</th>\n",
       "      <td>Manoscortes, Comercio De Vestuario, Artigos Pa...</td>\n",
       "      <td>PT</td>\n",
       "      <td>lata</td>\n",
       "      <td>40.158879</td>\n",
       "      <td>-8.325524</td>\n",
       "    </tr>\n",
       "    <tr>\n",
       "      <th>Minipreço</th>\n",
       "      <td>Minipreço</td>\n",
       "      <td>PT</td>\n",
       "      <td>lata</td>\n",
       "      <td>40.158056</td>\n",
       "      <td>-8.334288</td>\n",
       "    </tr>\n",
       "  </tbody>\n",
       "</table>\n",
       "</div>"
      ],
      "text/plain": [
       "                                                                                           Hotel Name  \\\n",
       "Ra Auto MOTORSPORT                                                                 Ra Auto MOTORSPORT   \n",
       "Marché de Semide                                                                     Marché de Semide   \n",
       "Cemitério de Semide                                                               Cemitério de Semide   \n",
       "Manoscortes, Comercio De Vestuario, Artigos Par...  Manoscortes, Comercio De Vestuario, Artigos Pa...   \n",
       "Minipreço                                                                                   Minipreço   \n",
       "\n",
       "                                                   Country  City        Lat  \\\n",
       "Ra Auto MOTORSPORT                                      PT  lata  40.160743   \n",
       "Marché de Semide                                        PT  lata  40.158119   \n",
       "Cemitério de Semide                                     PT  lata  40.157511   \n",
       "Manoscortes, Comercio De Vestuario, Artigos Par...      PT  lata  40.158879   \n",
       "Minipreço                                               PT  lata  40.158056   \n",
       "\n",
       "                                                         Lng  \n",
       "Ra Auto MOTORSPORT                                 -8.333757  \n",
       "Marché de Semide                                   -8.333762  \n",
       "Cemitério de Semide                                -8.333314  \n",
       "Manoscortes, Comercio De Vestuario, Artigos Par... -8.325524  \n",
       "Minipreço                                          -8.334288  "
      ]
     },
     "execution_count": 49,
     "metadata": {},
     "output_type": "execute_result"
    }
   ],
   "source": [
    "hotel_df=pd.DataFrame.from_dict(hotel_data, orient='index',columns=['Hotel Name','Country','City','Lat','Lng'])\n",
    "hotel_df.head()"
   ]
  },
  {
   "cell_type": "code",
   "execution_count": 50,
   "metadata": {},
   "outputs": [],
   "source": [
    "# NOTE: Do not change any of the code in this cell\n",
    "\n",
    "# Using the template add the hotel marks to the heatmap\n",
    "info_box_template = \"\"\"\n",
    "<dl>\n",
    "<dt>Name</dt><dd>{Hotel Name}</dd>\n",
    "<dt>City</dt><dd>{City}</dd>\n",
    "<dt>Country</dt><dd>{Country}</dd>\n",
    "</dl>\n",
    "\"\"\"\n",
    "# Store the DataFrame Row\n",
    "# NOTE: be sure to update with your DataFrame name\n",
    "hotel_info = [info_box_template.format(**row) for index, row in hotel_df.iterrows()]\n",
    "locations = hotel_df[[\"Lat\", \"Lng\"]]"
   ]
  },
  {
   "cell_type": "code",
   "execution_count": 51,
   "metadata": {},
   "outputs": [
    {
     "data": {
      "application/vnd.jupyter.widget-view+json": {
       "model_id": "23a7d2ce690b492a9d6c95a1f4911790",
       "version_major": 2,
       "version_minor": 0
      },
      "text/plain": [
       "Figure(layout=FigureLayout(border='1px solid black', height='300px', margin='0 auto 0 auto', padding='1px', wi…"
      ]
     },
     "metadata": {},
     "output_type": "display_data"
    }
   ],
   "source": [
    "# Add marker layer ontop of heat map\n",
    "markers = gmaps.marker_layer(locations)\n",
    "# Add the layer to the map\n",
    "fig.add_layer(markers)\n",
    "# Display figure\n",
    "fig"
   ]
  },
  {
   "cell_type": "code",
   "execution_count": null,
   "metadata": {},
   "outputs": [],
   "source": []
  }
 ],
 "metadata": {
  "kernelspec": {
   "display_name": "Python 3",
   "language": "python",
   "name": "python3"
  },
  "language_info": {
   "codemirror_mode": {
    "name": "ipython",
    "version": 3
   },
   "file_extension": ".py",
   "mimetype": "text/x-python",
   "name": "python",
   "nbconvert_exporter": "python",
   "pygments_lexer": "ipython3",
   "version": "3.7.4"
  },
  "latex_envs": {
   "LaTeX_envs_menu_present": true,
   "autoclose": false,
   "autocomplete": true,
   "bibliofile": "biblio.bib",
   "cite_by": "apalike",
   "current_citInitial": 1,
   "eqLabelWithNumbers": true,
   "eqNumInitial": 1,
   "hotkeys": {
    "equation": "Ctrl-E",
    "itemize": "Ctrl-I"
   },
   "labels_anchors": false,
   "latex_user_defs": false,
   "report_style_numbering": false,
   "user_envs_cfg": false
  }
 },
 "nbformat": 4,
 "nbformat_minor": 2
}
