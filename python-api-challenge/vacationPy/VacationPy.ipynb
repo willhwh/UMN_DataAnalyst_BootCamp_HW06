{
 "cells": [
  {
   "cell_type": "markdown",
   "metadata": {},
   "source": [
    "# VacationPy\n",
    "----\n",
    "\n",
    "#### Note\n",
    "* Instructions have been included for each segment. You do not have to follow them exactly, but they are included to help you think through the steps."
   ]
  },
  {
   "cell_type": "code",
   "execution_count": 14,
   "metadata": {},
   "outputs": [],
   "source": [
    "# Dependencies and Setup\n",
    "import matplotlib.pyplot as plt\n",
    "import pandas as pd\n",
    "import numpy as np\n",
    "import requests\n",
    "import gmaps\n",
    "import os\n",
    "import json\n",
    "\n",
    "# Import API key\n",
    "from api_keys import g_key"
   ]
  },
  {
   "cell_type": "markdown",
   "metadata": {},
   "source": [
    "### Store Part I results into DataFrame\n",
    "* Load the csv exported in Part I to a DataFrame"
   ]
  },
  {
   "cell_type": "code",
   "execution_count": 15,
   "metadata": {
    "scrolled": true
   },
   "outputs": [
    {
     "data": {
      "text/html": [
       "<div>\n",
       "<style scoped>\n",
       "    .dataframe tbody tr th:only-of-type {\n",
       "        vertical-align: middle;\n",
       "    }\n",
       "\n",
       "    .dataframe tbody tr th {\n",
       "        vertical-align: top;\n",
       "    }\n",
       "\n",
       "    .dataframe thead th {\n",
       "        text-align: right;\n",
       "    }\n",
       "</style>\n",
       "<table border=\"1\" class=\"dataframe\">\n",
       "  <thead>\n",
       "    <tr style=\"text-align: right;\">\n",
       "      <th></th>\n",
       "      <th>City</th>\n",
       "      <th>Lat</th>\n",
       "      <th>Lng</th>\n",
       "      <th>Max Temp</th>\n",
       "      <th>Humidity</th>\n",
       "      <th>Cloudiness</th>\n",
       "      <th>Wind Speed</th>\n",
       "      <th>Country</th>\n",
       "      <th>Date</th>\n",
       "    </tr>\n",
       "  </thead>\n",
       "  <tbody>\n",
       "    <tr>\n",
       "      <th>0</th>\n",
       "      <td>rikitea</td>\n",
       "      <td>-23.12</td>\n",
       "      <td>-134.97</td>\n",
       "      <td>70.07</td>\n",
       "      <td>80.0</td>\n",
       "      <td>18.0</td>\n",
       "      <td>22.62</td>\n",
       "      <td>PF</td>\n",
       "      <td>1.595714e+09</td>\n",
       "    </tr>\n",
       "    <tr>\n",
       "      <th>1</th>\n",
       "      <td>dzilam gonzalez</td>\n",
       "      <td>21.28</td>\n",
       "      <td>-88.93</td>\n",
       "      <td>89.49</td>\n",
       "      <td>59.0</td>\n",
       "      <td>100.0</td>\n",
       "      <td>10.20</td>\n",
       "      <td>MX</td>\n",
       "      <td>1.595714e+09</td>\n",
       "    </tr>\n",
       "    <tr>\n",
       "      <th>2</th>\n",
       "      <td>albany</td>\n",
       "      <td>42.60</td>\n",
       "      <td>-73.97</td>\n",
       "      <td>90.00</td>\n",
       "      <td>36.0</td>\n",
       "      <td>100.0</td>\n",
       "      <td>3.94</td>\n",
       "      <td>US</td>\n",
       "      <td>1.595713e+09</td>\n",
       "    </tr>\n",
       "    <tr>\n",
       "      <th>3</th>\n",
       "      <td>oistins</td>\n",
       "      <td>13.07</td>\n",
       "      <td>-59.53</td>\n",
       "      <td>86.00</td>\n",
       "      <td>74.0</td>\n",
       "      <td>40.0</td>\n",
       "      <td>13.87</td>\n",
       "      <td>BB</td>\n",
       "      <td>1.595714e+09</td>\n",
       "    </tr>\n",
       "    <tr>\n",
       "      <th>4</th>\n",
       "      <td>ostrovnoy</td>\n",
       "      <td>68.05</td>\n",
       "      <td>39.51</td>\n",
       "      <td>57.87</td>\n",
       "      <td>80.0</td>\n",
       "      <td>59.0</td>\n",
       "      <td>6.17</td>\n",
       "      <td>RU</td>\n",
       "      <td>1.595714e+09</td>\n",
       "    </tr>\n",
       "  </tbody>\n",
       "</table>\n",
       "</div>"
      ],
      "text/plain": [
       "              City    Lat     Lng  Max Temp  Humidity  Cloudiness  Wind Speed  \\\n",
       "0          rikitea -23.12 -134.97     70.07      80.0        18.0       22.62   \n",
       "1  dzilam gonzalez  21.28  -88.93     89.49      59.0       100.0       10.20   \n",
       "2           albany  42.60  -73.97     90.00      36.0       100.0        3.94   \n",
       "3          oistins  13.07  -59.53     86.00      74.0        40.0       13.87   \n",
       "4        ostrovnoy  68.05   39.51     57.87      80.0        59.0        6.17   \n",
       "\n",
       "  Country          Date  \n",
       "0      PF  1.595714e+09  \n",
       "1      MX  1.595714e+09  \n",
       "2      US  1.595713e+09  \n",
       "3      BB  1.595714e+09  \n",
       "4      RU  1.595714e+09  "
      ]
     },
     "execution_count": 15,
     "metadata": {},
     "output_type": "execute_result"
    }
   ],
   "source": [
    "data=pd.read_csv(\"../weatherPy/weather_data.csv\")\n",
    "data.drop('Unnamed: 0',axis=1,inplace=True)\n",
    "data.head()"
   ]
  },
  {
   "cell_type": "markdown",
   "metadata": {},
   "source": [
    "### Humidity Heatmap\n",
    "* Configure gmaps.\n",
    "* Use the Lat and Lng as locations and Humidity as the weight.\n",
    "* Add Heatmap layer to map."
   ]
  },
  {
   "cell_type": "code",
   "execution_count": 16,
   "metadata": {},
   "outputs": [
    {
     "data": {
      "application/vnd.jupyter.widget-view+json": {
       "model_id": "63b4a69589b14efead1323e0cbd8042e",
       "version_major": 2,
       "version_minor": 0
      },
      "text/plain": [
       "Figure(layout=FigureLayout(border='1px solid black', height='300px', margin='0 auto 0 auto', padding='1px', wi…"
      ]
     },
     "metadata": {},
     "output_type": "display_data"
    }
   ],
   "source": [
    "gmaps.configure(api_key=g_key)\n",
    "#configure gamps\n",
    "figure_layout = {\n",
    "    'width': '400px',\n",
    "    'height': '300px',\n",
    "    'border': '1px solid black',\n",
    "    'padding': '1px',\n",
    "    'margin': '0 auto 0 auto'\n",
    "}\n",
    "center=(40.416775,-3.703790) #spain as the center\n",
    "zoom_level=5\n",
    "fig = gmaps.figure(layout=figure_layout,zoom_level=zoom_level,center=center)\n",
    "fig"
   ]
  },
  {
   "cell_type": "code",
   "execution_count": 17,
   "metadata": {},
   "outputs": [],
   "source": [
    "locations=[(lat,lng) for lat,lng in zip(data['Lat'],data['Lng'])]\n",
    "humidity=data['Humidity']"
   ]
  },
  {
   "cell_type": "code",
   "execution_count": 18,
   "metadata": {},
   "outputs": [
    {
     "data": {
      "application/vnd.jupyter.widget-view+json": {
       "model_id": "63b4a69589b14efead1323e0cbd8042e",
       "version_major": 2,
       "version_minor": 0
      },
      "text/plain": [
       "Figure(layout=FigureLayout(border='1px solid black', height='300px', margin='0 auto 0 auto', padding='1px', wi…"
      ]
     },
     "metadata": {},
     "output_type": "display_data"
    }
   ],
   "source": [
    "heat_layer = gmaps.heatmap_layer(locations=locations, weights=humidity, \n",
    "                                 dissipating=False, max_intensity=100,\n",
    "                                 point_radius = 1)\n",
    "\n",
    "fig.add_layer(heat_layer)\n",
    "\n",
    "fig"
   ]
  },
  {
   "cell_type": "markdown",
   "metadata": {},
   "source": [
    "### Create new DataFrame fitting weather criteria\n",
    "* Narrow down the cities to fit weather conditions.\n",
    "* Drop any rows will null values."
   ]
  },
  {
   "cell_type": "markdown",
   "metadata": {},
   "source": [
    "Narrow down the DataFrame to find your own ideal weather conditions. For example:\n",
    "Maximum temperature lower than 80 degrees but higher than 70.\n",
    "Wind speed less than 10 mph.\n",
    "Zero cloudiness.\n",
    "Note: Feel free to adjust to your specifications but be sure to limit the number of rows returned by your API requests to a reasonable number like 10.\n",
    "\n",
    "\n",
    "\n",
    "\n"
   ]
  },
  {
   "cell_type": "code",
   "execution_count": 19,
   "metadata": {},
   "outputs": [
    {
     "name": "stdout",
     "output_type": "stream",
     "text": [
      " 35 ideal options\n"
     ]
    },
    {
     "data": {
      "text/html": [
       "<div>\n",
       "<style scoped>\n",
       "    .dataframe tbody tr th:only-of-type {\n",
       "        vertical-align: middle;\n",
       "    }\n",
       "\n",
       "    .dataframe tbody tr th {\n",
       "        vertical-align: top;\n",
       "    }\n",
       "\n",
       "    .dataframe thead th {\n",
       "        text-align: right;\n",
       "    }\n",
       "</style>\n",
       "<table border=\"1\" class=\"dataframe\">\n",
       "  <thead>\n",
       "    <tr style=\"text-align: right;\">\n",
       "      <th></th>\n",
       "      <th>City</th>\n",
       "      <th>Lat</th>\n",
       "      <th>Lng</th>\n",
       "      <th>Max Temp</th>\n",
       "      <th>Humidity</th>\n",
       "      <th>Cloudiness</th>\n",
       "      <th>Wind Speed</th>\n",
       "      <th>Country</th>\n",
       "      <th>Date</th>\n",
       "    </tr>\n",
       "  </thead>\n",
       "  <tbody>\n",
       "    <tr>\n",
       "      <th>17</th>\n",
       "      <td>dindori</td>\n",
       "      <td>22.95</td>\n",
       "      <td>81.08</td>\n",
       "      <td>72.64</td>\n",
       "      <td>76.0</td>\n",
       "      <td>3.0</td>\n",
       "      <td>2.46</td>\n",
       "      <td>IN</td>\n",
       "      <td>1.595714e+09</td>\n",
       "    </tr>\n",
       "    <tr>\n",
       "      <th>47</th>\n",
       "      <td>bima</td>\n",
       "      <td>-8.47</td>\n",
       "      <td>118.72</td>\n",
       "      <td>69.04</td>\n",
       "      <td>88.0</td>\n",
       "      <td>56.0</td>\n",
       "      <td>3.60</td>\n",
       "      <td>ID</td>\n",
       "      <td>1.595714e+09</td>\n",
       "    </tr>\n",
       "    <tr>\n",
       "      <th>48</th>\n",
       "      <td>cochrane</td>\n",
       "      <td>51.18</td>\n",
       "      <td>-114.47</td>\n",
       "      <td>69.01</td>\n",
       "      <td>48.0</td>\n",
       "      <td>1.0</td>\n",
       "      <td>3.36</td>\n",
       "      <td>CA</td>\n",
       "      <td>1.595714e+09</td>\n",
       "    </tr>\n",
       "    <tr>\n",
       "      <th>52</th>\n",
       "      <td>vityazevo</td>\n",
       "      <td>44.99</td>\n",
       "      <td>37.27</td>\n",
       "      <td>73.40</td>\n",
       "      <td>53.0</td>\n",
       "      <td>40.0</td>\n",
       "      <td>4.47</td>\n",
       "      <td>RU</td>\n",
       "      <td>1.595714e+09</td>\n",
       "    </tr>\n",
       "    <tr>\n",
       "      <th>55</th>\n",
       "      <td>bengkulu</td>\n",
       "      <td>-3.80</td>\n",
       "      <td>102.27</td>\n",
       "      <td>74.12</td>\n",
       "      <td>90.0</td>\n",
       "      <td>17.0</td>\n",
       "      <td>4.70</td>\n",
       "      <td>ID</td>\n",
       "      <td>1.595714e+09</td>\n",
       "    </tr>\n",
       "  </tbody>\n",
       "</table>\n",
       "</div>"
      ],
      "text/plain": [
       "         City    Lat     Lng  Max Temp  Humidity  Cloudiness  Wind Speed  \\\n",
       "17    dindori  22.95   81.08     72.64      76.0         3.0        2.46   \n",
       "47       bima  -8.47  118.72     69.04      88.0        56.0        3.60   \n",
       "48   cochrane  51.18 -114.47     69.01      48.0         1.0        3.36   \n",
       "52  vityazevo  44.99   37.27     73.40      53.0        40.0        4.47   \n",
       "55   bengkulu  -3.80  102.27     74.12      90.0        17.0        4.70   \n",
       "\n",
       "   Country          Date  \n",
       "17      IN  1.595714e+09  \n",
       "47      ID  1.595714e+09  \n",
       "48      CA  1.595714e+09  \n",
       "52      RU  1.595714e+09  \n",
       "55      ID  1.595714e+09  "
      ]
     },
     "execution_count": 19,
     "metadata": {},
     "output_type": "execute_result"
    }
   ],
   "source": [
    "conditions=(data['Max Temp']<75)&(data['Max Temp']>65)&(data['Wind Speed']<8)&(data['Cloudiness']<60)\n",
    "hh_data=data[conditions]\n",
    "print(f\" {len(hh_data)} ideal options\")\n",
    "hh_data.head()"
   ]
  },
  {
   "cell_type": "code",
   "execution_count": 20,
   "metadata": {},
   "outputs": [
    {
     "data": {
      "application/vnd.jupyter.widget-view+json": {
       "model_id": "9d1c0d51c2be453581f59029380ea67e",
       "version_major": 2,
       "version_minor": 0
      },
      "text/plain": [
       "Figure(layout=FigureLayout(border='1px solid black', height='300px', margin='0 auto 0 auto', padding='1px', wi…"
      ]
     },
     "metadata": {},
     "output_type": "display_data"
    }
   ],
   "source": [
    "#configure gamps\n",
    "figure_layout = {\n",
    "    'width': '400px',\n",
    "    'height': '300px',\n",
    "    'border': '1px solid black',\n",
    "    'padding': '1px',\n",
    "    'margin': '0 auto 0 auto'\n",
    "}\n",
    "fig = gmaps.figure(layout=figure_layout,center=center,zoom_level=zoom_level)\n",
    "fig\n",
    "\n",
    "locations=[(lat,lng) for lat,lng in zip(hh_data['Lat'],hh_data['Lng'])]\n",
    "humidity=hh_data['Humidity']\n",
    "heat_layer = gmaps.heatmap_layer(locations=locations, weights=humidity, \n",
    "                                 dissipating=False, max_intensity=100,\n",
    "                                 point_radius = 1)\n",
    "\n",
    "fig.add_layer(heat_layer)\n",
    "\n",
    "fig"
   ]
  },
  {
   "cell_type": "markdown",
   "metadata": {},
   "source": [
    "### Hotel Map\n",
    "* Store into variable named `hotel_df`.\n",
    "* Add a \"Hotel Name\" column to the DataFrame.\n",
    "* Set parameters to search for hotels with 5000 meters.\n",
    "* Hit the Google Places API for each city's coordinates.\n",
    "* Store the first Hotel result into the DataFrame.\n",
    "* Plot markers on top of the heatmap."
   ]
  },
  {
   "cell_type": "code",
   "execution_count": 21,
   "metadata": {},
   "outputs": [],
   "source": [
    "base_url = \"https://maps.googleapis.com/maps/api/place/nearbysearch/json\"\n",
    "hotel_data={}\n",
    "\n",
    "\n",
    "for location,city,country in zip(locations,hh_data['City'],hh_data['Country']):\n",
    "    params = {\n",
    "    \"location\": f'{location[0]}, {location[1]}',\n",
    "    \"rankby\": \"distance\",\n",
    "    \"type\": \"hotel\",\n",
    "    \"key\": g_key}\n",
    "    response = requests.get(base_url, params=params)\n",
    "    data=response.json()\n",
    "    for i in range(len(data['results'])):            \n",
    "        name=data['results'][i]['name']\n",
    "        lat=data['results'][i][\"geometry\"]['location']['lat']\n",
    "        lng=data['results'][i][\"geometry\"]['location']['lng']\n",
    "        hotel_data.update({name:[name,country,city,lat,lng]})\n",
    "\n",
    "    "
   ]
  },
  {
   "cell_type": "code",
   "execution_count": 22,
   "metadata": {},
   "outputs": [
    {
     "name": "stdout",
     "output_type": "stream",
     "text": [
      "We have 576 hotel options\n"
     ]
    }
   ],
   "source": [
    "print(f'We have {len(hotel_data)} hotel options')"
   ]
  },
  {
   "cell_type": "code",
   "execution_count": 23,
   "metadata": {},
   "outputs": [
    {
     "data": {
      "text/html": [
       "<div>\n",
       "<style scoped>\n",
       "    .dataframe tbody tr th:only-of-type {\n",
       "        vertical-align: middle;\n",
       "    }\n",
       "\n",
       "    .dataframe tbody tr th {\n",
       "        vertical-align: top;\n",
       "    }\n",
       "\n",
       "    .dataframe thead th {\n",
       "        text-align: right;\n",
       "    }\n",
       "</style>\n",
       "<table border=\"1\" class=\"dataframe\">\n",
       "  <thead>\n",
       "    <tr style=\"text-align: right;\">\n",
       "      <th></th>\n",
       "      <th>Hotel Name</th>\n",
       "      <th>Country</th>\n",
       "      <th>City</th>\n",
       "      <th>Lat</th>\n",
       "      <th>Lng</th>\n",
       "    </tr>\n",
       "  </thead>\n",
       "  <tbody>\n",
       "    <tr>\n",
       "      <th>Shorya online and printing press</th>\n",
       "      <td>Shorya online and printing press</td>\n",
       "      <td>IN</td>\n",
       "      <td>dindori</td>\n",
       "      <td>22.949711</td>\n",
       "      <td>81.080184</td>\n",
       "    </tr>\n",
       "    <tr>\n",
       "      <th>N.P. ASSOCIATES</th>\n",
       "      <td>N.P. ASSOCIATES</td>\n",
       "      <td>IN</td>\n",
       "      <td>dindori</td>\n",
       "      <td>22.949724</td>\n",
       "      <td>81.080215</td>\n",
       "    </tr>\n",
       "    <tr>\n",
       "      <th>Narmada Traders</th>\n",
       "      <td>Narmada Traders</td>\n",
       "      <td>IN</td>\n",
       "      <td>dindori</td>\n",
       "      <td>22.949361</td>\n",
       "      <td>81.079973</td>\n",
       "    </tr>\n",
       "    <tr>\n",
       "      <th>Narmada Traders Pro. Suneel Dutt Tiwari</th>\n",
       "      <td>Narmada Traders Pro. Suneel Dutt Tiwari</td>\n",
       "      <td>IN</td>\n",
       "      <td>dindori</td>\n",
       "      <td>22.949265</td>\n",
       "      <td>81.079997</td>\n",
       "    </tr>\n",
       "    <tr>\n",
       "      <th>Chhavi Lal Nagesh House</th>\n",
       "      <td>Chhavi Lal Nagesh House</td>\n",
       "      <td>IN</td>\n",
       "      <td>dindori</td>\n",
       "      <td>22.948939</td>\n",
       "      <td>81.079823</td>\n",
       "    </tr>\n",
       "  </tbody>\n",
       "</table>\n",
       "</div>"
      ],
      "text/plain": [
       "                                                                      Hotel Name  \\\n",
       "Shorya online and printing press                Shorya online and printing press   \n",
       "N.P. ASSOCIATES                                                  N.P. ASSOCIATES   \n",
       "Narmada Traders                                                  Narmada Traders   \n",
       "Narmada Traders Pro. Suneel Dutt Tiwari  Narmada Traders Pro. Suneel Dutt Tiwari   \n",
       "Chhavi Lal Nagesh House                                  Chhavi Lal Nagesh House   \n",
       "\n",
       "                                        Country     City        Lat        Lng  \n",
       "Shorya online and printing press             IN  dindori  22.949711  81.080184  \n",
       "N.P. ASSOCIATES                              IN  dindori  22.949724  81.080215  \n",
       "Narmada Traders                              IN  dindori  22.949361  81.079973  \n",
       "Narmada Traders Pro. Suneel Dutt Tiwari      IN  dindori  22.949265  81.079997  \n",
       "Chhavi Lal Nagesh House                      IN  dindori  22.948939  81.079823  "
      ]
     },
     "execution_count": 23,
     "metadata": {},
     "output_type": "execute_result"
    }
   ],
   "source": [
    "hotel_df=pd.DataFrame.from_dict(hotel_data, orient='index',columns=['Hotel Name','Country','City','Lat','Lng'])\n",
    "hotel_df.head()"
   ]
  },
  {
   "cell_type": "code",
   "execution_count": 24,
   "metadata": {},
   "outputs": [],
   "source": [
    "# NOTE: Do not change any of the code in this cell\n",
    "\n",
    "# Using the template add the hotel marks to the heatmap\n",
    "info_box_template = \"\"\"\n",
    "<dl>\n",
    "<dt>Name</dt><dd>{Hotel Name}</dd>\n",
    "<dt>City</dt><dd>{City}</dd>\n",
    "<dt>Country</dt><dd>{Country}</dd>\n",
    "</dl>\n",
    "\"\"\"\n",
    "# Store the DataFrame Row\n",
    "# NOTE: be sure to update with your DataFrame name\n",
    "hotel_info = [info_box_template.format(**row) for index, row in hotel_df.iterrows()]\n",
    "locations = hotel_df[[\"Lat\", \"Lng\"]]"
   ]
  },
  {
   "cell_type": "code",
   "execution_count": 28,
   "metadata": {},
   "outputs": [
    {
     "data": {
      "application/vnd.jupyter.widget-view+json": {
       "model_id": "9d1c0d51c2be453581f59029380ea67e",
       "version_major": 2,
       "version_minor": 0
      },
      "text/plain": [
       "Figure(layout=FigureLayout(border='1px solid black', height='300px', margin='0 auto 0 auto', padding='1px', wi…"
      ]
     },
     "metadata": {},
     "output_type": "display_data"
    }
   ],
   "source": [
    "# Add marker layer ontop of heat map\n",
    "markers = gmaps.marker_layer(locations,info_box_content=hotel_info)\n",
    "# Add the layer to the map\n",
    "fig.add_layer(markers)\n",
    "# Display figure\n",
    "fig"
   ]
  },
  {
   "cell_type": "code",
   "execution_count": null,
   "metadata": {},
   "outputs": [],
   "source": []
  },
  {
   "cell_type": "code",
   "execution_count": null,
   "metadata": {},
   "outputs": [],
   "source": []
  }
 ],
 "metadata": {
  "kernelspec": {
   "display_name": "Python 3",
   "language": "python",
   "name": "python3"
  },
  "language_info": {
   "codemirror_mode": {
    "name": "ipython",
    "version": 3
   },
   "file_extension": ".py",
   "mimetype": "text/x-python",
   "name": "python",
   "nbconvert_exporter": "python",
   "pygments_lexer": "ipython3",
   "version": "3.7.4"
  },
  "latex_envs": {
   "LaTeX_envs_menu_present": true,
   "autoclose": false,
   "autocomplete": true,
   "bibliofile": "biblio.bib",
   "cite_by": "apalike",
   "current_citInitial": 1,
   "eqLabelWithNumbers": true,
   "eqNumInitial": 1,
   "hotkeys": {
    "equation": "Ctrl-E",
    "itemize": "Ctrl-I"
   },
   "labels_anchors": false,
   "latex_user_defs": false,
   "report_style_numbering": false,
   "user_envs_cfg": false
  }
 },
 "nbformat": 4,
 "nbformat_minor": 2
}
