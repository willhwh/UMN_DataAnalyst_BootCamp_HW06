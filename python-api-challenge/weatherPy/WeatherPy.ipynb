{
 "cells": [
  {
   "cell_type": "markdown",
   "metadata": {},
   "source": [
    "# WeatherPy\n",
    "----\n",
    "\n",
    "#### Note\n",
    "* Instructions have been included for each segment. You do not have to follow them exactly, but they are included to help you think through the steps."
   ]
  },
  {
   "cell_type": "code",
   "execution_count": 1,
   "metadata": {
    "scrolled": true
   },
   "outputs": [],
   "source": [
    "# Dependencies and Setup\n",
    "import matplotlib.pyplot as plt\n",
    "import pandas as pd\n",
    "import numpy as np\n",
    "import requests\n",
    "import time\n",
    "from scipy.stats import linregress\n",
    "import json\n",
    "import datetime\n",
    "\n",
    "# Import API key\n",
    "from api_keys import weather_api_key\n",
    "\n",
    "# Incorporated citipy to determine city based on latitude and longitude\n",
    "from citipy import citipy\n",
    "\n",
    "# Output File (CSV)\n",
    "output_data_file = \"output_data/cities.csv\"\n",
    "\n",
    "# Range of latitudes and longitudes\n",
    "lat_range = (-90, 90)\n",
    "lng_range = (-180, 180)"
   ]
  },
  {
   "cell_type": "markdown",
   "metadata": {},
   "source": [
    "## Generate Cities List"
   ]
  },
  {
   "cell_type": "code",
   "execution_count": 2,
   "metadata": {},
   "outputs": [
    {
     "data": {
      "text/plain": [
       "614"
      ]
     },
     "execution_count": 2,
     "metadata": {},
     "output_type": "execute_result"
    }
   ],
   "source": [
    "# List for holding lat_lngs and cities\n",
    "lat_lngs = []\n",
    "cities = []\n",
    "\n",
    "# Create a set of random lat and lng combinations\n",
    "lats = np.random.uniform(lat_range[0], lat_range[1], size=1500)\n",
    "lngs = np.random.uniform(lng_range[0], lng_range[1], size=1500)\n",
    "lat_lngs = zip(lats, lngs)\n",
    "\n",
    "# Identify nearest city for each lat, lng combination\n",
    "for lat_lng in lat_lngs:\n",
    "    city = citipy.nearest_city(lat_lng[0], lat_lng[1]).city_name\n",
    "    \n",
    "    # If the city is unique, then add it to a our cities list\n",
    "    if city not in cities:\n",
    "        cities.append(city)\n",
    "\n",
    "# Print the city count to confirm sufficient count\n",
    "len(cities)"
   ]
  },
  {
   "cell_type": "markdown",
   "metadata": {},
   "source": [
    "### Perform API Calls\n",
    "* Perform a weather check on each city using a series of successive API calls.\n",
    "* Include a print log of each city as it'sbeing processed (with the city number and city name).\n"
   ]
  },
  {
   "cell_type": "code",
   "execution_count": 3,
   "metadata": {
    "scrolled": true
   },
   "outputs": [
    {
     "name": "stdout",
     "output_type": "stream",
     "text": [
      "Beginning Data Retrieval\n",
      "-----------------------------\n",
      "Processing Record 1 of Set 1 | aswan\n",
      "Processing Record 2 of Set 1 | puerto ayora\n",
      "Processing Record 3 of Set 1 | rikitea\n",
      "Processing Record 4 of Set 1 | petropavlovsk-kamchatskiy\n",
      "Processing Record 5 of Set 1 | bambous virieux\n",
      "City not found. Skipping...\n",
      "Processing Record 6 of Set 1 | timra\n",
      "Processing Record 7 of Set 1 | cape town\n",
      "Processing Record 8 of Set 1 | kapit\n",
      "Processing Record 9 of Set 1 | georgetown\n",
      "Processing Record 10 of Set 1 | savelugu\n",
      "City not found. Skipping...\n",
      "Processing Record 11 of Set 1 | lompoc\n",
      "Processing Record 12 of Set 1 | port alfred\n",
      "Processing Record 13 of Set 1 | mitsamiouli\n",
      "Processing Record 14 of Set 1 | honiara\n",
      "City not found. Skipping...\n",
      "Processing Record 15 of Set 1 | kapaa\n",
      "Processing Record 16 of Set 1 | manokwari\n",
      "Processing Record 17 of Set 1 | hermanus\n",
      "City not found. Skipping...\n",
      "Processing Record 18 of Set 1 | tessalit\n",
      "Processing Record 19 of Set 1 | verkhnevilyuysk\n",
      "Processing Record 20 of Set 1 | pevek\n",
      "Processing Record 21 of Set 1 | sioux lookout\n",
      "Processing Record 22 of Set 1 | tiksi\n",
      "City not found. Skipping...\n",
      "Processing Record 23 of Set 1 | mar del plata\n",
      "Processing Record 24 of Set 1 | padang\n",
      "Processing Record 25 of Set 1 | okha\n",
      "Processing Record 26 of Set 1 | busselton\n",
      "City not found. Skipping...\n",
      "Processing Record 27 of Set 1 | east london\n",
      "Processing Record 28 of Set 1 | mataura\n",
      "Processing Record 29 of Set 1 | hobart\n",
      "Processing Record 30 of Set 1 | narsaq\n",
      "Processing Record 31 of Set 1 | atuona\n",
      "Processing Record 32 of Set 1 | yellowknife\n",
      "Processing Record 33 of Set 1 | olafsvik\n",
      "Processing Record 34 of Set 1 | klaksvik\n",
      "Processing Record 35 of Set 1 | upernavik\n",
      "City not found. Skipping...\n",
      "Processing Record 36 of Set 1 | tura\n",
      "Processing Record 37 of Set 1 | vaini\n",
      "Processing Record 38 of Set 1 | huntington\n",
      "Processing Record 39 of Set 1 | alihe\n",
      "Processing Record 40 of Set 1 | clyde river\n",
      "Processing Record 41 of Set 1 | aykhal\n",
      "Processing Record 42 of Set 1 | qaanaaq\n",
      "City not found. Skipping...\n",
      "Processing Record 43 of Set 1 | cockburn town\n",
      "Processing Record 44 of Set 1 | amahai\n",
      "Processing Record 45 of Set 1 | viedma\n",
      "Processing Record 46 of Set 1 | thompson\n",
      "Processing Record 47 of Set 1 | arraial do cabo\n",
      "Processing Record 48 of Set 1 | billings\n",
      "Processing Record 49 of Set 1 | puerto baquerizo moreno\n",
      "Processing Record 50 of Set 1 | abu samrah\n",
      "Processing Record 1 of Set 2 | bredasdorp\n",
      "Processing Record 2 of Set 2 | butaritari\n",
      "Processing Record 3 of Set 2 | khatanga\n",
      "City not found. Skipping...\n",
      "Processing Record 4 of Set 2 | yuli\n",
      "Processing Record 5 of Set 2 | sorland\n",
      "Processing Record 6 of Set 2 | dikson\n",
      "Processing Record 7 of Set 2 | groningen\n",
      "Processing Record 8 of Set 2 | baruun-urt\n",
      "Processing Record 9 of Set 2 | vila velha\n",
      "Processing Record 10 of Set 2 | barrow\n",
      "Processing Record 11 of Set 2 | hasaki\n",
      "Processing Record 12 of Set 2 | ushuaia\n",
      "Processing Record 13 of Set 2 | katsuura\n",
      "Processing Record 14 of Set 2 | lebu\n",
      "Processing Record 15 of Set 2 | rujiena\n",
      "Processing Record 16 of Set 2 | comodoro rivadavia\n",
      "Processing Record 17 of Set 2 | chokurdakh\n",
      "Processing Record 18 of Set 2 | san cristobal\n",
      "Processing Record 19 of Set 2 | werneck\n",
      "Processing Record 20 of Set 2 | cherskiy\n",
      "Processing Record 21 of Set 2 | sao filipe\n",
      "Processing Record 22 of Set 2 | oytal\n",
      "Processing Record 23 of Set 2 | severo-kurilsk\n",
      "City not found. Skipping...\n",
      "Processing Record 24 of Set 2 | kavieng\n",
      "City not found. Skipping...\n",
      "Processing Record 25 of Set 2 | ponta do sol\n",
      "Processing Record 26 of Set 2 | guerrero negro\n",
      "Processing Record 27 of Set 2 | bluff\n",
      "Processing Record 28 of Set 2 | sorong\n",
      "Processing Record 29 of Set 2 | saldanha\n",
      "Processing Record 30 of Set 2 | grand gaube\n",
      "Processing Record 31 of Set 2 | sur\n",
      "Processing Record 32 of Set 2 | avarua\n",
      "City not found. Skipping...\n",
      "Processing Record 33 of Set 2 | ribeira grande\n",
      "Processing Record 34 of Set 2 | broken hill\n",
      "Processing Record 35 of Set 2 | along\n",
      "Processing Record 36 of Set 2 | amga\n",
      "Processing Record 37 of Set 2 | awbari\n",
      "City not found. Skipping...\n",
      "Processing Record 38 of Set 2 | victoria\n",
      "Processing Record 39 of Set 2 | northam\n",
      "Processing Record 40 of Set 2 | buala\n",
      "Processing Record 41 of Set 2 | poya\n",
      "Processing Record 42 of Set 2 | mirnyy\n",
      "Processing Record 43 of Set 2 | mecca\n",
      "Processing Record 44 of Set 2 | pacific grove\n",
      "Processing Record 45 of Set 2 | salalah\n",
      "Processing Record 46 of Set 2 | nikolskoye\n",
      "Processing Record 47 of Set 2 | ascension\n",
      "Processing Record 48 of Set 2 | markivka\n",
      "Processing Record 49 of Set 2 | mayna\n",
      "Processing Record 50 of Set 2 | havoysund\n",
      "Processing Record 1 of Set 3 | punta arenas\n",
      "Processing Record 2 of Set 3 | makakilo city\n",
      "Processing Record 3 of Set 3 | jamestown\n",
      "Processing Record 4 of Set 3 | hilo\n",
      "Processing Record 5 of Set 3 | namibe\n",
      "Processing Record 6 of Set 3 | tyukalinsk\n",
      "Processing Record 7 of Set 3 | hambantota\n",
      "Processing Record 8 of Set 3 | naze\n",
      "Processing Record 9 of Set 3 | santa ana\n",
      "Processing Record 10 of Set 3 | dunedin\n",
      "Processing Record 11 of Set 3 | albany\n",
      "Processing Record 12 of Set 3 | grindavik\n",
      "Processing Record 13 of Set 3 | kundiawa\n",
      "Processing Record 14 of Set 3 | pangnirtung\n",
      "Processing Record 15 of Set 3 | yaring\n",
      "Processing Record 16 of Set 3 | kinkala\n",
      "Processing Record 17 of Set 3 | ostersund\n",
      "Processing Record 18 of Set 3 | khani\n",
      "Processing Record 19 of Set 3 | nanortalik\n",
      "Processing Record 20 of Set 3 | satana\n",
      "City not found. Skipping...\n",
      "Processing Record 21 of Set 3 | hithadhoo\n",
      "City not found. Skipping...\n",
      "Processing Record 22 of Set 3 | beringovskiy\n",
      "Processing Record 23 of Set 3 | vao\n",
      "Processing Record 24 of Set 3 | visby\n",
      "Processing Record 25 of Set 3 | ukiah\n",
      "Processing Record 26 of Set 3 | adre\n",
      "Processing Record 27 of Set 3 | kaeo\n",
      "Processing Record 28 of Set 3 | manyana\n",
      "Processing Record 29 of Set 3 | leningradskiy\n",
      "City not found. Skipping...\n",
      "Processing Record 30 of Set 3 | saint george\n",
      "Processing Record 31 of Set 3 | ust-kishert\n",
      "Processing Record 32 of Set 3 | pyshma\n",
      "Processing Record 33 of Set 3 | longyearbyen\n",
      "Processing Record 34 of Set 3 | erenhot\n",
      "Processing Record 35 of Set 3 | douentza\n",
      "Processing Record 36 of Set 3 | faya\n",
      "Processing Record 37 of Set 3 | nishihara\n",
      "Processing Record 38 of Set 3 | gat\n",
      "Processing Record 39 of Set 3 | sabzevar\n",
      "Processing Record 40 of Set 3 | maracas\n",
      "Processing Record 41 of Set 3 | isilkul\n",
      "Processing Record 42 of Set 3 | andenes\n",
      "Processing Record 43 of Set 3 | kushima\n",
      "Processing Record 44 of Set 3 | port elizabeth\n",
      "Processing Record 45 of Set 3 | deputatskiy\n",
      "Processing Record 46 of Set 3 | kaitangata\n",
      "Processing Record 47 of Set 3 | renfrew\n",
      "Processing Record 48 of Set 3 | hay river\n",
      "Processing Record 49 of Set 3 | gokak\n",
      "Processing Record 50 of Set 3 | inuvik\n",
      "Processing Record 1 of Set 4 | asfi\n",
      "City not found. Skipping...\n",
      "Processing Record 2 of Set 4 | ilhabela\n",
      "Processing Record 3 of Set 4 | grand forks\n",
      "Processing Record 4 of Set 4 | batemans bay\n",
      "Processing Record 5 of Set 4 | comarapa\n",
      "Processing Record 6 of Set 4 | chunskiy\n",
      "Processing Record 7 of Set 4 | acaponeta\n",
      "Processing Record 8 of Set 4 | airai\n",
      "Processing Record 9 of Set 4 | piotrkow trybunalski\n",
      "Processing Record 10 of Set 4 | nome\n",
      "Processing Record 11 of Set 4 | saint-denis\n",
      "Processing Record 12 of Set 4 | dallas\n",
      "Processing Record 13 of Set 4 | tasiilaq\n",
      "Processing Record 14 of Set 4 | deniliquin\n",
      "Processing Record 15 of Set 4 | cabo san lucas\n",
      "Processing Record 16 of Set 4 | zhangye\n",
      "Processing Record 17 of Set 4 | winchester\n",
      "Processing Record 18 of Set 4 | cidreira\n",
      "Processing Record 19 of Set 4 | iskateley\n",
      "Processing Record 20 of Set 4 | castro\n",
      "Processing Record 21 of Set 4 | new norfolk\n",
      "Processing Record 22 of Set 4 | cam ranh\n",
      "Processing Record 23 of Set 4 | lisakovsk\n",
      "Processing Record 24 of Set 4 | kalmunai\n",
      "Processing Record 25 of Set 4 | brae\n",
      "Processing Record 26 of Set 4 | khorixas\n",
      "Processing Record 27 of Set 4 | san patricio\n",
      "Processing Record 28 of Set 4 | muros\n",
      "Processing Record 29 of Set 4 | lumphat\n",
      "Processing Record 30 of Set 4 | irara\n",
      "Processing Record 31 of Set 4 | bethel\n",
      "Processing Record 32 of Set 4 | sitka\n",
      "Processing Record 33 of Set 4 | tuktoyaktuk\n",
      "Processing Record 34 of Set 4 | ilulissat\n",
      "Processing Record 35 of Set 4 | puqi\n",
      "Processing Record 36 of Set 4 | sabha\n",
      "Processing Record 37 of Set 4 | paldiski\n"
     ]
    },
    {
     "name": "stdout",
     "output_type": "stream",
     "text": [
      "City not found. Skipping...\n",
      "Processing Record 38 of Set 4 | margate\n",
      "City not found. Skipping...\n",
      "Processing Record 39 of Set 4 | constitucion\n",
      "Processing Record 40 of Set 4 | jiuquan\n",
      "Processing Record 41 of Set 4 | vestmannaeyjar\n",
      "City not found. Skipping...\n",
      "Processing Record 42 of Set 4 | ulefoss\n",
      "Processing Record 43 of Set 4 | ballina\n",
      "Processing Record 44 of Set 4 | illapel\n",
      "Processing Record 45 of Set 4 | dingle\n",
      "Processing Record 46 of Set 4 | mustasaari\n",
      "Processing Record 47 of Set 4 | saskylakh\n",
      "Processing Record 48 of Set 4 | santa fe\n",
      "Processing Record 49 of Set 4 | ust-maya\n",
      "Processing Record 50 of Set 4 | derzhavinsk\n",
      "Processing Record 1 of Set 5 | eureka\n",
      "City not found. Skipping...\n",
      "Processing Record 2 of Set 5 | lorengau\n",
      "Processing Record 3 of Set 5 | itapirapua\n",
      "Processing Record 4 of Set 5 | noumea\n",
      "Processing Record 5 of Set 5 | port augusta\n",
      "Processing Record 6 of Set 5 | bambanglipuro\n",
      "Processing Record 7 of Set 5 | poum\n",
      "City not found. Skipping...\n",
      "City not found. Skipping...\n",
      "Processing Record 8 of Set 5 | emirdag\n",
      "Processing Record 9 of Set 5 | omboue\n",
      "Processing Record 10 of Set 5 | basoko\n",
      "Processing Record 11 of Set 5 | kuytun\n",
      "Processing Record 12 of Set 5 | kodiak\n",
      "Processing Record 13 of Set 5 | atikokan\n",
      "Processing Record 14 of Set 5 | qaqortoq\n",
      "Processing Record 15 of Set 5 | komsomolskiy\n",
      "Processing Record 16 of Set 5 | sept-iles\n",
      "Processing Record 17 of Set 5 | north bend\n",
      "Processing Record 18 of Set 5 | norman wells\n",
      "Processing Record 19 of Set 5 | kununurra\n",
      "Processing Record 20 of Set 5 | yarmouth\n",
      "Processing Record 21 of Set 5 | fortuna\n",
      "City not found. Skipping...\n",
      "City not found. Skipping...\n",
      "Processing Record 22 of Set 5 | araouane\n",
      "Processing Record 23 of Set 5 | souillac\n",
      "Processing Record 24 of Set 5 | caravelas\n",
      "Processing Record 25 of Set 5 | ertil\n",
      "Processing Record 26 of Set 5 | roebourne\n",
      "City not found. Skipping...\n",
      "Processing Record 27 of Set 5 | provideniya\n",
      "Processing Record 28 of Set 5 | loei\n",
      "Processing Record 29 of Set 5 | bang sai\n",
      "Processing Record 30 of Set 5 | mahibadhoo\n",
      "Processing Record 31 of Set 5 | lazaro cardenas\n",
      "City not found. Skipping...\n",
      "Processing Record 32 of Set 5 | erzin\n",
      "Processing Record 33 of Set 5 | dryden\n",
      "Processing Record 34 of Set 5 | shalya\n",
      "Processing Record 35 of Set 5 | kokopo\n",
      "Processing Record 36 of Set 5 | torbay\n",
      "Processing Record 37 of Set 5 | ulan-ude\n",
      "Processing Record 38 of Set 5 | ubinskoye\n",
      "Processing Record 39 of Set 5 | shetpe\n",
      "Processing Record 40 of Set 5 | nyaunglebin\n",
      "Processing Record 41 of Set 5 | hofn\n",
      "Processing Record 42 of Set 5 | wembley\n",
      "Processing Record 43 of Set 5 | marawi\n",
      "Processing Record 44 of Set 5 | mandalgovi\n",
      "Processing Record 45 of Set 5 | upata\n",
      "Processing Record 46 of Set 5 | cookeville\n",
      "Processing Record 47 of Set 5 | vardo\n",
      "Processing Record 48 of Set 5 | kahului\n",
      "Processing Record 49 of Set 5 | fukue\n",
      "Processing Record 50 of Set 5 | ratnagiri\n",
      "Processing Record 1 of Set 6 | alcudia\n",
      "Processing Record 2 of Set 6 | naryan-mar\n",
      "Processing Record 3 of Set 6 | los llanos de aridane\n",
      "Processing Record 4 of Set 6 | mahebourg\n",
      "Processing Record 5 of Set 6 | guisa\n",
      "Processing Record 6 of Set 6 | russell\n",
      "Processing Record 7 of Set 6 | santa maria del oro\n",
      "Processing Record 8 of Set 6 | teguldet\n",
      "Processing Record 9 of Set 6 | tuatapere\n",
      "Processing Record 10 of Set 6 | richards bay\n",
      "Processing Record 11 of Set 6 | monticello\n",
      "Processing Record 12 of Set 6 | arman\n",
      "Processing Record 13 of Set 6 | levelland\n",
      "Processing Record 14 of Set 6 | boshnyakovo\n",
      "Processing Record 15 of Set 6 | priargunsk\n",
      "Processing Record 16 of Set 6 | tairua\n",
      "City not found. Skipping...\n",
      "Processing Record 17 of Set 6 | ugoofaaru\n",
      "Processing Record 18 of Set 6 | conde\n",
      "Processing Record 19 of Set 6 | carnarvon\n",
      "Processing Record 20 of Set 6 | verkhoyansk\n",
      "City not found. Skipping...\n",
      "Processing Record 21 of Set 6 | mount gambier\n",
      "Processing Record 22 of Set 6 | nobres\n",
      "Processing Record 23 of Set 6 | mayumba\n",
      "Processing Record 24 of Set 6 | epanomi\n",
      "City not found. Skipping...\n",
      "Processing Record 25 of Set 6 | okhotsk\n",
      "Processing Record 26 of Set 6 | domoni\n",
      "Processing Record 27 of Set 6 | rognan\n",
      "Processing Record 28 of Set 6 | terra nova\n",
      "Processing Record 29 of Set 6 | saint-philippe\n",
      "Processing Record 30 of Set 6 | lata\n",
      "Processing Record 31 of Set 6 | vernon\n",
      "Processing Record 32 of Set 6 | canon city\n",
      "Processing Record 33 of Set 6 | yegorlykskaya\n",
      "Processing Record 34 of Set 6 | launceston\n",
      "Processing Record 35 of Set 6 | colac\n",
      "Processing Record 36 of Set 6 | sao felix do xingu\n",
      "Processing Record 37 of Set 6 | ankang\n",
      "Processing Record 38 of Set 6 | laguna\n",
      "Processing Record 39 of Set 6 | toamasina\n",
      "Processing Record 40 of Set 6 | hami\n",
      "Processing Record 41 of Set 6 | jaguariaiva\n",
      "Processing Record 42 of Set 6 | byron bay\n",
      "Processing Record 43 of Set 6 | thessalon\n",
      "City not found. Skipping...\n",
      "Processing Record 44 of Set 6 | iqaluit\n",
      "Processing Record 45 of Set 6 | monterey\n",
      "Processing Record 46 of Set 6 | tazovskiy\n",
      "Processing Record 47 of Set 6 | kadoshkino\n",
      "Processing Record 48 of Set 6 | quelimane\n",
      "Processing Record 49 of Set 6 | yulara\n",
      "Processing Record 50 of Set 6 | talnakh\n",
      "Processing Record 1 of Set 7 | kaka\n",
      "City not found. Skipping...\n",
      "City not found. Skipping...\n",
      "Processing Record 2 of Set 7 | inirida\n",
      "Processing Record 3 of Set 7 | zaraza\n",
      "City not found. Skipping...\n",
      "Processing Record 4 of Set 7 | churapcha\n",
      "Processing Record 5 of Set 7 | lumut\n",
      "City not found. Skipping...\n",
      "Processing Record 6 of Set 7 | chuy\n",
      "Processing Record 7 of Set 7 | rajbiraj\n",
      "Processing Record 8 of Set 7 | belen\n",
      "Processing Record 9 of Set 7 | srednekolymsk\n",
      "Processing Record 10 of Set 7 | ndola\n",
      "Processing Record 11 of Set 7 | pocone\n",
      "Processing Record 12 of Set 7 | saurimo\n",
      "Processing Record 13 of Set 7 | pochutla\n",
      "Processing Record 14 of Set 7 | darnah\n",
      "Processing Record 15 of Set 7 | ushtobe\n",
      "Processing Record 16 of Set 7 | ancud\n",
      "Processing Record 17 of Set 7 | xinqing\n",
      "Processing Record 18 of Set 7 | sao domingos do maranhao\n",
      "Processing Record 19 of Set 7 | saint-augustin\n",
      "Processing Record 20 of Set 7 | malpe\n",
      "Processing Record 21 of Set 7 | belfast\n",
      "Processing Record 22 of Set 7 | kavarna\n",
      "Processing Record 23 of Set 7 | tuy hoa\n",
      "Processing Record 24 of Set 7 | imbituba\n",
      "Processing Record 25 of Set 7 | mackenzie\n",
      "Processing Record 26 of Set 7 | san policarpo\n",
      "Processing Record 27 of Set 7 | ler\n",
      "Processing Record 28 of Set 7 | mount isa\n",
      "Processing Record 29 of Set 7 | akhmeta\n",
      "Processing Record 30 of Set 7 | mondlo\n",
      "City not found. Skipping...\n",
      "Processing Record 31 of Set 7 | fairbanks\n",
      "City not found. Skipping...\n",
      "Processing Record 32 of Set 7 | saint anthony\n",
      "Processing Record 33 of Set 7 | bengkulu\n",
      "Processing Record 34 of Set 7 | igrim\n",
      "Processing Record 35 of Set 7 | aripuana\n",
      "Processing Record 36 of Set 7 | superior\n",
      "Processing Record 37 of Set 7 | hualmay\n",
      "Processing Record 38 of Set 7 | belaya gora\n",
      "Processing Record 39 of Set 7 | hobyo\n",
      "Processing Record 40 of Set 7 | sri aman\n",
      "Processing Record 41 of Set 7 | pimentel\n",
      "Processing Record 42 of Set 7 | alofi\n",
      "Processing Record 43 of Set 7 | bathsheba\n",
      "Processing Record 44 of Set 7 | ponta delgada\n",
      "Processing Record 45 of Set 7 | santa cruz del sur\n",
      "Processing Record 46 of Set 7 | sayansk\n",
      "Processing Record 47 of Set 7 | barsovo\n",
      "Processing Record 48 of Set 7 | kirkland lake\n",
      "Processing Record 49 of Set 7 | yerbogachen\n",
      "Processing Record 50 of Set 7 | shimoda\n",
      "Processing Record 1 of Set 8 | lashio\n",
      "Processing Record 2 of Set 8 | yar-sale\n",
      "Processing Record 3 of Set 8 | paraiso\n",
      "Processing Record 4 of Set 8 | kirovskiy\n",
      "Processing Record 5 of Set 8 | big spring\n",
      "Processing Record 6 of Set 8 | arlit\n",
      "Processing Record 7 of Set 8 | balad\n",
      "Processing Record 8 of Set 8 | westport\n",
      "Processing Record 9 of Set 8 | korcula\n",
      "Processing Record 10 of Set 8 | rokytne\n",
      "Processing Record 11 of Set 8 | kembe\n",
      "Processing Record 12 of Set 8 | parainen\n",
      "Processing Record 13 of Set 8 | tabory\n",
      "Processing Record 14 of Set 8 | texarkana\n",
      "Processing Record 15 of Set 8 | kuah\n",
      "Processing Record 16 of Set 8 | bud\n",
      "Processing Record 17 of Set 8 | taoudenni\n",
      "Processing Record 18 of Set 8 | seoul\n",
      "Processing Record 19 of Set 8 | matara\n",
      "Processing Record 20 of Set 8 | mwingi\n",
      "Processing Record 21 of Set 8 | canto do buriti\n",
      "City not found. Skipping...\n",
      "Processing Record 22 of Set 8 | codrington\n",
      "Processing Record 23 of Set 8 | san luis\n",
      "Processing Record 24 of Set 8 | salinopolis\n"
     ]
    },
    {
     "name": "stdout",
     "output_type": "stream",
     "text": [
      "Processing Record 25 of Set 8 | lavrentiya\n",
      "Processing Record 26 of Set 8 | encarnacion\n",
      "City not found. Skipping...\n",
      "Processing Record 27 of Set 8 | luanda\n",
      "Processing Record 28 of Set 8 | vanimo\n",
      "City not found. Skipping...\n",
      "Processing Record 29 of Set 8 | penzance\n",
      "Processing Record 30 of Set 8 | betioky\n",
      "Processing Record 31 of Set 8 | isangel\n",
      "Processing Record 32 of Set 8 | barahona\n",
      "Processing Record 33 of Set 8 | zakamensk\n",
      "Processing Record 34 of Set 8 | madimba\n",
      "Processing Record 35 of Set 8 | dukat\n",
      "Processing Record 36 of Set 8 | luderitz\n",
      "Processing Record 37 of Set 8 | hamilton\n",
      "Processing Record 38 of Set 8 | koygorodok\n",
      "Processing Record 39 of Set 8 | areosa\n",
      "Processing Record 40 of Set 8 | bilibino\n",
      "City not found. Skipping...\n",
      "Processing Record 41 of Set 8 | mayo\n",
      "Processing Record 42 of Set 8 | apostolove\n",
      "Processing Record 43 of Set 8 | ouallam\n",
      "Processing Record 44 of Set 8 | dhidhdhoo\n",
      "Processing Record 45 of Set 8 | utica\n",
      "Processing Record 46 of Set 8 | lamu\n",
      "Processing Record 47 of Set 8 | honningsvag\n",
      "Processing Record 48 of Set 8 | oyama\n",
      "Processing Record 49 of Set 8 | christchurch\n",
      "Processing Record 50 of Set 8 | geraldton\n",
      "Processing Record 1 of Set 9 | aitape\n",
      "Processing Record 2 of Set 9 | yumen\n",
      "Processing Record 3 of Set 9 | san antonio\n",
      "Processing Record 4 of Set 9 | ginir\n",
      "Processing Record 5 of Set 9 | praia\n",
      "Processing Record 6 of Set 9 | berezovyy\n",
      "Processing Record 7 of Set 9 | birao\n",
      "Processing Record 8 of Set 9 | morant bay\n",
      "Processing Record 9 of Set 9 | springbok\n",
      "Processing Record 10 of Set 9 | nabire\n",
      "Processing Record 11 of Set 9 | seabra\n",
      "Processing Record 12 of Set 9 | tshela\n",
      "Processing Record 13 of Set 9 | sanandaj\n",
      "Processing Record 14 of Set 9 | moussoro\n",
      "Processing Record 15 of Set 9 | pemba\n",
      "Processing Record 16 of Set 9 | wajid\n",
      "Processing Record 17 of Set 9 | campbellsville\n",
      "Processing Record 18 of Set 9 | ahuimanu\n",
      "City not found. Skipping...\n",
      "Processing Record 19 of Set 9 | katobu\n",
      "Processing Record 20 of Set 9 | rawson\n",
      "City not found. Skipping...\n",
      "Processing Record 21 of Set 9 | husavik\n",
      "Processing Record 22 of Set 9 | golakganj\n",
      "Processing Record 23 of Set 9 | waddan\n",
      "Processing Record 24 of Set 9 | nantucket\n",
      "Processing Record 25 of Set 9 | kavaratti\n",
      "Processing Record 26 of Set 9 | san quintin\n",
      "Processing Record 27 of Set 9 | mikropolis\n",
      "City not found. Skipping...\n",
      "Processing Record 28 of Set 9 | shirokiy\n",
      "Processing Record 29 of Set 9 | khandbari\n",
      "Processing Record 30 of Set 9 | wahiawa\n",
      "Processing Record 31 of Set 9 | fontem\n",
      "Processing Record 32 of Set 9 | anqiu\n",
      "Processing Record 33 of Set 9 | ignacio zaragoza\n",
      "Processing Record 34 of Set 9 | broome\n",
      "Processing Record 35 of Set 9 | sao joao da barra\n",
      "City not found. Skipping...\n",
      "Processing Record 36 of Set 9 | la ferte-bernard\n",
      "Processing Record 37 of Set 9 | paracuru\n",
      "Processing Record 38 of Set 9 | santa marta\n",
      "Processing Record 39 of Set 9 | ambulu\n",
      "Processing Record 40 of Set 9 | xining\n",
      "Processing Record 41 of Set 9 | santa barbara\n",
      "Processing Record 42 of Set 9 | egvekinot\n",
      "Processing Record 43 of Set 9 | urumqi\n",
      "Processing Record 44 of Set 9 | sovetskiy\n",
      "Processing Record 45 of Set 9 | la rioja\n",
      "Processing Record 46 of Set 9 | sironj\n",
      "Processing Record 47 of Set 9 | bilma\n",
      "Processing Record 48 of Set 9 | charyshskoye\n",
      "Processing Record 49 of Set 9 | maragogi\n",
      "Processing Record 50 of Set 9 | frumoasa\n",
      "Processing Record 1 of Set 10 | ust-ilimsk\n",
      "Processing Record 2 of Set 10 | myitkyina\n",
      "Processing Record 3 of Set 10 | aki\n",
      "Processing Record 4 of Set 10 | pinawa\n",
      "Processing Record 5 of Set 10 | naron\n",
      "City not found. Skipping...\n",
      "Processing Record 6 of Set 10 | esperance\n",
      "Processing Record 7 of Set 10 | menongue\n",
      "City not found. Skipping...\n",
      "Processing Record 8 of Set 10 | svetlyy\n",
      "Processing Record 9 of Set 10 | sembakung\n",
      "Processing Record 10 of Set 10 | port macquarie\n",
      "City not found. Skipping...\n",
      "Processing Record 11 of Set 10 | orlovskiy\n",
      "Processing Record 12 of Set 10 | vila franca do campo\n",
      "Processing Record 13 of Set 10 | ulagan\n",
      "Processing Record 14 of Set 10 | osmena\n",
      "Processing Record 15 of Set 10 | kruisfontein\n",
      "Processing Record 16 of Set 10 | beroroha\n",
      "Processing Record 17 of Set 10 | camargo\n",
      "Processing Record 18 of Set 10 | barranco\n",
      "Processing Record 19 of Set 10 | kapuskasing\n",
      "Processing Record 20 of Set 10 | opuwo\n",
      "Processing Record 21 of Set 10 | mercedes\n",
      "Processing Record 22 of Set 10 | valparaiso\n",
      "Processing Record 23 of Set 10 | juruti\n",
      "Processing Record 24 of Set 10 | harper\n",
      "Processing Record 25 of Set 10 | varhaug\n",
      "Processing Record 26 of Set 10 | srandakan\n",
      "City not found. Skipping...\n",
      "Processing Record 27 of Set 10 | najran\n",
      "City not found. Skipping...\n",
      "Processing Record 28 of Set 10 | meulaboh\n",
      "Processing Record 29 of Set 10 | spencer\n",
      "Processing Record 30 of Set 10 | colares\n",
      "Processing Record 31 of Set 10 | portland\n",
      "Processing Record 32 of Set 10 | ouesso\n",
      "Processing Record 33 of Set 10 | puerto narino\n",
      "Processing Record 34 of Set 10 | kenora\n",
      "City not found. Skipping...\n",
      "Processing Record 35 of Set 10 | ifakara\n",
      "Processing Record 36 of Set 10 | henties bay\n",
      "Processing Record 37 of Set 10 | hastings\n",
      "Processing Record 38 of Set 10 | west wendover\n",
      "Processing Record 39 of Set 10 | nortelandia\n",
      "Processing Record 40 of Set 10 | upington\n",
      "City not found. Skipping...\n",
      "Processing Record 41 of Set 10 | tottori\n",
      "Processing Record 42 of Set 10 | luwuk\n",
      "Processing Record 43 of Set 10 | venkatagiri\n",
      "Processing Record 44 of Set 10 | autazes\n",
      "Processing Record 45 of Set 10 | sisimiut\n",
      "Processing Record 46 of Set 10 | linxia\n",
      "Processing Record 47 of Set 10 | muswellbrook\n",
      "Processing Record 48 of Set 10 | yanam\n",
      "Processing Record 49 of Set 10 | saint-joseph\n",
      "Processing Record 50 of Set 10 | namie\n",
      "Processing Record 1 of Set 11 | beidao\n",
      "Processing Record 2 of Set 11 | la union\n",
      "Processing Record 3 of Set 11 | blagoyevo\n",
      "Processing Record 4 of Set 11 | ibra\n",
      "Processing Record 5 of Set 11 | kizner\n",
      "Processing Record 6 of Set 11 | atar\n",
      "Processing Record 7 of Set 11 | wajima\n",
      "Processing Record 8 of Set 11 | goderich\n",
      "Processing Record 9 of Set 11 | aranos\n",
      "Processing Record 10 of Set 11 | faanui\n",
      "Processing Record 11 of Set 11 | pyay\n",
      "Processing Record 12 of Set 11 | port blair\n",
      "Processing Record 13 of Set 11 | cayenne\n",
      "Processing Record 14 of Set 11 | sola\n",
      "Processing Record 15 of Set 11 | monopoli\n",
      "Processing Record 16 of Set 11 | olot\n",
      "Processing Record 17 of Set 11 | batagay-alyta\n",
      "Processing Record 18 of Set 11 | lucea\n",
      "Processing Record 19 of Set 11 | aginskoye\n",
      "Processing Record 20 of Set 11 | karaton\n",
      "Processing Record 21 of Set 11 | talakan\n",
      "Processing Record 22 of Set 11 | masuguru\n",
      "Processing Record 23 of Set 11 | labuhan\n",
      "Processing Record 24 of Set 11 | antalaha\n",
      "Processing Record 25 of Set 11 | bealanana\n",
      "Processing Record 26 of Set 11 | mattru\n",
      "Processing Record 27 of Set 11 | ciudad bolivar\n",
      "Processing Record 28 of Set 11 | palu\n",
      "Processing Record 29 of Set 11 | saint-pierre\n",
      "Processing Record 30 of Set 11 | port-cartier\n",
      "Processing Record 31 of Set 11 | ixtapa\n",
      "Processing Record 32 of Set 11 | boysun\n",
      "Processing Record 33 of Set 11 | brooks\n",
      "Processing Record 34 of Set 11 | praia da vitoria\n",
      "Processing Record 35 of Set 11 | araceli\n",
      "Processing Record 36 of Set 11 | flinders\n",
      "Processing Record 37 of Set 11 | waw\n",
      "Processing Record 38 of Set 11 | garowe\n",
      "Processing Record 39 of Set 11 | te anau\n",
      "Processing Record 40 of Set 11 | xuddur\n",
      "Processing Record 41 of Set 11 | shenjiamen\n",
      "Processing Record 42 of Set 11 | livingston\n",
      "Processing Record 43 of Set 11 | priladozhskiy\n",
      "Processing Record 44 of Set 11 | mayor pablo lagerenza\n",
      "Processing Record 45 of Set 11 | puerto carreno\n",
      "Processing Record 46 of Set 11 | el dorado\n",
      "Processing Record 47 of Set 11 | san vicente\n",
      "Processing Record 48 of Set 11 | leon\n",
      "Processing Record 49 of Set 11 | katima mulilo\n",
      "Processing Record 50 of Set 11 | kieta\n",
      "Processing Record 1 of Set 12 | tautira\n",
      "Processing Record 2 of Set 12 | north platte\n",
      "City not found. Skipping...\n",
      "Processing Record 3 of Set 12 | tres arroyos\n",
      "Processing Record 4 of Set 12 | kemijarvi\n",
      "Processing Record 5 of Set 12 | ilmajoki\n",
      "Processing Record 6 of Set 12 | rocha\n",
      "Processing Record 7 of Set 12 | itaberaba\n",
      "Processing Record 8 of Set 12 | neiafu\n",
      "Processing Record 9 of Set 12 | lidkoping\n",
      "Processing Record 10 of Set 12 | iquitos\n",
      "Processing Record 11 of Set 12 | saint-francois\n",
      "-----------------------------\n",
      "Data Retrieval Complete\n",
      "-----------------------------\n"
     ]
    }
   ],
   "source": [
    "print('Beginning Data Retrieval\\n-----------------------------')\n",
    "n=0\n",
    "s=1\n",
    "data_dict={}\n",
    "base_url='https://api.openweathermap.org/data/2.5/weather?'\n",
    "for i in cities:\n",
    "    try:\n",
    "        city_name=i\n",
    "        \n",
    "        #get weather data for city\n",
    "        url=base_url+f'q={city_name}&units=imperial&appid={weather_api_key}'\n",
    "        data_json=requests.get(url).json()\n",
    "        \n",
    "        #focus on certain features\n",
    "        lon=float((data_json['coord']['lon']))\n",
    "        lat=float((data_json['coord']['lat']))\n",
    "        temperature=float(data_json['main']['temp_max'])\n",
    "        humidity=float(data_json['main']['humidity'])\n",
    "        cloudiness=float(data_json['clouds']['all'])\n",
    "        wind_speed=float(data_json['wind']['speed'])\n",
    "        country=data_json['sys']['country']\n",
    "        date=float(data_json['dt'])\n",
    "        data_dict.update({city_name:[lat,lon,temperature,humidity,cloudiness,wind_speed,country,date]})\n",
    "        \n",
    "        #assign every 50 records to one set\n",
    "        n+=1\n",
    "        if n>50:\n",
    "            n=1\n",
    "            s+=1\n",
    "            print(f'Processing Record {n} of Set {s} | {i}')\n",
    "        else:\n",
    "            print(f'Processing Record {n} of Set {s} | {i}')\n",
    "    except:\n",
    "        print(f'City not found. Skipping...')\n",
    "        pass\n",
    "\n",
    "\n",
    "print('-----------------------------\\nData Retrieval Complete\\n-----------------------------')"
   ]
  },
  {
   "cell_type": "markdown",
   "metadata": {},
   "source": [
    "### Convert Raw Data to DataFrame\n",
    "* Export the city data into a .csv.\n",
    "* Display the DataFrame"
   ]
  },
  {
   "cell_type": "code",
   "execution_count": 4,
   "metadata": {},
   "outputs": [],
   "source": [
    "df=pd.DataFrame(data_dict).T\n",
    "df.reset_index(inplace=True)\n",
    "df.columns=['City','Lat','Lng','Max Temp','Humidity','Cloudiness','Wind Speed','Country','Date']"
   ]
  },
  {
   "cell_type": "code",
   "execution_count": 5,
   "metadata": {},
   "outputs": [],
   "source": [
    "#export into a csv\n",
    "df.to_csv(\"weather_data.csv\")"
   ]
  },
  {
   "cell_type": "code",
   "execution_count": 6,
   "metadata": {
    "scrolled": true
   },
   "outputs": [
    {
     "data": {
      "text/plain": [
       "City          561\n",
       "Lat           561\n",
       "Lng           561\n",
       "Max Temp      561\n",
       "Humidity      561\n",
       "Cloudiness    561\n",
       "Wind Speed    561\n",
       "Country       561\n",
       "Date          561\n",
       "dtype: int64"
      ]
     },
     "execution_count": 6,
     "metadata": {},
     "output_type": "execute_result"
    }
   ],
   "source": [
    "df.count()"
   ]
  },
  {
   "cell_type": "code",
   "execution_count": 7,
   "metadata": {
    "scrolled": true
   },
   "outputs": [
    {
     "data": {
      "text/html": [
       "<div>\n",
       "<style scoped>\n",
       "    .dataframe tbody tr th:only-of-type {\n",
       "        vertical-align: middle;\n",
       "    }\n",
       "\n",
       "    .dataframe tbody tr th {\n",
       "        vertical-align: top;\n",
       "    }\n",
       "\n",
       "    .dataframe thead th {\n",
       "        text-align: right;\n",
       "    }\n",
       "</style>\n",
       "<table border=\"1\" class=\"dataframe\">\n",
       "  <thead>\n",
       "    <tr style=\"text-align: right;\">\n",
       "      <th></th>\n",
       "      <th>City</th>\n",
       "      <th>Lat</th>\n",
       "      <th>Lng</th>\n",
       "      <th>Max Temp</th>\n",
       "      <th>Humidity</th>\n",
       "      <th>Cloudiness</th>\n",
       "      <th>Wind Speed</th>\n",
       "      <th>Country</th>\n",
       "      <th>Date</th>\n",
       "    </tr>\n",
       "  </thead>\n",
       "  <tbody>\n",
       "    <tr>\n",
       "      <th>0</th>\n",
       "      <td>aswan</td>\n",
       "      <td>24.09</td>\n",
       "      <td>32.91</td>\n",
       "      <td>91.74</td>\n",
       "      <td>18</td>\n",
       "      <td>0</td>\n",
       "      <td>11.97</td>\n",
       "      <td>EG</td>\n",
       "      <td>1.59571e+09</td>\n",
       "    </tr>\n",
       "    <tr>\n",
       "      <th>1</th>\n",
       "      <td>puerto ayora</td>\n",
       "      <td>-0.74</td>\n",
       "      <td>-90.35</td>\n",
       "      <td>68</td>\n",
       "      <td>94</td>\n",
       "      <td>86</td>\n",
       "      <td>5.01</td>\n",
       "      <td>EC</td>\n",
       "      <td>1.59571e+09</td>\n",
       "    </tr>\n",
       "    <tr>\n",
       "      <th>2</th>\n",
       "      <td>rikitea</td>\n",
       "      <td>-23.12</td>\n",
       "      <td>-134.97</td>\n",
       "      <td>70.07</td>\n",
       "      <td>80</td>\n",
       "      <td>18</td>\n",
       "      <td>22.62</td>\n",
       "      <td>PF</td>\n",
       "      <td>1.59571e+09</td>\n",
       "    </tr>\n",
       "    <tr>\n",
       "      <th>3</th>\n",
       "      <td>petropavlovsk-kamchatskiy</td>\n",
       "      <td>53.05</td>\n",
       "      <td>158.65</td>\n",
       "      <td>59</td>\n",
       "      <td>82</td>\n",
       "      <td>100</td>\n",
       "      <td>6.71</td>\n",
       "      <td>RU</td>\n",
       "      <td>1.59571e+09</td>\n",
       "    </tr>\n",
       "    <tr>\n",
       "      <th>4</th>\n",
       "      <td>bambous virieux</td>\n",
       "      <td>-20.34</td>\n",
       "      <td>57.76</td>\n",
       "      <td>69.01</td>\n",
       "      <td>56</td>\n",
       "      <td>75</td>\n",
       "      <td>14.99</td>\n",
       "      <td>MU</td>\n",
       "      <td>1.59571e+09</td>\n",
       "    </tr>\n",
       "  </tbody>\n",
       "</table>\n",
       "</div>"
      ],
      "text/plain": [
       "                        City    Lat     Lng Max Temp Humidity Cloudiness  \\\n",
       "0                      aswan  24.09   32.91    91.74       18          0   \n",
       "1               puerto ayora  -0.74  -90.35       68       94         86   \n",
       "2                    rikitea -23.12 -134.97    70.07       80         18   \n",
       "3  petropavlovsk-kamchatskiy  53.05  158.65       59       82        100   \n",
       "4            bambous virieux -20.34   57.76    69.01       56         75   \n",
       "\n",
       "  Wind Speed Country         Date  \n",
       "0      11.97      EG  1.59571e+09  \n",
       "1       5.01      EC  1.59571e+09  \n",
       "2      22.62      PF  1.59571e+09  \n",
       "3       6.71      RU  1.59571e+09  \n",
       "4      14.99      MU  1.59571e+09  "
      ]
     },
     "execution_count": 7,
     "metadata": {},
     "output_type": "execute_result"
    }
   ],
   "source": [
    "df.head()"
   ]
  },
  {
   "cell_type": "markdown",
   "metadata": {},
   "source": [
    "## Inspect the data and remove the cities where the humidity > 100%.\n",
    "----\n",
    "Skip this step if there are no cities that have humidity > 100%. "
   ]
  },
  {
   "cell_type": "code",
   "execution_count": 8,
   "metadata": {
    "scrolled": false
   },
   "outputs": [
    {
     "data": {
      "text/html": [
       "<div>\n",
       "<style scoped>\n",
       "    .dataframe tbody tr th:only-of-type {\n",
       "        vertical-align: middle;\n",
       "    }\n",
       "\n",
       "    .dataframe tbody tr th {\n",
       "        vertical-align: top;\n",
       "    }\n",
       "\n",
       "    .dataframe thead th {\n",
       "        text-align: right;\n",
       "    }\n",
       "</style>\n",
       "<table border=\"1\" class=\"dataframe\">\n",
       "  <thead>\n",
       "    <tr style=\"text-align: right;\">\n",
       "      <th></th>\n",
       "      <th>Lat</th>\n",
       "      <th>Lng</th>\n",
       "      <th>Max Temp</th>\n",
       "      <th>Humidity</th>\n",
       "      <th>Cloudiness</th>\n",
       "      <th>Wind Speed</th>\n",
       "      <th>Date</th>\n",
       "    </tr>\n",
       "  </thead>\n",
       "  <tbody>\n",
       "    <tr>\n",
       "      <th>count</th>\n",
       "      <td>561.000000</td>\n",
       "      <td>561.000000</td>\n",
       "      <td>561.000000</td>\n",
       "      <td>561.000000</td>\n",
       "      <td>561.000000</td>\n",
       "      <td>561.000000</td>\n",
       "      <td>5.610000e+02</td>\n",
       "    </tr>\n",
       "    <tr>\n",
       "      <th>mean</th>\n",
       "      <td>20.650178</td>\n",
       "      <td>20.489234</td>\n",
       "      <td>69.072906</td>\n",
       "      <td>71.511586</td>\n",
       "      <td>50.901961</td>\n",
       "      <td>7.930107</td>\n",
       "      <td>1.595715e+09</td>\n",
       "    </tr>\n",
       "    <tr>\n",
       "      <th>std</th>\n",
       "      <td>33.407356</td>\n",
       "      <td>90.661629</td>\n",
       "      <td>13.973863</td>\n",
       "      <td>20.667183</td>\n",
       "      <td>38.890864</td>\n",
       "      <td>5.756055</td>\n",
       "      <td>8.031822e+01</td>\n",
       "    </tr>\n",
       "    <tr>\n",
       "      <th>min</th>\n",
       "      <td>-54.800000</td>\n",
       "      <td>-179.170000</td>\n",
       "      <td>30.200000</td>\n",
       "      <td>1.000000</td>\n",
       "      <td>0.000000</td>\n",
       "      <td>0.220000</td>\n",
       "      <td>1.595714e+09</td>\n",
       "    </tr>\n",
       "    <tr>\n",
       "      <th>25%</th>\n",
       "      <td>-6.880000</td>\n",
       "      <td>-59.430000</td>\n",
       "      <td>57.600000</td>\n",
       "      <td>60.000000</td>\n",
       "      <td>7.000000</td>\n",
       "      <td>3.830000</td>\n",
       "      <td>1.595715e+09</td>\n",
       "    </tr>\n",
       "    <tr>\n",
       "      <th>50%</th>\n",
       "      <td>25.380000</td>\n",
       "      <td>23.620000</td>\n",
       "      <td>71.600000</td>\n",
       "      <td>77.000000</td>\n",
       "      <td>52.000000</td>\n",
       "      <td>6.620000</td>\n",
       "      <td>1.595715e+09</td>\n",
       "    </tr>\n",
       "    <tr>\n",
       "      <th>75%</th>\n",
       "      <td>49.780000</td>\n",
       "      <td>101.370000</td>\n",
       "      <td>79.300000</td>\n",
       "      <td>88.000000</td>\n",
       "      <td>90.000000</td>\n",
       "      <td>11.010000</td>\n",
       "      <td>1.595715e+09</td>\n",
       "    </tr>\n",
       "    <tr>\n",
       "      <th>max</th>\n",
       "      <td>78.220000</td>\n",
       "      <td>179.320000</td>\n",
       "      <td>101.890000</td>\n",
       "      <td>100.000000</td>\n",
       "      <td>100.000000</td>\n",
       "      <td>55.990000</td>\n",
       "      <td>1.595715e+09</td>\n",
       "    </tr>\n",
       "  </tbody>\n",
       "</table>\n",
       "</div>"
      ],
      "text/plain": [
       "              Lat         Lng    Max Temp    Humidity  Cloudiness  Wind Speed  \\\n",
       "count  561.000000  561.000000  561.000000  561.000000  561.000000  561.000000   \n",
       "mean    20.650178   20.489234   69.072906   71.511586   50.901961    7.930107   \n",
       "std     33.407356   90.661629   13.973863   20.667183   38.890864    5.756055   \n",
       "min    -54.800000 -179.170000   30.200000    1.000000    0.000000    0.220000   \n",
       "25%     -6.880000  -59.430000   57.600000   60.000000    7.000000    3.830000   \n",
       "50%     25.380000   23.620000   71.600000   77.000000   52.000000    6.620000   \n",
       "75%     49.780000  101.370000   79.300000   88.000000   90.000000   11.010000   \n",
       "max     78.220000  179.320000  101.890000  100.000000  100.000000   55.990000   \n",
       "\n",
       "               Date  \n",
       "count  5.610000e+02  \n",
       "mean   1.595715e+09  \n",
       "std    8.031822e+01  \n",
       "min    1.595714e+09  \n",
       "25%    1.595715e+09  \n",
       "50%    1.595715e+09  \n",
       "75%    1.595715e+09  \n",
       "max    1.595715e+09  "
      ]
     },
     "execution_count": 8,
     "metadata": {},
     "output_type": "execute_result"
    }
   ],
   "source": [
    "df[['Lat','Lng','Max Temp','Humidity','Cloudiness','Wind Speed','Date']].astype(float).describe()"
   ]
  },
  {
   "cell_type": "code",
   "execution_count": 9,
   "metadata": {},
   "outputs": [
    {
     "data": {
      "text/plain": [
       "Int64Index([], dtype='int64')"
      ]
     },
     "execution_count": 9,
     "metadata": {},
     "output_type": "execute_result"
    }
   ],
   "source": [
    "#  Get the indices of cities that have humidity over 100%.\n",
    "df.index[df['Humidity']>100]"
   ]
  },
  {
   "cell_type": "code",
   "execution_count": 10,
   "metadata": {},
   "outputs": [],
   "source": [
    "# Make a new DataFrame equal to the city data to drop all humidity outliers by index.\n",
    "# Passing \"inplace=False\" will make a copy of the city_data DataFrame, which we call \"clean_city_data\".\n"
   ]
  },
  {
   "cell_type": "code",
   "execution_count": 11,
   "metadata": {},
   "outputs": [],
   "source": [
    "# Extract relevant fields from the data frame\n",
    "\n",
    "\n",
    "# Export the City_Data into a csv\n"
   ]
  },
  {
   "cell_type": "markdown",
   "metadata": {},
   "source": [
    "## Plotting the Data\n",
    "* Use proper labeling of the plots using plot titles (including date of analysis) and axes labels.\n",
    "* Save the plotted figures as .pngs."
   ]
  },
  {
   "cell_type": "markdown",
   "metadata": {},
   "source": [
    "## Latitude vs. Temperature Plot"
   ]
  },
  {
   "cell_type": "code",
   "execution_count": 12,
   "metadata": {},
   "outputs": [
    {
     "data": {
      "text/html": [
       "<div>\n",
       "<style scoped>\n",
       "    .dataframe tbody tr th:only-of-type {\n",
       "        vertical-align: middle;\n",
       "    }\n",
       "\n",
       "    .dataframe tbody tr th {\n",
       "        vertical-align: top;\n",
       "    }\n",
       "\n",
       "    .dataframe thead th {\n",
       "        text-align: right;\n",
       "    }\n",
       "</style>\n",
       "<table border=\"1\" class=\"dataframe\">\n",
       "  <thead>\n",
       "    <tr style=\"text-align: right;\">\n",
       "      <th></th>\n",
       "      <th>Lat</th>\n",
       "      <th>Max Temp</th>\n",
       "    </tr>\n",
       "  </thead>\n",
       "  <tbody>\n",
       "    <tr>\n",
       "      <th>0</th>\n",
       "      <td>24.09</td>\n",
       "      <td>91.74</td>\n",
       "    </tr>\n",
       "    <tr>\n",
       "      <th>1</th>\n",
       "      <td>-0.74</td>\n",
       "      <td>68</td>\n",
       "    </tr>\n",
       "    <tr>\n",
       "      <th>2</th>\n",
       "      <td>-23.12</td>\n",
       "      <td>70.07</td>\n",
       "    </tr>\n",
       "    <tr>\n",
       "      <th>3</th>\n",
       "      <td>53.05</td>\n",
       "      <td>59</td>\n",
       "    </tr>\n",
       "    <tr>\n",
       "      <th>4</th>\n",
       "      <td>-20.34</td>\n",
       "      <td>69.01</td>\n",
       "    </tr>\n",
       "  </tbody>\n",
       "</table>\n",
       "</div>"
      ],
      "text/plain": [
       "     Lat Max Temp\n",
       "0  24.09    91.74\n",
       "1  -0.74       68\n",
       "2 -23.12    70.07\n",
       "3  53.05       59\n",
       "4 -20.34    69.01"
      ]
     },
     "execution_count": 12,
     "metadata": {},
     "output_type": "execute_result"
    }
   ],
   "source": [
    "data=df[['Lat','Max Temp']]\n",
    "data.head()"
   ]
  },
  {
   "cell_type": "code",
   "execution_count": 13,
   "metadata": {},
   "outputs": [
    {
     "data": {
      "text/plain": [
       "Text(0, 0.5, 'Max Temperature (F)')"
      ]
     },
     "execution_count": 13,
     "metadata": {},
     "output_type": "execute_result"
    },
    {
     "data": {
      "image/png": "[encoded data removed]",
      "text/plain": [
       "<Figure size 432x288 with 1 Axes>"
      ]
     },
     "metadata": {
      "needs_background": "light"
     },
     "output_type": "display_data"
    }
   ],
   "source": [
    "#plot graphic\n",
    "plt.scatter(data['Lat'],data['Max Temp'],edgecolors='black')\n",
    "plt.grid()\n",
    "plt.title('City Latitude vs. Max temeprature (04/01/20)')\n",
    "plt.xlabel('Latitude')\n",
    "plt.ylabel('Max Temperature (F)')\n"
   ]
  },
  {
   "cell_type": "markdown",
   "metadata": {},
   "source": [
    "## Latitude vs. Humidity Plot"
   ]
  },
  {
   "cell_type": "code",
   "execution_count": 14,
   "metadata": {},
   "outputs": [
    {
     "data": {
      "text/html": [
       "<div>\n",
       "<style scoped>\n",
       "    .dataframe tbody tr th:only-of-type {\n",
       "        vertical-align: middle;\n",
       "    }\n",
       "\n",
       "    .dataframe tbody tr th {\n",
       "        vertical-align: top;\n",
       "    }\n",
       "\n",
       "    .dataframe thead th {\n",
       "        text-align: right;\n",
       "    }\n",
       "</style>\n",
       "<table border=\"1\" class=\"dataframe\">\n",
       "  <thead>\n",
       "    <tr style=\"text-align: right;\">\n",
       "      <th></th>\n",
       "      <th>Lat</th>\n",
       "      <th>Humidity</th>\n",
       "    </tr>\n",
       "  </thead>\n",
       "  <tbody>\n",
       "    <tr>\n",
       "      <th>0</th>\n",
       "      <td>24.09</td>\n",
       "      <td>18</td>\n",
       "    </tr>\n",
       "    <tr>\n",
       "      <th>1</th>\n",
       "      <td>-0.74</td>\n",
       "      <td>94</td>\n",
       "    </tr>\n",
       "    <tr>\n",
       "      <th>2</th>\n",
       "      <td>-23.12</td>\n",
       "      <td>80</td>\n",
       "    </tr>\n",
       "    <tr>\n",
       "      <th>3</th>\n",
       "      <td>53.05</td>\n",
       "      <td>82</td>\n",
       "    </tr>\n",
       "    <tr>\n",
       "      <th>4</th>\n",
       "      <td>-20.34</td>\n",
       "      <td>56</td>\n",
       "    </tr>\n",
       "  </tbody>\n",
       "</table>\n",
       "</div>"
      ],
      "text/plain": [
       "     Lat Humidity\n",
       "0  24.09       18\n",
       "1  -0.74       94\n",
       "2 -23.12       80\n",
       "3  53.05       82\n",
       "4 -20.34       56"
      ]
     },
     "execution_count": 14,
     "metadata": {},
     "output_type": "execute_result"
    }
   ],
   "source": [
    "data=df[['Lat','Humidity']]\n",
    "data.head()"
   ]
  },
  {
   "cell_type": "code",
   "execution_count": 15,
   "metadata": {},
   "outputs": [
    {
     "data": {
      "text/plain": [
       "Text(0.5, 0, 'Latitude')"
      ]
     },
     "execution_count": 15,
     "metadata": {},
     "output_type": "execute_result"
    },
    {
     "data": {
      "image/png": "[encoded data removed]",
      "text/plain": [
       "<Figure size 432x288 with 1 Axes>"
      ]
     },
     "metadata": {
      "needs_background": "light"
     },
     "output_type": "display_data"
    }
   ],
   "source": [
    "plt.scatter(data['Lat'],data['Humidity'],edgecolors='black')\n",
    "plt.title('City Latitude vs. Humidity (04/01/20)')\n",
    "plt.ylabel('Humidity (%)')\n",
    "plt.xlabel('Latitude')"
   ]
  },
  {
   "cell_type": "markdown",
   "metadata": {},
   "source": [
    "## Latitude vs. Cloudiness Plot"
   ]
  },
  {
   "cell_type": "code",
   "execution_count": 16,
   "metadata": {},
   "outputs": [
    {
     "data": {
      "text/html": [
       "<div>\n",
       "<style scoped>\n",
       "    .dataframe tbody tr th:only-of-type {\n",
       "        vertical-align: middle;\n",
       "    }\n",
       "\n",
       "    .dataframe tbody tr th {\n",
       "        vertical-align: top;\n",
       "    }\n",
       "\n",
       "    .dataframe thead th {\n",
       "        text-align: right;\n",
       "    }\n",
       "</style>\n",
       "<table border=\"1\" class=\"dataframe\">\n",
       "  <thead>\n",
       "    <tr style=\"text-align: right;\">\n",
       "      <th></th>\n",
       "      <th>Lat</th>\n",
       "      <th>Cloudiness</th>\n",
       "    </tr>\n",
       "  </thead>\n",
       "  <tbody>\n",
       "    <tr>\n",
       "      <th>0</th>\n",
       "      <td>24.09</td>\n",
       "      <td>0</td>\n",
       "    </tr>\n",
       "    <tr>\n",
       "      <th>1</th>\n",
       "      <td>-0.74</td>\n",
       "      <td>86</td>\n",
       "    </tr>\n",
       "    <tr>\n",
       "      <th>2</th>\n",
       "      <td>-23.12</td>\n",
       "      <td>18</td>\n",
       "    </tr>\n",
       "    <tr>\n",
       "      <th>3</th>\n",
       "      <td>53.05</td>\n",
       "      <td>100</td>\n",
       "    </tr>\n",
       "    <tr>\n",
       "      <th>4</th>\n",
       "      <td>-20.34</td>\n",
       "      <td>75</td>\n",
       "    </tr>\n",
       "  </tbody>\n",
       "</table>\n",
       "</div>"
      ],
      "text/plain": [
       "     Lat Cloudiness\n",
       "0  24.09          0\n",
       "1  -0.74         86\n",
       "2 -23.12         18\n",
       "3  53.05        100\n",
       "4 -20.34         75"
      ]
     },
     "execution_count": 16,
     "metadata": {},
     "output_type": "execute_result"
    }
   ],
   "source": [
    "data=df[['Lat','Cloudiness']]\n",
    "data.head()"
   ]
  },
  {
   "cell_type": "code",
   "execution_count": 17,
   "metadata": {},
   "outputs": [
    {
     "data": {
      "text/plain": [
       "Text(0.5, 0, 'Latitude')"
      ]
     },
     "execution_count": 17,
     "metadata": {},
     "output_type": "execute_result"
    },
    {
     "data": {
      "image/png": "[encoded data removed]",
      "text/plain": [
       "<Figure size 432x288 with 1 Axes>"
      ]
     },
     "metadata": {
      "needs_background": "light"
     },
     "output_type": "display_data"
    }
   ],
   "source": [
    "plt.scatter(data['Lat'],data['Cloudiness'],edgecolors='black')\n",
    "plt.title('City Latitude vs. Cloudiness (04/01/20)')\n",
    "plt.ylabel('Cloudiness (%)')\n",
    "plt.xlabel('Latitude')"
   ]
  },
  {
   "cell_type": "markdown",
   "metadata": {},
   "source": [
    "## Latitude vs. Wind Speed Plot"
   ]
  },
  {
   "cell_type": "code",
   "execution_count": 18,
   "metadata": {},
   "outputs": [
    {
     "data": {
      "text/html": [
       "<div>\n",
       "<style scoped>\n",
       "    .dataframe tbody tr th:only-of-type {\n",
       "        vertical-align: middle;\n",
       "    }\n",
       "\n",
       "    .dataframe tbody tr th {\n",
       "        vertical-align: top;\n",
       "    }\n",
       "\n",
       "    .dataframe thead th {\n",
       "        text-align: right;\n",
       "    }\n",
       "</style>\n",
       "<table border=\"1\" class=\"dataframe\">\n",
       "  <thead>\n",
       "    <tr style=\"text-align: right;\">\n",
       "      <th></th>\n",
       "      <th>Lat</th>\n",
       "      <th>Wind Speed</th>\n",
       "    </tr>\n",
       "  </thead>\n",
       "  <tbody>\n",
       "    <tr>\n",
       "      <th>0</th>\n",
       "      <td>24.09</td>\n",
       "      <td>11.97</td>\n",
       "    </tr>\n",
       "    <tr>\n",
       "      <th>1</th>\n",
       "      <td>-0.74</td>\n",
       "      <td>5.01</td>\n",
       "    </tr>\n",
       "    <tr>\n",
       "      <th>2</th>\n",
       "      <td>-23.12</td>\n",
       "      <td>22.62</td>\n",
       "    </tr>\n",
       "    <tr>\n",
       "      <th>3</th>\n",
       "      <td>53.05</td>\n",
       "      <td>6.71</td>\n",
       "    </tr>\n",
       "    <tr>\n",
       "      <th>4</th>\n",
       "      <td>-20.34</td>\n",
       "      <td>14.99</td>\n",
       "    </tr>\n",
       "  </tbody>\n",
       "</table>\n",
       "</div>"
      ],
      "text/plain": [
       "     Lat Wind Speed\n",
       "0  24.09      11.97\n",
       "1  -0.74       5.01\n",
       "2 -23.12      22.62\n",
       "3  53.05       6.71\n",
       "4 -20.34      14.99"
      ]
     },
     "execution_count": 18,
     "metadata": {},
     "output_type": "execute_result"
    }
   ],
   "source": [
    "data=df[['Lat','Wind Speed']]\n",
    "data.head()"
   ]
  },
  {
   "cell_type": "code",
   "execution_count": 19,
   "metadata": {},
   "outputs": [
    {
     "data": {
      "text/plain": [
       "Text(0.5, 0, 'Latitude')"
      ]
     },
     "execution_count": 19,
     "metadata": {},
     "output_type": "execute_result"
    },
    {
     "data": {
      "image/png": "[encoded data removed]",
      "text/plain": [
       "<Figure size 432x288 with 1 Axes>"
      ]
     },
     "metadata": {
      "needs_background": "light"
     },
     "output_type": "display_data"
    }
   ],
   "source": [
    "plt.scatter(data['Lat'],data['Wind Speed'],edgecolors='black')\n",
    "plt.title('City Latitude vs. Wind Speed (04/01/20)')\n",
    "plt.ylabel('Wind Speed (mph)')\n",
    "plt.xlabel('Latitude')"
   ]
  },
  {
   "cell_type": "markdown",
   "metadata": {},
   "source": [
    "## Linear Regression"
   ]
  },
  {
   "cell_type": "code",
   "execution_count": 47,
   "metadata": {},
   "outputs": [],
   "source": [
    "# OPTIONAL: Create a function to create Linear Regression plots"
   ]
  },
  {
   "cell_type": "code",
   "execution_count": 21,
   "metadata": {},
   "outputs": [],
   "source": [
    "def liner_reg_func(x,y):\n",
    "    \n",
    "    global x_value #for reg_annot usage\n",
    "    global y_value #for reg_annot usage\n",
    "    \n",
    "    x_value=x\n",
    "    y_value=y\n",
    "    \n",
    "    plt.scatter(x=x_value,y=y_value)\n",
    "    plt.xlabel('Latitude')\n",
    "    plt.ylabel('Max Temp')\n",
    "    \n",
    "\n",
    "def reg_annot(loc):\n",
    "    \n",
    "    slope, intercept, r_value, p_value, std_err = linregress(x_value,y_value)\n",
    "    regress_values=x_value*slope+intercept\n",
    "    \n",
    "    plt.plot(x_value,regress_values,\"r-\")\n",
    "    plt.annotate(f'y = {slope:.2f}x + {intercept:.2f}',xy=loc,fontsize=15,color='r')\n",
    "    print(f'The r-squared is: {r_value**2}')"
   ]
  },
  {
   "cell_type": "code",
   "execution_count": 22,
   "metadata": {},
   "outputs": [],
   "source": [
    "# Create Northern and Southern Hemisphere DataFrames"
   ]
  },
  {
   "cell_type": "code",
   "execution_count": 56,
   "metadata": {},
   "outputs": [
    {
     "data": {
      "text/html": [
       "<div>\n",
       "<style scoped>\n",
       "    .dataframe tbody tr th:only-of-type {\n",
       "        vertical-align: middle;\n",
       "    }\n",
       "\n",
       "    .dataframe tbody tr th {\n",
       "        vertical-align: top;\n",
       "    }\n",
       "\n",
       "    .dataframe thead th {\n",
       "        text-align: right;\n",
       "    }\n",
       "</style>\n",
       "<table border=\"1\" class=\"dataframe\">\n",
       "  <thead>\n",
       "    <tr style=\"text-align: right;\">\n",
       "      <th></th>\n",
       "      <th>City</th>\n",
       "      <th>Lat</th>\n",
       "      <th>Lng</th>\n",
       "      <th>Max Temp</th>\n",
       "      <th>Humidity</th>\n",
       "      <th>Cloudiness</th>\n",
       "      <th>Wind Speed</th>\n",
       "      <th>Country</th>\n",
       "      <th>Date</th>\n",
       "      <th>NS</th>\n",
       "    </tr>\n",
       "  </thead>\n",
       "  <tbody>\n",
       "    <tr>\n",
       "      <th>0</th>\n",
       "      <td>aswan</td>\n",
       "      <td>24.09</td>\n",
       "      <td>32.91</td>\n",
       "      <td>91.74</td>\n",
       "      <td>18</td>\n",
       "      <td>0</td>\n",
       "      <td>11.97</td>\n",
       "      <td>EG</td>\n",
       "      <td>1.59571e+09</td>\n",
       "      <td>N</td>\n",
       "    </tr>\n",
       "    <tr>\n",
       "      <th>1</th>\n",
       "      <td>puerto ayora</td>\n",
       "      <td>-0.74</td>\n",
       "      <td>-90.35</td>\n",
       "      <td>68</td>\n",
       "      <td>94</td>\n",
       "      <td>86</td>\n",
       "      <td>5.01</td>\n",
       "      <td>EC</td>\n",
       "      <td>1.59571e+09</td>\n",
       "      <td>S</td>\n",
       "    </tr>\n",
       "    <tr>\n",
       "      <th>2</th>\n",
       "      <td>rikitea</td>\n",
       "      <td>-23.12</td>\n",
       "      <td>-134.97</td>\n",
       "      <td>70.07</td>\n",
       "      <td>80</td>\n",
       "      <td>18</td>\n",
       "      <td>22.62</td>\n",
       "      <td>PF</td>\n",
       "      <td>1.59571e+09</td>\n",
       "      <td>S</td>\n",
       "    </tr>\n",
       "    <tr>\n",
       "      <th>3</th>\n",
       "      <td>petropavlovsk-kamchatskiy</td>\n",
       "      <td>53.05</td>\n",
       "      <td>158.65</td>\n",
       "      <td>59</td>\n",
       "      <td>82</td>\n",
       "      <td>100</td>\n",
       "      <td>6.71</td>\n",
       "      <td>RU</td>\n",
       "      <td>1.59571e+09</td>\n",
       "      <td>N</td>\n",
       "    </tr>\n",
       "    <tr>\n",
       "      <th>4</th>\n",
       "      <td>bambous virieux</td>\n",
       "      <td>-20.34</td>\n",
       "      <td>57.76</td>\n",
       "      <td>69.01</td>\n",
       "      <td>56</td>\n",
       "      <td>75</td>\n",
       "      <td>14.99</td>\n",
       "      <td>MU</td>\n",
       "      <td>1.59571e+09</td>\n",
       "      <td>S</td>\n",
       "    </tr>\n",
       "  </tbody>\n",
       "</table>\n",
       "</div>"
      ],
      "text/plain": [
       "                        City    Lat     Lng Max Temp Humidity Cloudiness  \\\n",
       "0                      aswan  24.09   32.91    91.74       18          0   \n",
       "1               puerto ayora  -0.74  -90.35       68       94         86   \n",
       "2                    rikitea -23.12 -134.97    70.07       80         18   \n",
       "3  petropavlovsk-kamchatskiy  53.05  158.65       59       82        100   \n",
       "4            bambous virieux -20.34   57.76    69.01       56         75   \n",
       "\n",
       "  Wind Speed Country         Date NS  \n",
       "0      11.97      EG  1.59571e+09  N  \n",
       "1       5.01      EC  1.59571e+09  S  \n",
       "2      22.62      PF  1.59571e+09  S  \n",
       "3       6.71      RU  1.59571e+09  N  \n",
       "4      14.99      MU  1.59571e+09  S  "
      ]
     },
     "execution_count": 56,
     "metadata": {},
     "output_type": "execute_result"
    }
   ],
   "source": [
    "df_ns=df.copy()\n",
    "df_ns['NS']=['N' if i>0 else 'S' for i in df_ns['Lat']]\n",
    "df_ns.head()"
   ]
  },
  {
   "cell_type": "code",
   "execution_count": 57,
   "metadata": {},
   "outputs": [
    {
     "data": {
      "text/plain": [
       "Index(['City', 'Lat', 'Lng', 'Max Temp', 'Humidity', 'Cloudiness',\n",
       "       'Wind Speed', 'Country', 'Date', 'NS'],\n",
       "      dtype='object')"
      ]
     },
     "execution_count": 57,
     "metadata": {},
     "output_type": "execute_result"
    }
   ],
   "source": [
    "df_ns.columns"
   ]
  },
  {
   "cell_type": "code",
   "execution_count": 68,
   "metadata": {},
   "outputs": [],
   "source": [
    "df_ns[['Lat', 'Lng', 'Max Temp', 'Humidity', 'Cloudiness',\n",
    "       'Wind Speed', 'Date']]=df_ns[['Lat', 'Lng', 'Max Temp', 'Humidity', 'Cloudiness',\n",
    "       'Wind Speed', 'Date']].astype('float32')"
   ]
  },
  {
   "cell_type": "code",
   "execution_count": 69,
   "metadata": {},
   "outputs": [],
   "source": [
    "df_n=df_ns[df_ns['NS']=='N']\n",
    "df_s=df_ns[df_ns['NS']=='S']"
   ]
  },
  {
   "cell_type": "markdown",
   "metadata": {},
   "source": [
    "####  Northern Hemisphere - Max Temp vs. Latitude Linear Regression"
   ]
  },
  {
   "cell_type": "code",
   "execution_count": 72,
   "metadata": {},
   "outputs": [
    {
     "name": "stdout",
     "output_type": "stream",
     "text": [
      "The r-squared is: 0.43000080826136\n"
     ]
    },
    {
     "data": {
      "image/png": "[encoded data removed]",
      "text/plain": [
       "<Figure size 432x288 with 1 Axes>"
      ]
     },
     "metadata": {
      "needs_background": "light"
     },
     "output_type": "display_data"
    }
   ],
   "source": [
    "liner_reg_func(df_n['Lat'],df_n['Max Temp'])\n",
    "reg_annot((10,50))"
   ]
  },
  {
   "cell_type": "markdown",
   "metadata": {},
   "source": [
    "####  Southern Hemisphere - Max Temp vs. Latitude Linear Regression"
   ]
  },
  {
   "cell_type": "code",
   "execution_count": 73,
   "metadata": {},
   "outputs": [
    {
     "name": "stdout",
     "output_type": "stream",
     "text": [
      "The r-squared is: 0.6400753011967897\n"
     ]
    },
    {
     "data": {
      "image/png": "[encoded data removed]",
      "text/plain": [
       "<Figure size 432x288 with 1 Axes>"
      ]
     },
     "metadata": {
      "needs_background": "light"
     },
     "output_type": "display_data"
    }
   ],
   "source": [
    "liner_reg_func(df_s['Lat'],df_s['Max Temp'])\n",
    "reg_annot((-30,40))"
   ]
  },
  {
   "cell_type": "markdown",
   "metadata": {},
   "source": [
    "####  Northern Hemisphere - Humidity (%) vs. Latitude Linear Regression"
   ]
  },
  {
   "cell_type": "code",
   "execution_count": 74,
   "metadata": {},
   "outputs": [
    {
     "name": "stdout",
     "output_type": "stream",
     "text": [
      "The r-squared is: 2.562140958487542e-06\n"
     ]
    },
    {
     "data": {
      "image/png": "[encoded data removed]",
      "text/plain": [
       "<Figure size 432x288 with 1 Axes>"
      ]
     },
     "metadata": {
      "needs_background": "light"
     },
     "output_type": "display_data"
    }
   ],
   "source": [
    "liner_reg_func(df_n['Lat'],df_n['Humidity'])\n",
    "reg_annot((40,10))"
   ]
  },
  {
   "cell_type": "markdown",
   "metadata": {},
   "source": [
    "####  Southern Hemisphere - Humidity (%) vs. Latitude Linear Regression"
   ]
  },
  {
   "cell_type": "code",
   "execution_count": 75,
   "metadata": {},
   "outputs": [
    {
     "name": "stdout",
     "output_type": "stream",
     "text": [
      "The r-squared is: 0.00034818446526063636\n"
     ]
    },
    {
     "data": {
      "image/png": "[encoded data removed]",
      "text/plain": [
       "<Figure size 432x288 with 1 Axes>"
      ]
     },
     "metadata": {
      "needs_background": "light"
     },
     "output_type": "display_data"
    }
   ],
   "source": [
    "liner_reg_func(df_s['Lat'],df_s['Humidity'])\n",
    "reg_annot((-50,10))"
   ]
  },
  {
   "cell_type": "markdown",
   "metadata": {},
   "source": [
    "####  Northern Hemisphere - Cloudiness (%) vs. Latitude Linear Regression"
   ]
  },
  {
   "cell_type": "code",
   "execution_count": 76,
   "metadata": {},
   "outputs": [
    {
     "name": "stdout",
     "output_type": "stream",
     "text": [
      "The r-squared is: 0.0024569751997076637\n"
     ]
    },
    {
     "data": {
      "image/png": "[encoded data removed]",
      "text/plain": [
       "<Figure size 432x288 with 1 Axes>"
      ]
     },
     "metadata": {
      "needs_background": "light"
     },
     "output_type": "display_data"
    }
   ],
   "source": [
    "liner_reg_func(df_n['Lat'],df_n['Cloudiness'])\n",
    "reg_annot((0,30))"
   ]
  },
  {
   "cell_type": "markdown",
   "metadata": {},
   "source": [
    "####  Southern Hemisphere - Cloudiness (%) vs. Latitude Linear Regression"
   ]
  },
  {
   "cell_type": "code",
   "execution_count": 77,
   "metadata": {},
   "outputs": [
    {
     "name": "stdout",
     "output_type": "stream",
     "text": [
      "The r-squared is: 0.019057810435686186\n"
     ]
    },
    {
     "data": {
      "image/png": "[encoded data removed]",
      "text/plain": [
       "<Figure size 432x288 with 1 Axes>"
      ]
     },
     "metadata": {
      "needs_background": "light"
     },
     "output_type": "display_data"
    }
   ],
   "source": [
    "liner_reg_func(df_s['Lat'],df_s['Cloudiness'])\n",
    "reg_annot((-30,30))"
   ]
  },
  {
   "cell_type": "markdown",
   "metadata": {},
   "source": [
    "####  Northern Hemisphere - Wind Speed (mph) vs. Latitude Linear Regression"
   ]
  },
  {
   "cell_type": "code",
   "execution_count": 78,
   "metadata": {},
   "outputs": [
    {
     "name": "stdout",
     "output_type": "stream",
     "text": [
      "The r-squared is: 0.0054150629879599\n"
     ]
    },
    {
     "data": {
      "image/png": "[encoded data removed]",
      "text/plain": [
       "<Figure size 432x288 with 1 Axes>"
      ]
     },
     "metadata": {
      "needs_background": "light"
     },
     "output_type": "display_data"
    }
   ],
   "source": [
    "liner_reg_func(df_n['Lat'],df_n['Wind Speed'])\n",
    "reg_annot((10,25))"
   ]
  },
  {
   "cell_type": "markdown",
   "metadata": {},
   "source": [
    "####  Southern Hemisphere - Wind Speed (mph) vs. Latitude Linear Regression"
   ]
  },
  {
   "cell_type": "code",
   "execution_count": 79,
   "metadata": {},
   "outputs": [
    {
     "name": "stdout",
     "output_type": "stream",
     "text": [
      "The r-squared is: 0.008058290580207869\n"
     ]
    },
    {
     "data": {
      "image/png": "[encoded data removed]",
      "text/plain": [
       "<Figure size 432x288 with 1 Axes>"
      ]
     },
     "metadata": {
      "needs_background": "light"
     },
     "output_type": "display_data"
    }
   ],
   "source": [
    "liner_reg_func(df_s['Lat'],df_s['Wind Speed'])\n",
    "reg_annot((-30,20))"
   ]
  },
  {
   "cell_type": "code",
   "execution_count": null,
   "metadata": {},
   "outputs": [],
   "source": []
  }
 ],
 "metadata": {
  "anaconda-cloud": {},
  "kernel_info": {
   "name": "python3"
  },
  "kernelspec": {
   "display_name": "Python 3",
   "language": "python",
   "name": "python3"
  },
  "language_info": {
   "codemirror_mode": {
    "name": "ipython",
    "version": 3
   },
   "file_extension": ".py",
   "mimetype": "text/x-python",
   "name": "python",
   "nbconvert_exporter": "python",
   "pygments_lexer": "ipython3",
   "version": "3.7.4"
  },
  "latex_envs": {
   "LaTeX_envs_menu_present": true,
   "autoclose": false,
   "autocomplete": true,
   "bibliofile": "biblio.bib",
   "cite_by": "apalike",
   "current_citInitial": 1,
   "eqLabelWithNumbers": true,
   "eqNumInitial": 1,
   "hotkeys": {
    "equation": "Ctrl-E",
    "itemize": "Ctrl-I"
   },
   "labels_anchors": false,
   "latex_user_defs": false,
   "report_style_numbering": false,
   "user_envs_cfg": false
  },
  "nteract": {
   "version": "0.12.3"
  }
 },
 "nbformat": 4,
 "nbformat_minor": 2
}
