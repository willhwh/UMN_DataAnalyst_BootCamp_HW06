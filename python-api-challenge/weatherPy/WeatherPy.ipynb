{
 "cells": [
  {
   "cell_type": "markdown",
   "metadata": {},
   "source": [
    "# WeatherPy\n",
    "----\n",
    "\n",
    "#### Note\n",
    "* Instructions have been included for each segment. You do not have to follow them exactly, but they are included to help you think through the steps."
   ]
  },
  {
   "cell_type": "code",
   "execution_count": 181,
   "metadata": {
    "scrolled": true
   },
   "outputs": [],
   "source": [
    "# Dependencies and Setup\n",
    "import matplotlib.pyplot as plt\n",
    "import pandas as pd\n",
    "import numpy as np\n",
    "import requests\n",
    "import time\n",
    "from scipy.stats import linregress\n",
    "import json\n",
    "import datetime\n",
    "\n",
    "# Import API key\n",
    "from api_keys import weather_api_key\n",
    "\n",
    "# Incorporated citipy to determine city based on latitude and longitude\n",
    "from citipy import citipy\n",
    "\n",
    "# Output File (CSV)\n",
    "output_data_file = \"output_data/cities.csv\"\n",
    "\n",
    "# Range of latitudes and longitudes\n",
    "lat_range = (-90, 90)\n",
    "lng_range = (-180, 180)"
   ]
  },
  {
   "cell_type": "markdown",
   "metadata": {},
   "source": [
    "## Generate Cities List"
   ]
  },
  {
   "cell_type": "code",
   "execution_count": 26,
   "metadata": {},
   "outputs": [
    {
     "data": {
      "text/plain": [
       "611"
      ]
     },
     "execution_count": 26,
     "metadata": {},
     "output_type": "execute_result"
    }
   ],
   "source": [
    "# List for holding lat_lngs and cities\n",
    "lat_lngs = []\n",
    "cities = []\n",
    "\n",
    "# Create a set of random lat and lng combinations\n",
    "lats = np.random.uniform(lat_range[0], lat_range[1], size=1500)\n",
    "lngs = np.random.uniform(lng_range[0], lng_range[1], size=1500)\n",
    "lat_lngs = zip(lats, lngs)\n",
    "\n",
    "# Identify nearest city for each lat, lng combination\n",
    "for lat_lng in lat_lngs:\n",
    "    city = citipy.nearest_city(lat_lng[0], lat_lng[1]).city_name\n",
    "    \n",
    "    # If the city is unique, then add it to a our cities list\n",
    "    if city not in cities:\n",
    "        cities.append(city)\n",
    "\n",
    "# Print the city count to confirm sufficient count\n",
    "len(cities)"
   ]
  },
  {
   "cell_type": "markdown",
   "metadata": {},
   "source": [
    "### Perform API Calls\n",
    "* Perform a weather check on each city using a series of successive API calls.\n",
    "* Include a print log of each city as it'sbeing processed (with the city number and city name).\n"
   ]
  },
  {
   "cell_type": "code",
   "execution_count": 137,
   "metadata": {
    "scrolled": true
   },
   "outputs": [
    {
     "name": "stdout",
     "output_type": "stream",
     "text": [
      "Beginning Data Retrieval\n",
      "-----------------------------\n",
      "Processing Record 1 of Set 1 | kisangani\n",
      "Processing Record 2 of Set 1 | bonavista\n",
      "Processing Record 3 of Set 1 | taoudenni\n",
      "Processing Record 4 of Set 1 | bethel\n",
      "Processing Record 5 of Set 1 | punta arenas\n",
      "City not found. Skipping...\n",
      "Processing Record 6 of Set 1 | hithadhoo\n",
      "Processing Record 7 of Set 1 | aleksandrov gay\n",
      "City not found. Skipping...\n",
      "Processing Record 8 of Set 1 | virginia beach\n",
      "Processing Record 9 of Set 1 | castro\n",
      "Processing Record 10 of Set 1 | balsas\n",
      "Processing Record 11 of Set 1 | jalu\n",
      "Processing Record 12 of Set 1 | povenets\n",
      "Processing Record 13 of Set 1 | port alfred\n",
      "Processing Record 14 of Set 1 | rikitea\n",
      "Processing Record 15 of Set 1 | pacific grove\n",
      "Processing Record 16 of Set 1 | fare\n",
      "Processing Record 17 of Set 1 | ushuaia\n",
      "Processing Record 18 of Set 1 | lata\n",
      "Processing Record 19 of Set 1 | mataura\n",
      "Processing Record 20 of Set 1 | portland\n",
      "Processing Record 21 of Set 1 | novopokrovka\n",
      "Processing Record 22 of Set 1 | tasiilaq\n",
      "Processing Record 23 of Set 1 | vaini\n",
      "Processing Record 24 of Set 1 | talnakh\n",
      "Processing Record 25 of Set 1 | fortuna\n",
      "City not found. Skipping...\n",
      "Processing Record 26 of Set 1 | yanam\n",
      "City not found. Skipping...\n",
      "Processing Record 27 of Set 1 | albany\n",
      "City not found. Skipping...\n",
      "Processing Record 28 of Set 1 | akdepe\n",
      "Processing Record 29 of Set 1 | butaritari\n",
      "Processing Record 30 of Set 1 | saldanha\n",
      "Processing Record 31 of Set 1 | norman wells\n",
      "Processing Record 32 of Set 1 | xinzhi\n",
      "Processing Record 33 of Set 1 | saint george\n",
      "Processing Record 34 of Set 1 | carutapera\n",
      "Processing Record 35 of Set 1 | hilo\n",
      "Processing Record 36 of Set 1 | new norfolk\n",
      "Processing Record 37 of Set 1 | puerto ayora\n",
      "Processing Record 38 of Set 1 | batemans bay\n",
      "Processing Record 39 of Set 1 | airai\n",
      "Processing Record 40 of Set 1 | port hedland\n",
      "Processing Record 41 of Set 1 | carnarvon\n",
      "Processing Record 42 of Set 1 | lovington\n",
      "Processing Record 43 of Set 1 | tignere\n",
      "Processing Record 44 of Set 1 | nikolskoye\n",
      "Processing Record 45 of Set 1 | kon tum\n",
      "Processing Record 46 of Set 1 | arraial do cabo\n",
      "Processing Record 47 of Set 1 | narsaq\n",
      "Processing Record 48 of Set 1 | bengkulu\n",
      "Processing Record 49 of Set 1 | barrow\n",
      "Processing Record 50 of Set 1 | mahebourg\n",
      "Processing Record 1 of Set 2 | jamestown\n",
      "Processing Record 2 of Set 2 | qazanbulaq\n",
      "Processing Record 3 of Set 2 | tuktoyaktuk\n",
      "Processing Record 4 of Set 2 | bambous virieux\n",
      "Processing Record 5 of Set 2 | khuzdar\n",
      "Processing Record 6 of Set 2 | aligudarz\n",
      "Processing Record 7 of Set 2 | tuatapere\n",
      "Processing Record 8 of Set 2 | biltine\n",
      "City not found. Skipping...\n",
      "Processing Record 9 of Set 2 | yellowknife\n",
      "Processing Record 10 of Set 2 | qui nhon\n",
      "Processing Record 11 of Set 2 | bluff\n",
      "Processing Record 12 of Set 2 | chokurdakh\n",
      "Processing Record 13 of Set 2 | gampaha\n",
      "Processing Record 14 of Set 2 | victoria\n",
      "Processing Record 15 of Set 2 | ribeira grande\n",
      "Processing Record 16 of Set 2 | mount gambier\n",
      "Processing Record 17 of Set 2 | tornio\n",
      "Processing Record 18 of Set 2 | kodiak\n",
      "Processing Record 19 of Set 2 | buala\n",
      "City not found. Skipping...\n",
      "Processing Record 20 of Set 2 | hobart\n",
      "Processing Record 21 of Set 2 | leningradskiy\n",
      "Processing Record 22 of Set 2 | dezhou\n",
      "Processing Record 23 of Set 2 | margate\n",
      "Processing Record 24 of Set 2 | sao filipe\n",
      "Processing Record 25 of Set 2 | hermanus\n",
      "Processing Record 26 of Set 2 | ambon\n",
      "City not found. Skipping...\n",
      "Processing Record 27 of Set 2 | kapaa\n",
      "City not found. Skipping...\n",
      "Processing Record 28 of Set 2 | vestmannaeyjar\n",
      "Processing Record 29 of Set 2 | charters towers\n",
      "Processing Record 30 of Set 2 | awjilah\n",
      "Processing Record 31 of Set 2 | ngama\n",
      "City not found. Skipping...\n",
      "Processing Record 32 of Set 2 | killybegs\n",
      "Processing Record 33 of Set 2 | upernavik\n",
      "Processing Record 34 of Set 2 | busselton\n",
      "Processing Record 35 of Set 2 | abha\n",
      "Processing Record 36 of Set 2 | klaksvik\n",
      "Processing Record 37 of Set 2 | longyearbyen\n",
      "Processing Record 38 of Set 2 | yarada\n",
      "City not found. Skipping...\n",
      "Processing Record 39 of Set 2 | addanki\n",
      "Processing Record 40 of Set 2 | comodoro rivadavia\n",
      "Processing Record 41 of Set 2 | hokitika\n",
      "Processing Record 42 of Set 2 | jiancheng\n",
      "Processing Record 43 of Set 2 | luderitz\n",
      "City not found. Skipping...\n",
      "Processing Record 44 of Set 2 | zyryanka\n",
      "Processing Record 45 of Set 2 | nouadhibou\n",
      "Processing Record 46 of Set 2 | dolores\n",
      "Processing Record 47 of Set 2 | fayaoue\n",
      "Processing Record 48 of Set 2 | lorengau\n",
      "Processing Record 49 of Set 2 | saskylakh\n",
      "Processing Record 50 of Set 2 | cape town\n",
      "Processing Record 1 of Set 3 | tallahassee\n",
      "Processing Record 2 of Set 3 | bereda\n",
      "Processing Record 3 of Set 3 | east london\n",
      "Processing Record 4 of Set 3 | jumla\n",
      "Processing Record 5 of Set 3 | kranuan\n",
      "Processing Record 6 of Set 3 | muzhi\n",
      "Processing Record 7 of Set 3 | zhangye\n",
      "Processing Record 8 of Set 3 | codrington\n",
      "Processing Record 9 of Set 3 | ambunti\n",
      "Processing Record 10 of Set 3 | yerbogachen\n",
      "Processing Record 11 of Set 3 | dikson\n",
      "Processing Record 12 of Set 3 | komsomolskiy\n",
      "Processing Record 13 of Set 3 | samus\n",
      "Processing Record 14 of Set 3 | ventspils\n",
      "Processing Record 15 of Set 3 | zhongshu\n",
      "Processing Record 16 of Set 3 | votkinsk\n",
      "Processing Record 17 of Set 3 | vardo\n",
      "Processing Record 18 of Set 3 | mount isa\n",
      "Processing Record 19 of Set 3 | kaitangata\n",
      "Processing Record 20 of Set 3 | kashi\n",
      "Processing Record 21 of Set 3 | arys\n",
      "Processing Record 22 of Set 3 | port elizabeth\n",
      "City not found. Skipping...\n",
      "Processing Record 23 of Set 3 | buxton\n",
      "Processing Record 24 of Set 3 | manggar\n",
      "Processing Record 25 of Set 3 | yinchuan\n",
      "Processing Record 26 of Set 3 | samarai\n",
      "Processing Record 27 of Set 3 | lavrentiya\n",
      "Processing Record 28 of Set 3 | touros\n",
      "Processing Record 29 of Set 3 | port blair\n",
      "Processing Record 30 of Set 3 | daru\n",
      "Processing Record 31 of Set 3 | barguzin\n",
      "Processing Record 32 of Set 3 | kaeo\n",
      "Processing Record 33 of Set 3 | sarti\n",
      "Processing Record 34 of Set 3 | pascagoula\n",
      "Processing Record 35 of Set 3 | tombouctou\n",
      "Processing Record 36 of Set 3 | asau\n",
      "City not found. Skipping...\n",
      "Processing Record 37 of Set 3 | kavaratti\n",
      "Processing Record 38 of Set 3 | seminole\n",
      "Processing Record 39 of Set 3 | sambava\n",
      "Processing Record 40 of Set 3 | pisco\n",
      "Processing Record 41 of Set 3 | nome\n",
      "Processing Record 42 of Set 3 | teguldet\n",
      "Processing Record 43 of Set 3 | yerofey pavlovich\n",
      "Processing Record 44 of Set 3 | rimbey\n",
      "Processing Record 45 of Set 3 | qaanaaq\n",
      "Processing Record 46 of Set 3 | saint-philippe\n",
      "Processing Record 47 of Set 3 | kristianstad\n",
      "Processing Record 48 of Set 3 | turayf\n",
      "Processing Record 49 of Set 3 | xinqing\n",
      "Processing Record 50 of Set 3 | maceio\n",
      "Processing Record 1 of Set 4 | cidreira\n",
      "Processing Record 2 of Set 4 | husavik\n",
      "Processing Record 3 of Set 4 | tadine\n",
      "City not found. Skipping...\n",
      "Processing Record 4 of Set 4 | amahai\n",
      "City not found. Skipping...\n",
      "Processing Record 5 of Set 4 | shingu\n",
      "Processing Record 6 of Set 4 | constitucion\n",
      "Processing Record 7 of Set 4 | shenjiamen\n",
      "Processing Record 8 of Set 4 | port lincoln\n",
      "Processing Record 9 of Set 4 | mayumba\n",
      "Processing Record 10 of Set 4 | arman\n",
      "Processing Record 11 of Set 4 | khatanga\n",
      "Processing Record 12 of Set 4 | sajanan\n",
      "Processing Record 13 of Set 4 | coos bay\n",
      "Processing Record 14 of Set 4 | acari\n",
      "Processing Record 15 of Set 4 | itanhem\n",
      "Processing Record 16 of Set 4 | dilla\n",
      "Processing Record 17 of Set 4 | hit\n",
      "Processing Record 18 of Set 4 | clyde river\n",
      "Processing Record 19 of Set 4 | provideniya\n",
      "Processing Record 20 of Set 4 | san cristobal\n",
      "Processing Record 21 of Set 4 | tazovskiy\n",
      "Processing Record 22 of Set 4 | katsuura\n",
      "Processing Record 23 of Set 4 | baykit\n",
      "City not found. Skipping...\n",
      "Processing Record 24 of Set 4 | poum\n",
      "Processing Record 25 of Set 4 | ewa beach\n",
      "Processing Record 26 of Set 4 | ponta delgada\n",
      "Processing Record 27 of Set 4 | kibuye\n",
      "Processing Record 28 of Set 4 | olinda\n",
      "Processing Record 29 of Set 4 | hermosillo\n",
      "Processing Record 30 of Set 4 | yokadouma\n",
      "Processing Record 31 of Set 4 | thompson\n",
      "Processing Record 32 of Set 4 | aldan\n",
      "Processing Record 33 of Set 4 | kerrobert\n",
      "Processing Record 34 of Set 4 | pevek\n",
      "Processing Record 35 of Set 4 | oxbow\n",
      "Processing Record 36 of Set 4 | bundi\n",
      "Processing Record 37 of Set 4 | vila\n"
     ]
    },
    {
     "name": "stdout",
     "output_type": "stream",
     "text": [
      "Processing Record 38 of Set 4 | hasaki\n",
      "City not found. Skipping...\n",
      "Processing Record 39 of Set 4 | okmulgee\n",
      "Processing Record 40 of Set 4 | collie\n",
      "Processing Record 41 of Set 4 | kruisfontein\n",
      "Processing Record 42 of Set 4 | luanda\n",
      "Processing Record 43 of Set 4 | cozumel\n",
      "Processing Record 44 of Set 4 | haines junction\n",
      "Processing Record 45 of Set 4 | jucas\n",
      "Processing Record 46 of Set 4 | aklavik\n",
      "Processing Record 47 of Set 4 | walvis bay\n",
      "Processing Record 48 of Set 4 | hambantota\n",
      "Processing Record 49 of Set 4 | cockburn town\n",
      "Processing Record 50 of Set 4 | lebu\n",
      "Processing Record 1 of Set 5 | gat\n",
      "Processing Record 2 of Set 5 | dunedin\n",
      "Processing Record 3 of Set 5 | mango\n",
      "Processing Record 4 of Set 5 | faanui\n",
      "Processing Record 5 of Set 5 | los llanos de aridane\n",
      "Processing Record 6 of Set 5 | houston\n",
      "Processing Record 7 of Set 5 | henties bay\n",
      "Processing Record 8 of Set 5 | rocha\n",
      "Processing Record 9 of Set 5 | paamiut\n",
      "Processing Record 10 of Set 5 | atuona\n",
      "Processing Record 11 of Set 5 | boddam\n",
      "Processing Record 12 of Set 5 | nyurba\n",
      "Processing Record 13 of Set 5 | seoul\n",
      "Processing Record 14 of Set 5 | puerto escondido\n",
      "Processing Record 15 of Set 5 | taungdwingyi\n",
      "Processing Record 16 of Set 5 | kyabe\n",
      "Processing Record 17 of Set 5 | souillac\n",
      "Processing Record 18 of Set 5 | naantali\n",
      "Processing Record 19 of Set 5 | cascais\n",
      "City not found. Skipping...\n",
      "Processing Record 20 of Set 5 | chifeng\n",
      "Processing Record 21 of Set 5 | quang ngai\n",
      "Processing Record 22 of Set 5 | kieta\n",
      "Processing Record 23 of Set 5 | gwalior\n",
      "Processing Record 24 of Set 5 | tiksi\n",
      "Processing Record 25 of Set 5 | beringovskiy\n",
      "Processing Record 26 of Set 5 | ancud\n",
      "Processing Record 27 of Set 5 | rawson\n",
      "Processing Record 28 of Set 5 | otane\n",
      "Processing Record 29 of Set 5 | luwingu\n",
      "Processing Record 30 of Set 5 | olafsvik\n",
      "Processing Record 31 of Set 5 | itupiranga\n",
      "Processing Record 32 of Set 5 | avarua\n",
      "Processing Record 33 of Set 5 | axim\n",
      "Processing Record 34 of Set 5 | alofi\n",
      "Processing Record 35 of Set 5 | bilibino\n",
      "Processing Record 36 of Set 5 | lida\n",
      "City not found. Skipping...\n",
      "Processing Record 37 of Set 5 | sorland\n",
      "Processing Record 38 of Set 5 | tecpan\n",
      "Processing Record 39 of Set 5 | price\n",
      "Processing Record 40 of Set 5 | el dorado\n",
      "Processing Record 41 of Set 5 | krasnoselkup\n",
      "Processing Record 42 of Set 5 | burns lake\n",
      "Processing Record 43 of Set 5 | dorado\n",
      "Processing Record 44 of Set 5 | half moon bay\n",
      "Processing Record 45 of Set 5 | cherskiy\n",
      "Processing Record 46 of Set 5 | goundam\n",
      "Processing Record 47 of Set 5 | manama\n",
      "Processing Record 48 of Set 5 | gejiu\n",
      "Processing Record 49 of Set 5 | sabha\n",
      "Processing Record 50 of Set 5 | peniche\n",
      "Processing Record 1 of Set 6 | praya\n",
      "Processing Record 2 of Set 6 | popovo\n",
      "Processing Record 3 of Set 6 | muroto\n",
      "Processing Record 4 of Set 6 | chuy\n",
      "Processing Record 5 of Set 6 | manbij\n",
      "Processing Record 6 of Set 6 | mar del plata\n",
      "Processing Record 7 of Set 6 | butka\n",
      "Processing Record 8 of Set 6 | surin\n",
      "Processing Record 9 of Set 6 | mpika\n",
      "City not found. Skipping...\n",
      "Processing Record 10 of Set 6 | manzanillo\n",
      "Processing Record 11 of Set 6 | toyota\n",
      "Processing Record 12 of Set 6 | iqaluit\n",
      "City not found. Skipping...\n",
      "Processing Record 13 of Set 6 | echirolles\n",
      "Processing Record 14 of Set 6 | mastic beach\n",
      "City not found. Skipping...\n",
      "Processing Record 15 of Set 6 | bac lieu\n",
      "Processing Record 16 of Set 6 | le port\n",
      "Processing Record 17 of Set 6 | tateyama\n",
      "Processing Record 18 of Set 6 | trelew\n",
      "Processing Record 19 of Set 6 | chernyshevskiy\n",
      "Processing Record 20 of Set 6 | pervomayskiy\n",
      "City not found. Skipping...\n",
      "Processing Record 21 of Set 6 | lasa\n",
      "Processing Record 22 of Set 6 | ketchikan\n",
      "Processing Record 23 of Set 6 | kahului\n",
      "Processing Record 24 of Set 6 | hami\n",
      "Processing Record 25 of Set 6 | nantucket\n",
      "Processing Record 26 of Set 6 | hofn\n",
      "Processing Record 27 of Set 6 | stromness\n",
      "Processing Record 28 of Set 6 | rizhao\n",
      "Processing Record 29 of Set 6 | rongcheng\n",
      "Processing Record 30 of Set 6 | oksfjord\n",
      "Processing Record 31 of Set 6 | bredasdorp\n",
      "Processing Record 32 of Set 6 | tocopilla\n",
      "Processing Record 33 of Set 6 | vazhiny\n",
      "City not found. Skipping...\n",
      "Processing Record 34 of Set 6 | eskisehir\n",
      "Processing Record 35 of Set 6 | arica\n",
      "Processing Record 36 of Set 6 | soma\n",
      "Processing Record 37 of Set 6 | pandharpur\n",
      "Processing Record 38 of Set 6 | krasnogorsk\n",
      "Processing Record 39 of Set 6 | maniitsoq\n",
      "Processing Record 40 of Set 6 | santarem\n",
      "Processing Record 41 of Set 6 | clermont\n",
      "Processing Record 42 of Set 6 | kattivakkam\n",
      "Processing Record 43 of Set 6 | vostok\n",
      "Processing Record 44 of Set 6 | basse-pointe\n",
      "Processing Record 45 of Set 6 | bathsheba\n",
      "Processing Record 46 of Set 6 | deputatskiy\n",
      "Processing Record 47 of Set 6 | copiapo\n",
      "Processing Record 48 of Set 6 | porto nacional\n",
      "Processing Record 49 of Set 6 | usinsk\n",
      "Processing Record 50 of Set 6 | yabluniv\n",
      "Processing Record 1 of Set 7 | vao\n",
      "Processing Record 2 of Set 7 | clinton\n",
      "Processing Record 3 of Set 7 | fort nelson\n",
      "Processing Record 4 of Set 7 | aitape\n",
      "Processing Record 5 of Set 7 | vila franca do campo\n",
      "Processing Record 6 of Set 7 | tsiroanomandidy\n",
      "Processing Record 7 of Set 7 | broome\n",
      "City not found. Skipping...\n",
      "Processing Record 8 of Set 7 | bam\n",
      "Processing Record 9 of Set 7 | bin qirdan\n",
      "Processing Record 10 of Set 7 | porto walter\n",
      "Processing Record 11 of Set 7 | auki\n",
      "Processing Record 12 of Set 7 | guerrero negro\n",
      "Processing Record 13 of Set 7 | diego de almagro\n",
      "Processing Record 14 of Set 7 | korla\n",
      "Processing Record 15 of Set 7 | ljubinje\n",
      "Processing Record 16 of Set 7 | bubaque\n",
      "City not found. Skipping...\n",
      "Processing Record 17 of Set 7 | ilulissat\n",
      "Processing Record 18 of Set 7 | abong mbang\n",
      "Processing Record 19 of Set 7 | lujan\n",
      "Processing Record 20 of Set 7 | freeport\n",
      "Processing Record 21 of Set 7 | qianjiang\n",
      "Processing Record 22 of Set 7 | pitimbu\n",
      "Processing Record 23 of Set 7 | aars\n",
      "Processing Record 24 of Set 7 | kuala terengganu\n",
      "City not found. Skipping...\n",
      "Processing Record 25 of Set 7 | tulagi\n",
      "Processing Record 26 of Set 7 | davenda\n",
      "Processing Record 27 of Set 7 | sur\n",
      "Processing Record 28 of Set 7 | marawi\n",
      "Processing Record 29 of Set 7 | lipin bor\n",
      "Processing Record 30 of Set 7 | svetlaya\n",
      "Processing Record 31 of Set 7 | kavieng\n",
      "Processing Record 32 of Set 7 | georgetown\n",
      "Processing Record 33 of Set 7 | brazzaville\n",
      "Processing Record 34 of Set 7 | puerto el triunfo\n",
      "Processing Record 35 of Set 7 | tezu\n",
      "Processing Record 36 of Set 7 | panaba\n",
      "Processing Record 37 of Set 7 | ponta do sol\n",
      "Processing Record 38 of Set 7 | rabo de peixe\n",
      "Processing Record 39 of Set 7 | atambua\n",
      "City not found. Skipping...\n",
      "Processing Record 40 of Set 7 | ta khmau\n",
      "Processing Record 41 of Set 7 | tamworth\n",
      "City not found. Skipping...\n",
      "Processing Record 42 of Set 7 | wawa\n",
      "Processing Record 43 of Set 7 | faya\n",
      "Processing Record 44 of Set 7 | sorgues\n",
      "Processing Record 45 of Set 7 | marovoay\n",
      "Processing Record 46 of Set 7 | pedernales\n",
      "Processing Record 47 of Set 7 | nanortalik\n",
      "Processing Record 48 of Set 7 | chenghai\n",
      "Processing Record 49 of Set 7 | san patricio\n",
      "Processing Record 50 of Set 7 | esperance\n",
      "Processing Record 1 of Set 8 | ovalle\n",
      "Processing Record 2 of Set 8 | kyshtovka\n",
      "Processing Record 3 of Set 8 | san quintin\n",
      "Processing Record 4 of Set 8 | adrar\n",
      "Processing Record 5 of Set 8 | lahan\n",
      "Processing Record 6 of Set 8 | belaya gora\n",
      "Processing Record 7 of Set 8 | takapau\n",
      "Processing Record 8 of Set 8 | berlevag\n",
      "Processing Record 9 of Set 8 | bull savanna\n",
      "Processing Record 10 of Set 8 | shelbyville\n",
      "Processing Record 11 of Set 8 | ouadda\n",
      "City not found. Skipping...\n",
      "Processing Record 12 of Set 8 | maltahohe\n",
      "Processing Record 13 of Set 8 | rio gallegos\n",
      "Processing Record 14 of Set 8 | viedma\n",
      "Processing Record 15 of Set 8 | kudahuvadhoo\n",
      "Processing Record 16 of Set 8 | padang\n",
      "Processing Record 17 of Set 8 | biak\n",
      "Processing Record 18 of Set 8 | boyabat\n",
      "Processing Record 19 of Set 8 | togur\n",
      "City not found. Skipping...\n",
      "Processing Record 20 of Set 8 | kazanskoye\n",
      "Processing Record 21 of Set 8 | hay river\n",
      "Processing Record 22 of Set 8 | valparaiso\n",
      "Processing Record 23 of Set 8 | skibbereen\n",
      "City not found. Skipping...\n",
      "Processing Record 24 of Set 8 | isla vista\n",
      "Processing Record 25 of Set 8 | ulladulla\n",
      "Processing Record 26 of Set 8 | mahajanga\n",
      "Processing Record 27 of Set 8 | bedele\n",
      "Processing Record 28 of Set 8 | avera\n"
     ]
    },
    {
     "name": "stdout",
     "output_type": "stream",
     "text": [
      "Processing Record 29 of Set 8 | zhangjiakou\n",
      "Processing Record 30 of Set 8 | odweyne\n",
      "Processing Record 31 of Set 8 | alakurtti\n",
      "Processing Record 32 of Set 8 | iquitos\n",
      "Processing Record 33 of Set 8 | booue\n",
      "Processing Record 34 of Set 8 | knysna\n",
      "City not found. Skipping...\n",
      "Processing Record 35 of Set 8 | port moresby\n",
      "City not found. Skipping...\n",
      "City not found. Skipping...\n",
      "Processing Record 36 of Set 8 | morgantown\n",
      "Processing Record 37 of Set 8 | emba\n",
      "Processing Record 38 of Set 8 | port augusta\n",
      "Processing Record 39 of Set 8 | paita\n",
      "City not found. Skipping...\n",
      "Processing Record 40 of Set 8 | geraldton\n",
      "Processing Record 41 of Set 8 | burla\n",
      "Processing Record 42 of Set 8 | inirida\n",
      "Processing Record 43 of Set 8 | rockland\n",
      "City not found. Skipping...\n",
      "Processing Record 44 of Set 8 | tambau\n",
      "Processing Record 45 of Set 8 | cairns\n",
      "Processing Record 46 of Set 8 | phan thiet\n",
      "Processing Record 47 of Set 8 | vermilion\n",
      "Processing Record 48 of Set 8 | shimoda\n",
      "Processing Record 49 of Set 8 | vuktyl\n",
      "City not found. Skipping...\n",
      "Processing Record 50 of Set 8 | camargo\n",
      "Processing Record 1 of Set 9 | sioux falls\n",
      "City not found. Skipping...\n",
      "Processing Record 2 of Set 9 | porbandar\n",
      "Processing Record 3 of Set 9 | inuvik\n",
      "Processing Record 4 of Set 9 | north bend\n",
      "Processing Record 5 of Set 9 | kourou\n",
      "Processing Record 6 of Set 9 | murray bridge\n",
      "Processing Record 7 of Set 9 | masyaf\n",
      "Processing Record 8 of Set 9 | florianopolis\n",
      "Processing Record 9 of Set 9 | nuuk\n",
      "Processing Record 10 of Set 9 | villanueva de la serena\n",
      "City not found. Skipping...\n",
      "Processing Record 11 of Set 9 | altamira\n",
      "Processing Record 12 of Set 9 | zermatt\n",
      "City not found. Skipping...\n",
      "Processing Record 13 of Set 9 | torbay\n",
      "Processing Record 14 of Set 9 | blagoyevo\n",
      "Processing Record 15 of Set 9 | never\n",
      "Processing Record 16 of Set 9 | boa vista\n",
      "Processing Record 17 of Set 9 | teknaf\n",
      "Processing Record 18 of Set 9 | port-gentil\n",
      "Processing Record 19 of Set 9 | atasu\n",
      "Processing Record 20 of Set 9 | coihaique\n",
      "City not found. Skipping...\n",
      "Processing Record 21 of Set 9 | saint-augustin\n",
      "Processing Record 22 of Set 9 | huilong\n",
      "Processing Record 23 of Set 9 | belmonte\n",
      "Processing Record 24 of Set 9 | svetlogorsk\n",
      "City not found. Skipping...\n",
      "Processing Record 25 of Set 9 | lander\n",
      "Processing Record 26 of Set 9 | bilma\n",
      "Processing Record 27 of Set 9 | dano\n",
      "Processing Record 28 of Set 9 | czersk\n",
      "Processing Record 29 of Set 9 | hengshui\n",
      "Processing Record 30 of Set 9 | felipe carrillo puerto\n",
      "Processing Record 31 of Set 9 | tigil\n",
      "Processing Record 32 of Set 9 | waspan\n",
      "Processing Record 33 of Set 9 | kyra\n",
      "Processing Record 34 of Set 9 | makat\n",
      "Processing Record 35 of Set 9 | peredovaya\n",
      "Processing Record 36 of Set 9 | malanje\n",
      "Processing Record 37 of Set 9 | salalah\n",
      "City not found. Skipping...\n",
      "Processing Record 38 of Set 9 | cabo san lucas\n",
      "Processing Record 39 of Set 9 | maputo\n",
      "Processing Record 40 of Set 9 | severo-kurilsk\n",
      "Processing Record 41 of Set 9 | fernley\n",
      "Processing Record 42 of Set 9 | key west\n",
      "Processing Record 43 of Set 9 | marystown\n",
      "Processing Record 44 of Set 9 | cobija\n",
      "Processing Record 45 of Set 9 | aketi\n",
      "Processing Record 46 of Set 9 | keti bandar\n",
      "Processing Record 47 of Set 9 | taunggyi\n",
      "Processing Record 48 of Set 9 | piacabucu\n",
      "City not found. Skipping...\n",
      "City not found. Skipping...\n",
      "Processing Record 49 of Set 9 | progreso\n",
      "Processing Record 50 of Set 9 | port hueneme\n",
      "Processing Record 1 of Set 10 | uyuni\n",
      "Processing Record 2 of Set 10 | grand-santi\n",
      "Processing Record 3 of Set 10 | harper\n",
      "Processing Record 4 of Set 10 | yulara\n",
      "Processing Record 5 of Set 10 | falmouth\n",
      "Processing Record 6 of Set 10 | havoysund\n",
      "City not found. Skipping...\n",
      "Processing Record 7 of Set 10 | figeac\n",
      "Processing Record 8 of Set 10 | mouzouras\n",
      "Processing Record 9 of Set 10 | opuwo\n",
      "Processing Record 10 of Set 10 | sao geraldo do araguaia\n",
      "Processing Record 11 of Set 10 | yar-sale\n",
      "Processing Record 12 of Set 10 | suzhou\n",
      "Processing Record 13 of Set 10 | gopalur\n",
      "Processing Record 14 of Set 10 | senneterre\n",
      "Processing Record 15 of Set 10 | ayan\n",
      "Processing Record 16 of Set 10 | qasigiannguit\n",
      "Processing Record 17 of Set 10 | wanaka\n",
      "Processing Record 18 of Set 10 | flin flon\n",
      "Processing Record 19 of Set 10 | trogir\n",
      "Processing Record 20 of Set 10 | kloulklubed\n",
      "Processing Record 21 of Set 10 | cotonou\n",
      "Processing Record 22 of Set 10 | sisimiut\n",
      "Processing Record 23 of Set 10 | makakilo city\n",
      "Processing Record 24 of Set 10 | itoman\n",
      "Processing Record 25 of Set 10 | qala\n",
      "Processing Record 26 of Set 10 | cachoeira do sul\n",
      "Processing Record 27 of Set 10 | mudanjiang\n",
      "Processing Record 28 of Set 10 | veraval\n",
      "Processing Record 29 of Set 10 | celestun\n",
      "Processing Record 30 of Set 10 | lompoc\n",
      "Processing Record 31 of Set 10 | ust-karsk\n",
      "City not found. Skipping...\n",
      "Processing Record 32 of Set 10 | laurel\n",
      "Processing Record 33 of Set 10 | chirilagua\n",
      "Processing Record 34 of Set 10 | casa grande\n",
      "Processing Record 35 of Set 10 | the valley\n",
      "Processing Record 36 of Set 10 | grand gaube\n",
      "Processing Record 37 of Set 10 | havre-saint-pierre\n",
      "Processing Record 38 of Set 10 | tura\n",
      "Processing Record 39 of Set 10 | dingle\n",
      "Processing Record 40 of Set 10 | artvin\n",
      "Processing Record 41 of Set 10 | petrolina\n",
      "Processing Record 42 of Set 10 | oblivskaya\n",
      "Processing Record 43 of Set 10 | marsh harbour\n",
      "Processing Record 44 of Set 10 | ostrovnoy\n",
      "Processing Record 45 of Set 10 | maragogi\n",
      "Processing Record 46 of Set 10 | hohhot\n",
      "Processing Record 47 of Set 10 | christchurch\n",
      "Processing Record 48 of Set 10 | qaqortoq\n",
      "Processing Record 49 of Set 10 | chiungutwa\n",
      "Processing Record 50 of Set 10 | karmala\n",
      "Processing Record 1 of Set 11 | turukhansk\n",
      "Processing Record 2 of Set 11 | pulivendla\n",
      "Processing Record 3 of Set 11 | sylvan lake\n",
      "Processing Record 4 of Set 11 | mumford\n",
      "Processing Record 5 of Set 11 | minna\n",
      "Processing Record 6 of Set 11 | okha\n",
      "Processing Record 7 of Set 11 | waiouru\n",
      "Processing Record 8 of Set 11 | temple\n",
      "Processing Record 9 of Set 11 | jhalida\n",
      "Processing Record 10 of Set 11 | smithers\n",
      "Processing Record 11 of Set 11 | jiuquan\n",
      "Processing Record 12 of Set 11 | okhotsk\n",
      "Processing Record 13 of Set 11 | mocuba\n",
      "Processing Record 14 of Set 11 | muros\n",
      "Processing Record 15 of Set 11 | banjar\n",
      "Processing Record 16 of Set 11 | manavgat\n",
      "Processing Record 17 of Set 11 | bemidji\n",
      "Processing Record 18 of Set 11 | manokwari\n",
      "Processing Record 19 of Set 11 | udachnyy\n",
      "Processing Record 20 of Set 11 | san rafael del sur\n",
      "City not found. Skipping...\n",
      "Processing Record 21 of Set 11 | montague\n",
      "Processing Record 22 of Set 11 | naron\n",
      "Processing Record 23 of Set 11 | prieska\n",
      "Processing Record 24 of Set 11 | sabzevar\n",
      "Processing Record 25 of Set 11 | masvingo\n",
      "Processing Record 26 of Set 11 | nova olimpia\n",
      "Processing Record 27 of Set 11 | flinders\n",
      "Processing Record 28 of Set 11 | inhambane\n",
      "Processing Record 29 of Set 11 | iskateley\n",
      "City not found. Skipping...\n",
      "City not found. Skipping...\n",
      "Processing Record 30 of Set 11 | beloha\n",
      "Processing Record 31 of Set 11 | sobolevo\n",
      "Processing Record 32 of Set 11 | kysyl-syr\n",
      "Processing Record 33 of Set 11 | tabou\n",
      "Processing Record 34 of Set 11 | bedong\n",
      "Processing Record 35 of Set 11 | senanga\n",
      "Processing Record 36 of Set 11 | rio verde de mato grosso\n",
      "Processing Record 37 of Set 11 | baghdad\n",
      "Processing Record 38 of Set 11 | ushibuka\n",
      "Processing Record 39 of Set 11 | syracuse\n",
      "Processing Record 40 of Set 11 | pilar\n",
      "Processing Record 41 of Set 11 | huron\n",
      "Processing Record 42 of Set 11 | timra\n",
      "Processing Record 43 of Set 11 | noumea\n",
      "Processing Record 44 of Set 11 | troitskoye\n",
      "Processing Record 45 of Set 11 | nanakuli\n",
      "Processing Record 46 of Set 11 | preobrazheniye\n",
      "Processing Record 47 of Set 11 | berbera\n",
      "Processing Record 48 of Set 11 | jamsa\n",
      "Processing Record 49 of Set 11 | novhorodka\n",
      "Processing Record 50 of Set 11 | elias\n",
      "City not found. Skipping...\n",
      "Processing Record 1 of Set 12 | banda aceh\n",
      "Processing Record 2 of Set 12 | brae\n",
      "City not found. Skipping...\n",
      "Processing Record 3 of Set 12 | cody\n",
      "Processing Record 4 of Set 12 | ozinki\n",
      "Processing Record 5 of Set 12 | ixtapa\n",
      "City not found. Skipping...\n",
      "Processing Record 6 of Set 12 | inongo\n",
      "-----------------------------\n",
      "Data Retrieval Complete\n",
      "-----------------------------\n"
     ]
    }
   ],
   "source": [
    "print('Beginning Data Retrieval\\n-----------------------------')\n",
    "n=0\n",
    "s=1\n",
    "data_dict={}\n",
    "base_url='https://api.openweathermap.org/data/2.5/weather?'\n",
    "for i in cities:\n",
    "    try:\n",
    "        city_name=i\n",
    "        \n",
    "        #get weather data for city\n",
    "        url=base_url+f'q={city_name}&units=imperial&appid={weather_api_key}'\n",
    "        data_json=requests.get(url).json()\n",
    "        \n",
    "        #focus on certain features\n",
    "        lon=float((data_json['coord']['lon']))\n",
    "        lat=float((data_json['coord']['lat']))\n",
    "        temperature=float(data_json['main']['temp_max'])\n",
    "        humidity=float(data_json['main']['humidity'])\n",
    "        cloudiness=float(data_json['clouds']['all'])\n",
    "        wind_speed=float(data_json['wind']['speed'])\n",
    "        country=data_json['sys']['country']\n",
    "        date=float(data_json['dt'])\n",
    "        data_dict.update({city_name:[lat,lon,temperature,humidity,cloudiness,wind_speed,country,date]})\n",
    "        \n",
    "        #assign every 50 records to one set\n",
    "        n+=1\n",
    "        if n>50:\n",
    "            n=1\n",
    "            s+=1\n",
    "            print(f'Processing Record {n} of Set {s} | {i}')\n",
    "        else:\n",
    "            print(f'Processing Record {n} of Set {s} | {i}')\n",
    "    except:\n",
    "        print(f'City not found. Skipping...')\n",
    "        pass\n",
    "\n",
    "\n",
    "print('-----------------------------\\nData Retrieval Complete\\n-----------------------------')"
   ]
  },
  {
   "cell_type": "markdown",
   "metadata": {},
   "source": [
    "### Convert Raw Data to DataFrame\n",
    "* Export the city data into a .csv.\n",
    "* Display the DataFrame"
   ]
  },
  {
   "cell_type": "code",
   "execution_count": 187,
   "metadata": {},
   "outputs": [],
   "source": [
    "df=pd.DataFrame(data_dict).T\n",
    "df.reset_index(inplace=True)\n",
    "df.columns=['City','Lat','Lng','Max Temp','Humidity','Cloudiness','Wind Speed','Country','Date']"
   ]
  },
  {
   "cell_type": "code",
   "execution_count": 188,
   "metadata": {},
   "outputs": [],
   "source": [
    "#export into a csv\n",
    "df.to_csv(\"weather_data.csv\")"
   ]
  },
  {
   "cell_type": "code",
   "execution_count": 189,
   "metadata": {
    "scrolled": true
   },
   "outputs": [
    {
     "data": {
      "text/plain": [
       "City          556\n",
       "Lat           556\n",
       "Lng           556\n",
       "Max Temp      556\n",
       "Humidity      556\n",
       "Cloudiness    556\n",
       "Wind Speed    556\n",
       "Country       556\n",
       "Date          556\n",
       "dtype: int64"
      ]
     },
     "execution_count": 189,
     "metadata": {},
     "output_type": "execute_result"
    }
   ],
   "source": [
    "df.count()"
   ]
  },
  {
   "cell_type": "code",
   "execution_count": 190,
   "metadata": {
    "scrolled": true
   },
   "outputs": [
    {
     "data": {
      "text/html": [
       "<div>\n",
       "<style scoped>\n",
       "    .dataframe tbody tr th:only-of-type {\n",
       "        vertical-align: middle;\n",
       "    }\n",
       "\n",
       "    .dataframe tbody tr th {\n",
       "        vertical-align: top;\n",
       "    }\n",
       "\n",
       "    .dataframe thead th {\n",
       "        text-align: right;\n",
       "    }\n",
       "</style>\n",
       "<table border=\"1\" class=\"dataframe\">\n",
       "  <thead>\n",
       "    <tr style=\"text-align: right;\">\n",
       "      <th></th>\n",
       "      <th>City</th>\n",
       "      <th>Lat</th>\n",
       "      <th>Lng</th>\n",
       "      <th>Max Temp</th>\n",
       "      <th>Humidity</th>\n",
       "      <th>Cloudiness</th>\n",
       "      <th>Wind Speed</th>\n",
       "      <th>Country</th>\n",
       "      <th>Date</th>\n",
       "    </tr>\n",
       "  </thead>\n",
       "  <tbody>\n",
       "    <tr>\n",
       "      <th>0</th>\n",
       "      <td>kisangani</td>\n",
       "      <td>0.52</td>\n",
       "      <td>25.2</td>\n",
       "      <td>71.1</td>\n",
       "      <td>91</td>\n",
       "      <td>99</td>\n",
       "      <td>0.98</td>\n",
       "      <td>CD</td>\n",
       "      <td>1.59537e+09</td>\n",
       "    </tr>\n",
       "    <tr>\n",
       "      <th>1</th>\n",
       "      <td>bonavista</td>\n",
       "      <td>48.65</td>\n",
       "      <td>-53.11</td>\n",
       "      <td>64.44</td>\n",
       "      <td>76</td>\n",
       "      <td>68</td>\n",
       "      <td>8.25</td>\n",
       "      <td>CA</td>\n",
       "      <td>1.59537e+09</td>\n",
       "    </tr>\n",
       "    <tr>\n",
       "      <th>2</th>\n",
       "      <td>taoudenni</td>\n",
       "      <td>22.68</td>\n",
       "      <td>-3.98</td>\n",
       "      <td>102.11</td>\n",
       "      <td>11</td>\n",
       "      <td>0</td>\n",
       "      <td>14.03</td>\n",
       "      <td>ML</td>\n",
       "      <td>1.59537e+09</td>\n",
       "    </tr>\n",
       "    <tr>\n",
       "      <th>3</th>\n",
       "      <td>bethel</td>\n",
       "      <td>41.37</td>\n",
       "      <td>-73.41</td>\n",
       "      <td>84.2</td>\n",
       "      <td>48</td>\n",
       "      <td>1</td>\n",
       "      <td>5.82</td>\n",
       "      <td>US</td>\n",
       "      <td>1.59537e+09</td>\n",
       "    </tr>\n",
       "    <tr>\n",
       "      <th>4</th>\n",
       "      <td>punta arenas</td>\n",
       "      <td>-53.15</td>\n",
       "      <td>-70.92</td>\n",
       "      <td>23</td>\n",
       "      <td>92</td>\n",
       "      <td>9</td>\n",
       "      <td>2.24</td>\n",
       "      <td>CL</td>\n",
       "      <td>1.59537e+09</td>\n",
       "    </tr>\n",
       "  </tbody>\n",
       "</table>\n",
       "</div>"
      ],
      "text/plain": [
       "           City    Lat    Lng Max Temp Humidity Cloudiness Wind Speed Country  \\\n",
       "0     kisangani   0.52   25.2     71.1       91         99       0.98      CD   \n",
       "1     bonavista  48.65 -53.11    64.44       76         68       8.25      CA   \n",
       "2     taoudenni  22.68  -3.98   102.11       11          0      14.03      ML   \n",
       "3        bethel  41.37 -73.41     84.2       48          1       5.82      US   \n",
       "4  punta arenas -53.15 -70.92       23       92          9       2.24      CL   \n",
       "\n",
       "          Date  \n",
       "0  1.59537e+09  \n",
       "1  1.59537e+09  \n",
       "2  1.59537e+09  \n",
       "3  1.59537e+09  \n",
       "4  1.59537e+09  "
      ]
     },
     "execution_count": 190,
     "metadata": {},
     "output_type": "execute_result"
    }
   ],
   "source": [
    "df.head()"
   ]
  },
  {
   "cell_type": "markdown",
   "metadata": {},
   "source": [
    "## Inspect the data and remove the cities where the humidity > 100%.\n",
    "----\n",
    "Skip this step if there are no cities that have humidity > 100%. "
   ]
  },
  {
   "cell_type": "code",
   "execution_count": 191,
   "metadata": {
    "scrolled": false
   },
   "outputs": [
    {
     "data": {
      "text/html": [
       "<div>\n",
       "<style scoped>\n",
       "    .dataframe tbody tr th:only-of-type {\n",
       "        vertical-align: middle;\n",
       "    }\n",
       "\n",
       "    .dataframe tbody tr th {\n",
       "        vertical-align: top;\n",
       "    }\n",
       "\n",
       "    .dataframe thead th {\n",
       "        text-align: right;\n",
       "    }\n",
       "</style>\n",
       "<table border=\"1\" class=\"dataframe\">\n",
       "  <thead>\n",
       "    <tr style=\"text-align: right;\">\n",
       "      <th></th>\n",
       "      <th>Lat</th>\n",
       "      <th>Lng</th>\n",
       "      <th>Max Temp</th>\n",
       "      <th>Humidity</th>\n",
       "      <th>Cloudiness</th>\n",
       "      <th>Wind Speed</th>\n",
       "      <th>Date</th>\n",
       "    </tr>\n",
       "  </thead>\n",
       "  <tbody>\n",
       "    <tr>\n",
       "      <th>count</th>\n",
       "      <td>556.000000</td>\n",
       "      <td>556.000000</td>\n",
       "      <td>556.000000</td>\n",
       "      <td>556.000000</td>\n",
       "      <td>556.000000</td>\n",
       "      <td>556.000000</td>\n",
       "      <td>5.560000e+02</td>\n",
       "    </tr>\n",
       "    <tr>\n",
       "      <th>mean</th>\n",
       "      <td>21.050360</td>\n",
       "      <td>18.088669</td>\n",
       "      <td>68.870917</td>\n",
       "      <td>71.938849</td>\n",
       "      <td>48.845324</td>\n",
       "      <td>7.560683</td>\n",
       "      <td>1.595375e+09</td>\n",
       "    </tr>\n",
       "    <tr>\n",
       "      <th>std</th>\n",
       "      <td>33.108961</td>\n",
       "      <td>89.739929</td>\n",
       "      <td>13.726242</td>\n",
       "      <td>19.400098</td>\n",
       "      <td>37.865973</td>\n",
       "      <td>5.135773</td>\n",
       "      <td>8.686193e+01</td>\n",
       "    </tr>\n",
       "    <tr>\n",
       "      <th>min</th>\n",
       "      <td>-54.800000</td>\n",
       "      <td>-175.200000</td>\n",
       "      <td>23.000000</td>\n",
       "      <td>3.000000</td>\n",
       "      <td>0.000000</td>\n",
       "      <td>0.220000</td>\n",
       "      <td>1.595374e+09</td>\n",
       "    </tr>\n",
       "    <tr>\n",
       "      <th>25%</th>\n",
       "      <td>-5.147500</td>\n",
       "      <td>-59.807500</td>\n",
       "      <td>57.990000</td>\n",
       "      <td>63.000000</td>\n",
       "      <td>6.000000</td>\n",
       "      <td>3.590000</td>\n",
       "      <td>1.595375e+09</td>\n",
       "    </tr>\n",
       "    <tr>\n",
       "      <th>50%</th>\n",
       "      <td>26.220000</td>\n",
       "      <td>22.185000</td>\n",
       "      <td>71.600000</td>\n",
       "      <td>76.000000</td>\n",
       "      <td>46.500000</td>\n",
       "      <td>5.990000</td>\n",
       "      <td>1.595375e+09</td>\n",
       "    </tr>\n",
       "    <tr>\n",
       "      <th>75%</th>\n",
       "      <td>47.655000</td>\n",
       "      <td>96.220000</td>\n",
       "      <td>79.657500</td>\n",
       "      <td>86.000000</td>\n",
       "      <td>89.250000</td>\n",
       "      <td>10.290000</td>\n",
       "      <td>1.595375e+09</td>\n",
       "    </tr>\n",
       "    <tr>\n",
       "      <th>max</th>\n",
       "      <td>78.220000</td>\n",
       "      <td>179.320000</td>\n",
       "      <td>107.600000</td>\n",
       "      <td>100.000000</td>\n",
       "      <td>100.000000</td>\n",
       "      <td>29.970000</td>\n",
       "      <td>1.595375e+09</td>\n",
       "    </tr>\n",
       "  </tbody>\n",
       "</table>\n",
       "</div>"
      ],
      "text/plain": [
       "              Lat         Lng    Max Temp    Humidity  Cloudiness  Wind Speed  \\\n",
       "count  556.000000  556.000000  556.000000  556.000000  556.000000  556.000000   \n",
       "mean    21.050360   18.088669   68.870917   71.938849   48.845324    7.560683   \n",
       "std     33.108961   89.739929   13.726242   19.400098   37.865973    5.135773   \n",
       "min    -54.800000 -175.200000   23.000000    3.000000    0.000000    0.220000   \n",
       "25%     -5.147500  -59.807500   57.990000   63.000000    6.000000    3.590000   \n",
       "50%     26.220000   22.185000   71.600000   76.000000   46.500000    5.990000   \n",
       "75%     47.655000   96.220000   79.657500   86.000000   89.250000   10.290000   \n",
       "max     78.220000  179.320000  107.600000  100.000000  100.000000   29.970000   \n",
       "\n",
       "               Date  \n",
       "count  5.560000e+02  \n",
       "mean   1.595375e+09  \n",
       "std    8.686193e+01  \n",
       "min    1.595374e+09  \n",
       "25%    1.595375e+09  \n",
       "50%    1.595375e+09  \n",
       "75%    1.595375e+09  \n",
       "max    1.595375e+09  "
      ]
     },
     "execution_count": 191,
     "metadata": {},
     "output_type": "execute_result"
    }
   ],
   "source": [
    "df[['Lat','Lng','Max Temp','Humidity','Cloudiness','Wind Speed','Date']].astype(float).describe()"
   ]
  },
  {
   "cell_type": "code",
   "execution_count": 192,
   "metadata": {},
   "outputs": [
    {
     "data": {
      "text/plain": [
       "Int64Index([], dtype='int64')"
      ]
     },
     "execution_count": 192,
     "metadata": {},
     "output_type": "execute_result"
    }
   ],
   "source": [
    "#  Get the indices of cities that have humidity over 100%.\n",
    "df.index[df['Humidity']>100]"
   ]
  },
  {
   "cell_type": "code",
   "execution_count": 193,
   "metadata": {},
   "outputs": [],
   "source": [
    "# Make a new DataFrame equal to the city data to drop all humidity outliers by index.\n",
    "# Passing \"inplace=False\" will make a copy of the city_data DataFrame, which we call \"clean_city_data\".\n"
   ]
  },
  {
   "cell_type": "code",
   "execution_count": 9,
   "metadata": {},
   "outputs": [],
   "source": [
    "# Extract relevant fields from the data frame\n",
    "\n",
    "\n",
    "# Export the City_Data into a csv\n"
   ]
  },
  {
   "cell_type": "markdown",
   "metadata": {},
   "source": [
    "## Plotting the Data\n",
    "* Use proper labeling of the plots using plot titles (including date of analysis) and axes labels.\n",
    "* Save the plotted figures as .pngs."
   ]
  },
  {
   "cell_type": "markdown",
   "metadata": {},
   "source": [
    "## Latitude vs. Temperature Plot"
   ]
  },
  {
   "cell_type": "code",
   "execution_count": 194,
   "metadata": {},
   "outputs": [
    {
     "data": {
      "text/html": [
       "<div>\n",
       "<style scoped>\n",
       "    .dataframe tbody tr th:only-of-type {\n",
       "        vertical-align: middle;\n",
       "    }\n",
       "\n",
       "    .dataframe tbody tr th {\n",
       "        vertical-align: top;\n",
       "    }\n",
       "\n",
       "    .dataframe thead th {\n",
       "        text-align: right;\n",
       "    }\n",
       "</style>\n",
       "<table border=\"1\" class=\"dataframe\">\n",
       "  <thead>\n",
       "    <tr style=\"text-align: right;\">\n",
       "      <th></th>\n",
       "      <th>Lat</th>\n",
       "      <th>Max Temp</th>\n",
       "    </tr>\n",
       "  </thead>\n",
       "  <tbody>\n",
       "    <tr>\n",
       "      <th>0</th>\n",
       "      <td>0.52</td>\n",
       "      <td>71.1</td>\n",
       "    </tr>\n",
       "    <tr>\n",
       "      <th>1</th>\n",
       "      <td>48.65</td>\n",
       "      <td>64.44</td>\n",
       "    </tr>\n",
       "    <tr>\n",
       "      <th>2</th>\n",
       "      <td>22.68</td>\n",
       "      <td>102.11</td>\n",
       "    </tr>\n",
       "    <tr>\n",
       "      <th>3</th>\n",
       "      <td>41.37</td>\n",
       "      <td>84.2</td>\n",
       "    </tr>\n",
       "    <tr>\n",
       "      <th>4</th>\n",
       "      <td>-53.15</td>\n",
       "      <td>23</td>\n",
       "    </tr>\n",
       "  </tbody>\n",
       "</table>\n",
       "</div>"
      ],
      "text/plain": [
       "     Lat Max Temp\n",
       "0   0.52     71.1\n",
       "1  48.65    64.44\n",
       "2  22.68   102.11\n",
       "3  41.37     84.2\n",
       "4 -53.15       23"
      ]
     },
     "execution_count": 194,
     "metadata": {},
     "output_type": "execute_result"
    }
   ],
   "source": [
    "data=df[['Lat','Max Temp']]\n",
    "data.head()"
   ]
  },
  {
   "cell_type": "code",
   "execution_count": 208,
   "metadata": {},
   "outputs": [
    {
     "data": {
      "text/plain": [
       "Text(0, 0.5, 'Max Temperature (F)')"
      ]
     },
     "execution_count": 208,
     "metadata": {},
     "output_type": "execute_result"
    },
    {
     "data": {
      "image/png": "[encoded data removed]",
      "text/plain": [
       "<Figure size 432x288 with 1 Axes>"
      ]
     },
     "metadata": {
      "needs_background": "light"
     },
     "output_type": "display_data"
    }
   ],
   "source": [
    "#plot graphic\n",
    "plt.scatter(data['Lat'],data['Max Temp'],edgecolors='black')\n",
    "plt.grid()\n",
    "plt.title('City Latitude vs. Max temeprature (04/01/20)')\n",
    "plt.xlabel('Latitude')\n",
    "plt.ylabel('Max Temperature (F)')\n"
   ]
  },
  {
   "cell_type": "markdown",
   "metadata": {},
   "source": [
    "## Latitude vs. Humidity Plot"
   ]
  },
  {
   "cell_type": "code",
   "execution_count": 210,
   "metadata": {},
   "outputs": [
    {
     "data": {
      "text/html": [
       "<div>\n",
       "<style scoped>\n",
       "    .dataframe tbody tr th:only-of-type {\n",
       "        vertical-align: middle;\n",
       "    }\n",
       "\n",
       "    .dataframe tbody tr th {\n",
       "        vertical-align: top;\n",
       "    }\n",
       "\n",
       "    .dataframe thead th {\n",
       "        text-align: right;\n",
       "    }\n",
       "</style>\n",
       "<table border=\"1\" class=\"dataframe\">\n",
       "  <thead>\n",
       "    <tr style=\"text-align: right;\">\n",
       "      <th></th>\n",
       "      <th>Lat</th>\n",
       "      <th>Humidity</th>\n",
       "    </tr>\n",
       "  </thead>\n",
       "  <tbody>\n",
       "    <tr>\n",
       "      <th>0</th>\n",
       "      <td>0.52</td>\n",
       "      <td>91</td>\n",
       "    </tr>\n",
       "    <tr>\n",
       "      <th>1</th>\n",
       "      <td>48.65</td>\n",
       "      <td>76</td>\n",
       "    </tr>\n",
       "    <tr>\n",
       "      <th>2</th>\n",
       "      <td>22.68</td>\n",
       "      <td>11</td>\n",
       "    </tr>\n",
       "    <tr>\n",
       "      <th>3</th>\n",
       "      <td>41.37</td>\n",
       "      <td>48</td>\n",
       "    </tr>\n",
       "    <tr>\n",
       "      <th>4</th>\n",
       "      <td>-53.15</td>\n",
       "      <td>92</td>\n",
       "    </tr>\n",
       "  </tbody>\n",
       "</table>\n",
       "</div>"
      ],
      "text/plain": [
       "     Lat Humidity\n",
       "0   0.52       91\n",
       "1  48.65       76\n",
       "2  22.68       11\n",
       "3  41.37       48\n",
       "4 -53.15       92"
      ]
     },
     "execution_count": 210,
     "metadata": {},
     "output_type": "execute_result"
    }
   ],
   "source": [
    "data=df[['Lat','Humidity']]\n",
    "data.head()"
   ]
  },
  {
   "cell_type": "code",
   "execution_count": 212,
   "metadata": {},
   "outputs": [
    {
     "data": {
      "text/plain": [
       "Text(0.5, 0, 'Latitude')"
      ]
     },
     "execution_count": 212,
     "metadata": {},
     "output_type": "execute_result"
    },
    {
     "data": {
      "image/png": "[encoded data removed]",
      "text/plain": [
       "<Figure size 432x288 with 1 Axes>"
      ]
     },
     "metadata": {
      "needs_background": "light"
     },
     "output_type": "display_data"
    }
   ],
   "source": [
    "plt.scatter(data['Lat'],data['Humidity'],edgecolors='black')\n",
    "plt.title('City Latitude vs. Humidity (04/01/20)')\n",
    "plt.ylabel('Humidity (%)')\n",
    "plt.xlabel('Latitude')"
   ]
  },
  {
   "cell_type": "markdown",
   "metadata": {},
   "source": [
    "## Latitude vs. Cloudiness Plot"
   ]
  },
  {
   "cell_type": "code",
   "execution_count": 213,
   "metadata": {},
   "outputs": [
    {
     "data": {
      "text/html": [
       "<div>\n",
       "<style scoped>\n",
       "    .dataframe tbody tr th:only-of-type {\n",
       "        vertical-align: middle;\n",
       "    }\n",
       "\n",
       "    .dataframe tbody tr th {\n",
       "        vertical-align: top;\n",
       "    }\n",
       "\n",
       "    .dataframe thead th {\n",
       "        text-align: right;\n",
       "    }\n",
       "</style>\n",
       "<table border=\"1\" class=\"dataframe\">\n",
       "  <thead>\n",
       "    <tr style=\"text-align: right;\">\n",
       "      <th></th>\n",
       "      <th>Lat</th>\n",
       "      <th>Cloudiness</th>\n",
       "    </tr>\n",
       "  </thead>\n",
       "  <tbody>\n",
       "    <tr>\n",
       "      <th>0</th>\n",
       "      <td>0.52</td>\n",
       "      <td>99</td>\n",
       "    </tr>\n",
       "    <tr>\n",
       "      <th>1</th>\n",
       "      <td>48.65</td>\n",
       "      <td>68</td>\n",
       "    </tr>\n",
       "    <tr>\n",
       "      <th>2</th>\n",
       "      <td>22.68</td>\n",
       "      <td>0</td>\n",
       "    </tr>\n",
       "    <tr>\n",
       "      <th>3</th>\n",
       "      <td>41.37</td>\n",
       "      <td>1</td>\n",
       "    </tr>\n",
       "    <tr>\n",
       "      <th>4</th>\n",
       "      <td>-53.15</td>\n",
       "      <td>9</td>\n",
       "    </tr>\n",
       "  </tbody>\n",
       "</table>\n",
       "</div>"
      ],
      "text/plain": [
       "     Lat Cloudiness\n",
       "0   0.52         99\n",
       "1  48.65         68\n",
       "2  22.68          0\n",
       "3  41.37          1\n",
       "4 -53.15          9"
      ]
     },
     "execution_count": 213,
     "metadata": {},
     "output_type": "execute_result"
    }
   ],
   "source": [
    "data=df[['Lat','Cloudiness']]\n",
    "data.head()"
   ]
  },
  {
   "cell_type": "code",
   "execution_count": 215,
   "metadata": {},
   "outputs": [
    {
     "data": {
      "text/plain": [
       "Text(0.5, 0, 'Latitude')"
      ]
     },
     "execution_count": 215,
     "metadata": {},
     "output_type": "execute_result"
    },
    {
     "data": {
      "image/png": "[encoded data removed]",
      "text/plain": [
       "<Figure size 432x288 with 1 Axes>"
      ]
     },
     "metadata": {
      "needs_background": "light"
     },
     "output_type": "display_data"
    }
   ],
   "source": [
    "plt.scatter(data['Lat'],data['Cloudiness'],edgecolors='black')\n",
    "plt.title('City Latitude vs. Cloudiness (04/01/20)')\n",
    "plt.ylabel('Cloudiness (%)')\n",
    "plt.xlabel('Latitude')"
   ]
  },
  {
   "cell_type": "markdown",
   "metadata": {},
   "source": [
    "## Latitude vs. Wind Speed Plot"
   ]
  },
  {
   "cell_type": "code",
   "execution_count": 216,
   "metadata": {},
   "outputs": [
    {
     "data": {
      "text/html": [
       "<div>\n",
       "<style scoped>\n",
       "    .dataframe tbody tr th:only-of-type {\n",
       "        vertical-align: middle;\n",
       "    }\n",
       "\n",
       "    .dataframe tbody tr th {\n",
       "        vertical-align: top;\n",
       "    }\n",
       "\n",
       "    .dataframe thead th {\n",
       "        text-align: right;\n",
       "    }\n",
       "</style>\n",
       "<table border=\"1\" class=\"dataframe\">\n",
       "  <thead>\n",
       "    <tr style=\"text-align: right;\">\n",
       "      <th></th>\n",
       "      <th>Lat</th>\n",
       "      <th>Wind Speed</th>\n",
       "    </tr>\n",
       "  </thead>\n",
       "  <tbody>\n",
       "    <tr>\n",
       "      <th>0</th>\n",
       "      <td>0.52</td>\n",
       "      <td>0.98</td>\n",
       "    </tr>\n",
       "    <tr>\n",
       "      <th>1</th>\n",
       "      <td>48.65</td>\n",
       "      <td>8.25</td>\n",
       "    </tr>\n",
       "    <tr>\n",
       "      <th>2</th>\n",
       "      <td>22.68</td>\n",
       "      <td>14.03</td>\n",
       "    </tr>\n",
       "    <tr>\n",
       "      <th>3</th>\n",
       "      <td>41.37</td>\n",
       "      <td>5.82</td>\n",
       "    </tr>\n",
       "    <tr>\n",
       "      <th>4</th>\n",
       "      <td>-53.15</td>\n",
       "      <td>2.24</td>\n",
       "    </tr>\n",
       "  </tbody>\n",
       "</table>\n",
       "</div>"
      ],
      "text/plain": [
       "     Lat Wind Speed\n",
       "0   0.52       0.98\n",
       "1  48.65       8.25\n",
       "2  22.68      14.03\n",
       "3  41.37       5.82\n",
       "4 -53.15       2.24"
      ]
     },
     "execution_count": 216,
     "metadata": {},
     "output_type": "execute_result"
    }
   ],
   "source": [
    "data=df[['Lat','Wind Speed']]\n",
    "data.head()"
   ]
  },
  {
   "cell_type": "code",
   "execution_count": 218,
   "metadata": {},
   "outputs": [
    {
     "data": {
      "text/plain": [
       "Text(0.5, 0, 'Latitude')"
      ]
     },
     "execution_count": 218,
     "metadata": {},
     "output_type": "execute_result"
    },
    {
     "data": {
      "image/png": "[encoded data removed]",
      "text/plain": [
       "<Figure size 432x288 with 1 Axes>"
      ]
     },
     "metadata": {
      "needs_background": "light"
     },
     "output_type": "display_data"
    }
   ],
   "source": [
    "plt.scatter(data['Lat'],data['Wind Speed'],edgecolors='black')\n",
    "plt.title('City Latitude vs. Wind Speed (04/01/20)')\n",
    "plt.ylabel('Wind Speed (mph)')\n",
    "plt.xlabel('Latitude')"
   ]
  },
  {
   "cell_type": "markdown",
   "metadata": {},
   "source": [
    "## Linear Regression"
   ]
  },
  {
   "cell_type": "code",
   "execution_count": 14,
   "metadata": {},
   "outputs": [],
   "source": [
    "# OPTIONAL: Create a function to create Linear Regression plots"
   ]
  },
  {
   "cell_type": "code",
   "execution_count": 255,
   "metadata": {},
   "outputs": [],
   "source": [
    "def liner_reg_func(x,y):\n",
    "    \n",
    "    global x_value #for reg_annot usage\n",
    "    global y_value #for reg_annot usage\n",
    "    \n",
    "    x_value=x\n",
    "    y_value=y\n",
    "    \n",
    "    plt.scatter(x=x_value,y=y_value)\n",
    "    plt.xlabel('Latitude')\n",
    "    plt.ylabel('Max Temp')\n",
    "    \n",
    "\n",
    "def reg_annot(loc):\n",
    "    \n",
    "    slope, intercept, r_value, p_value, std_err = linregress(x_value,y_value)\n",
    "    regress_values=x_value*slope+intercept\n",
    "    \n",
    "    plt.plot(x_value,regress_values,\"r-\")\n",
    "    plt.annotate(f'y = {slope:.2f}x + {intercept:.2f}',xy=loc,fontsize=15,color='r')\n",
    "    print(f'The r-squared is: {r_value**2}')"
   ]
  },
  {
   "cell_type": "code",
   "execution_count": 15,
   "metadata": {},
   "outputs": [],
   "source": [
    "# Create Northern and Southern Hemisphere DataFrames"
   ]
  },
  {
   "cell_type": "code",
   "execution_count": 178,
   "metadata": {},
   "outputs": [
    {
     "data": {
      "text/html": [
       "<div>\n",
       "<style scoped>\n",
       "    .dataframe tbody tr th:only-of-type {\n",
       "        vertical-align: middle;\n",
       "    }\n",
       "\n",
       "    .dataframe tbody tr th {\n",
       "        vertical-align: top;\n",
       "    }\n",
       "\n",
       "    .dataframe thead th {\n",
       "        text-align: right;\n",
       "    }\n",
       "</style>\n",
       "<table border=\"1\" class=\"dataframe\">\n",
       "  <thead>\n",
       "    <tr style=\"text-align: right;\">\n",
       "      <th></th>\n",
       "      <th>City</th>\n",
       "      <th>Lat</th>\n",
       "      <th>Lng</th>\n",
       "      <th>Max Temp</th>\n",
       "      <th>Humidity</th>\n",
       "      <th>Cloudiness</th>\n",
       "      <th>Wind Speed</th>\n",
       "      <th>Country</th>\n",
       "      <th>Date</th>\n",
       "      <th>NS</th>\n",
       "    </tr>\n",
       "  </thead>\n",
       "  <tbody>\n",
       "    <tr>\n",
       "      <th>0</th>\n",
       "      <td>kisangani</td>\n",
       "      <td>0.52</td>\n",
       "      <td>25.20</td>\n",
       "      <td>71.10</td>\n",
       "      <td>91.0</td>\n",
       "      <td>99.0</td>\n",
       "      <td>0.98</td>\n",
       "      <td>CD</td>\n",
       "      <td>1.595375e+09</td>\n",
       "      <td>N</td>\n",
       "    </tr>\n",
       "    <tr>\n",
       "      <th>1</th>\n",
       "      <td>bonavista</td>\n",
       "      <td>48.65</td>\n",
       "      <td>-53.11</td>\n",
       "      <td>64.44</td>\n",
       "      <td>76.0</td>\n",
       "      <td>68.0</td>\n",
       "      <td>8.25</td>\n",
       "      <td>CA</td>\n",
       "      <td>1.595375e+09</td>\n",
       "      <td>N</td>\n",
       "    </tr>\n",
       "    <tr>\n",
       "      <th>2</th>\n",
       "      <td>taoudenni</td>\n",
       "      <td>22.68</td>\n",
       "      <td>-3.98</td>\n",
       "      <td>102.11</td>\n",
       "      <td>11.0</td>\n",
       "      <td>0.0</td>\n",
       "      <td>14.03</td>\n",
       "      <td>ML</td>\n",
       "      <td>1.595375e+09</td>\n",
       "      <td>N</td>\n",
       "    </tr>\n",
       "    <tr>\n",
       "      <th>3</th>\n",
       "      <td>bethel</td>\n",
       "      <td>41.37</td>\n",
       "      <td>-73.41</td>\n",
       "      <td>84.20</td>\n",
       "      <td>48.0</td>\n",
       "      <td>1.0</td>\n",
       "      <td>5.82</td>\n",
       "      <td>US</td>\n",
       "      <td>1.595375e+09</td>\n",
       "      <td>N</td>\n",
       "    </tr>\n",
       "    <tr>\n",
       "      <th>4</th>\n",
       "      <td>punta arenas</td>\n",
       "      <td>-53.15</td>\n",
       "      <td>-70.92</td>\n",
       "      <td>23.00</td>\n",
       "      <td>92.0</td>\n",
       "      <td>9.0</td>\n",
       "      <td>2.24</td>\n",
       "      <td>CL</td>\n",
       "      <td>1.595375e+09</td>\n",
       "      <td>S</td>\n",
       "    </tr>\n",
       "  </tbody>\n",
       "</table>\n",
       "</div>"
      ],
      "text/plain": [
       "           City    Lat    Lng  Max Temp  Humidity  Cloudiness  Wind Speed  \\\n",
       "0     kisangani   0.52  25.20     71.10      91.0        99.0        0.98   \n",
       "1     bonavista  48.65 -53.11     64.44      76.0        68.0        8.25   \n",
       "2     taoudenni  22.68  -3.98    102.11      11.0         0.0       14.03   \n",
       "3        bethel  41.37 -73.41     84.20      48.0         1.0        5.82   \n",
       "4  punta arenas -53.15 -70.92     23.00      92.0         9.0        2.24   \n",
       "\n",
       "  Country          Date NS  \n",
       "0      CD  1.595375e+09  N  \n",
       "1      CA  1.595375e+09  N  \n",
       "2      ML  1.595375e+09  N  \n",
       "3      US  1.595375e+09  N  \n",
       "4      CL  1.595375e+09  S  "
      ]
     },
     "execution_count": 178,
     "metadata": {},
     "output_type": "execute_result"
    }
   ],
   "source": [
    "df_ns=df.copy()\n",
    "df_ns['NS']=['N' if i>0 else 'S' for i in df_ns['Lat']]\n",
    "df_ns.head()"
   ]
  },
  {
   "cell_type": "code",
   "execution_count": 221,
   "metadata": {},
   "outputs": [],
   "source": [
    "df_n=df_ns[df_ns['NS']=='N']\n",
    "df_s=df_ns[df_ns['NS']=='S']"
   ]
  },
  {
   "cell_type": "markdown",
   "metadata": {},
   "source": [
    "####  Northern Hemisphere - Max Temp vs. Latitude Linear Regression"
   ]
  },
  {
   "cell_type": "code",
   "execution_count": 256,
   "metadata": {},
   "outputs": [
    {
     "name": "stdout",
     "output_type": "stream",
     "text": [
      "The r-squared is: 0.4288619621567913\n"
     ]
    },
    {
     "data": {
      "image/png": "[encoded data removed]",
      "text/plain": [
       "<Figure size 432x288 with 1 Axes>"
      ]
     },
     "metadata": {
      "needs_background": "light"
     },
     "output_type": "display_data"
    }
   ],
   "source": [
    "liner_reg_func(df_n['Lat'],df_n['Max Temp'])\n",
    "reg_annot((10,50))"
   ]
  },
  {
   "cell_type": "markdown",
   "metadata": {},
   "source": [
    "####  Southern Hemisphere - Max Temp vs. Latitude Linear Regression"
   ]
  },
  {
   "cell_type": "code",
   "execution_count": 257,
   "metadata": {},
   "outputs": [
    {
     "name": "stdout",
     "output_type": "stream",
     "text": [
      "The r-squared is: 0.71657576777166\n"
     ]
    },
    {
     "data": {
      "image/png": "[encoded data removed]",
      "text/plain": [
       "<Figure size 432x288 with 1 Axes>"
      ]
     },
     "metadata": {
      "needs_background": "light"
     },
     "output_type": "display_data"
    }
   ],
   "source": [
    "liner_reg_func(df_s['Lat'],df_s['Max Temp'])\n",
    "reg_annot((-30,40))"
   ]
  },
  {
   "cell_type": "markdown",
   "metadata": {},
   "source": [
    "####  Northern Hemisphere - Humidity (%) vs. Latitude Linear Regression"
   ]
  },
  {
   "cell_type": "code",
   "execution_count": 285,
   "metadata": {},
   "outputs": [
    {
     "name": "stdout",
     "output_type": "stream",
     "text": [
      "The r-squared is: 0.017064914506767736\n"
     ]
    },
    {
     "data": {
      "image/png": "[encoded data removed]",
      "text/plain": [
       "<Figure size 432x288 with 1 Axes>"
      ]
     },
     "metadata": {
      "needs_background": "light"
     },
     "output_type": "display_data"
    }
   ],
   "source": [
    "liner_reg_func(df_n['Lat'],df_n['Humidity'])\n",
    "reg_annot((40,10))"
   ]
  },
  {
   "cell_type": "markdown",
   "metadata": {},
   "source": [
    "####  Southern Hemisphere - Humidity (%) vs. Latitude Linear Regression"
   ]
  },
  {
   "cell_type": "code",
   "execution_count": 283,
   "metadata": {},
   "outputs": [
    {
     "name": "stdout",
     "output_type": "stream",
     "text": [
      "The r-squared is: 0.004432358775342756\n"
     ]
    },
    {
     "data": {
      "image/png": "[encoded data removed]",
      "text/plain": [
       "<Figure size 432x288 with 1 Axes>"
      ]
     },
     "metadata": {
      "needs_background": "light"
     },
     "output_type": "display_data"
    }
   ],
   "source": [
    "liner_reg_func(df_s['Lat'],df_s['Humidity'])\n",
    "reg_annot((-50,10))"
   ]
  },
  {
   "cell_type": "markdown",
   "metadata": {},
   "source": [
    "####  Northern Hemisphere - Cloudiness (%) vs. Latitude Linear Regression"
   ]
  },
  {
   "cell_type": "code",
   "execution_count": 282,
   "metadata": {},
   "outputs": [
    {
     "name": "stdout",
     "output_type": "stream",
     "text": [
      "The r-squared is: 2.840044279644633e-06\n"
     ]
    },
    {
     "data": {
      "image/png": "[encoded data removed]",
      "text/plain": [
       "<Figure size 432x288 with 1 Axes>"
      ]
     },
     "metadata": {
      "needs_background": "light"
     },
     "output_type": "display_data"
    }
   ],
   "source": [
    "liner_reg_func(df_n['Lat'],df_n['Cloudiness'])\n",
    "reg_annot((0,30))"
   ]
  },
  {
   "cell_type": "markdown",
   "metadata": {},
   "source": [
    "####  Southern Hemisphere - Cloudiness (%) vs. Latitude Linear Regression"
   ]
  },
  {
   "cell_type": "code",
   "execution_count": 271,
   "metadata": {},
   "outputs": [
    {
     "name": "stdout",
     "output_type": "stream",
     "text": [
      "The r-squared is: 0.013000684732806937\n"
     ]
    },
    {
     "data": {
      "image/png": "[encoded data removed]",
      "text/plain": [
       "<Figure size 432x288 with 1 Axes>"
      ]
     },
     "metadata": {
      "needs_background": "light"
     },
     "output_type": "display_data"
    }
   ],
   "source": [
    "liner_reg_func(df_s['Lat'],df_s['Cloudiness'])\n",
    "reg_annot((-30,30))"
   ]
  },
  {
   "cell_type": "markdown",
   "metadata": {},
   "source": [
    "####  Northern Hemisphere - Wind Speed (mph) vs. Latitude Linear Regression"
   ]
  },
  {
   "cell_type": "code",
   "execution_count": 281,
   "metadata": {},
   "outputs": [
    {
     "name": "stdout",
     "output_type": "stream",
     "text": [
      "The r-squared is: 0.004299199097049677\n"
     ]
    },
    {
     "data": {
      "image/png": "[encoded data removed]",
      "text/plain": [
       "<Figure size 432x288 with 1 Axes>"
      ]
     },
     "metadata": {
      "needs_background": "light"
     },
     "output_type": "display_data"
    }
   ],
   "source": [
    "liner_reg_func(df_n['Lat'],df_n['Wind Speed'])\n",
    "reg_annot((10,25))"
   ]
  },
  {
   "cell_type": "markdown",
   "metadata": {},
   "source": [
    "####  Southern Hemisphere - Wind Speed (mph) vs. Latitude Linear Regression"
   ]
  },
  {
   "cell_type": "code",
   "execution_count": 279,
   "metadata": {},
   "outputs": [
    {
     "name": "stdout",
     "output_type": "stream",
     "text": [
      "The r-squared is: 0.004220403882200297\n"
     ]
    },
    {
     "data": {
      "image/png": "[encoded data removed]",
      "text/plain": [
       "<Figure size 432x288 with 1 Axes>"
      ]
     },
     "metadata": {
      "needs_background": "light"
     },
     "output_type": "display_data"
    }
   ],
   "source": [
    "liner_reg_func(df_s['Lat'],df_s['Wind Speed'])\n",
    "reg_annot((-30,20))"
   ]
  }
 ],
 "metadata": {
  "anaconda-cloud": {},
  "kernel_info": {
   "name": "python3"
  },
  "kernelspec": {
   "display_name": "Python 3",
   "language": "python",
   "name": "python3"
  },
  "language_info": {
   "codemirror_mode": {
    "name": "ipython",
    "version": 3
   },
   "file_extension": ".py",
   "mimetype": "text/x-python",
   "name": "python",
   "nbconvert_exporter": "python",
   "pygments_lexer": "ipython3",
   "version": "3.7.4"
  },
  "latex_envs": {
   "LaTeX_envs_menu_present": true,
   "autoclose": false,
   "autocomplete": true,
   "bibliofile": "biblio.bib",
   "cite_by": "apalike",
   "current_citInitial": 1,
   "eqLabelWithNumbers": true,
   "eqNumInitial": 1,
   "hotkeys": {
    "equation": "Ctrl-E",
    "itemize": "Ctrl-I"
   },
   "labels_anchors": false,
   "latex_user_defs": false,
   "report_style_numbering": false,
   "user_envs_cfg": false
  },
  "nteract": {
   "version": "0.12.3"
  }
 },
 "nbformat": 4,
 "nbformat_minor": 2
}
